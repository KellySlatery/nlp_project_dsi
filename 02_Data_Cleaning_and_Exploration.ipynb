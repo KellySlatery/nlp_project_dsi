{
 "cells": [
  {
   "cell_type": "markdown",
   "metadata": {},
   "source": [
    "# Project 3: Web APIs & NLP - 02"
   ]
  },
  {
   "cell_type": "markdown",
   "metadata": {},
   "source": [
    "Kelly Slatery | US-DSI-10 | 01.31.2020"
   ]
  },
  {
   "cell_type": "code",
   "execution_count": 1,
   "metadata": {},
   "outputs": [],
   "source": [
    "# Imports\n",
    "import numpy as np\n",
    "import pandas as pd\n",
    "import seaborn as sns\n",
    "import matplotlib.pyplot as plt\n",
    "\n",
    "%matplotlib inline"
   ]
  },
  {
   "cell_type": "markdown",
   "metadata": {},
   "source": [
    "# Clean data"
   ]
  },
  {
   "cell_type": "code",
   "execution_count": 2,
   "metadata": {},
   "outputs": [],
   "source": [
    "# Set viewing options\n",
    "pd.set_option('display.max_columns', 10000)"
   ]
  },
  {
   "cell_type": "markdown",
   "metadata": {},
   "source": [
    "### Decide which submissions data columns to use in analysis"
   ]
  },
  {
   "cell_type": "code",
   "execution_count": 3,
   "metadata": {},
   "outputs": [],
   "source": [
    "# Import beatles submissions (20,000)\n",
    "beatles_subs = pd.read_csv('./data/beatles_subs.csv', low_memory=False)"
   ]
  },
  {
   "cell_type": "code",
   "execution_count": 4,
   "metadata": {
    "scrolled": true
   },
   "outputs": [
    {
     "data": {
      "text/plain": [
       "Index(['all_awardings', 'allow_live_comments', 'author', 'author_cakeday',\n",
       "       'author_created_utc', 'author_flair_background_color',\n",
       "       'author_flair_css_class', 'author_flair_richtext',\n",
       "       'author_flair_template_id', 'author_flair_text',\n",
       "       'author_flair_text_color', 'author_flair_type', 'author_fullname',\n",
       "       'author_patreon_flair', 'author_premium', 'awarders', 'banned_by',\n",
       "       'can_mod_post', 'category', 'content_categories', 'contest_mode',\n",
       "       'created_utc', 'crosspost_parent', 'crosspost_parent_list', 'domain',\n",
       "       'edited', 'full_link', 'gilded', 'gildings', 'id', 'is_crosspostable',\n",
       "       'is_meta', 'is_original_content', 'is_reddit_media_domain',\n",
       "       'is_robot_indexable', 'is_self', 'is_video',\n",
       "       'link_flair_background_color', 'link_flair_css_class',\n",
       "       'link_flair_richtext', 'link_flair_template_id', 'link_flair_text',\n",
       "       'link_flair_text_color', 'link_flair_type', 'locked', 'media',\n",
       "       'media_embed', 'media_metadata', 'media_only', 'no_follow',\n",
       "       'num_comments', 'num_crossposts', 'og_description', 'og_title',\n",
       "       'over_18', 'parent_whitelist_status', 'permalink', 'pinned',\n",
       "       'post_hint', 'preview', 'pwls', 'removal_reason', 'removed_by',\n",
       "       'removed_by_category', 'retrieved_on', 'score', 'secure_media',\n",
       "       'secure_media_embed', 'selftext', 'send_replies', 'spoiler',\n",
       "       'steward_reports', 'stickied', 'subreddit', 'subreddit_id',\n",
       "       'subreddit_subscribers', 'subreddit_type', 'suggested_sort',\n",
       "       'thumbnail', 'thumbnail_height', 'thumbnail_width', 'title',\n",
       "       'total_awards_received', 'updated_utc', 'url', 'whitelist_status',\n",
       "       'wls'],\n",
       "      dtype='object')"
      ]
     },
     "execution_count": 4,
     "metadata": {},
     "output_type": "execute_result"
    }
   ],
   "source": [
    "# Look at columns to start deciding which columns to drop (not include in analysis)\n",
    "beatles_subs.columns"
   ]
  },
  {
   "cell_type": "code",
   "execution_count": 5,
   "metadata": {},
   "outputs": [
    {
     "data": {
      "text/html": [
       "<div>\n",
       "<style scoped>\n",
       "    .dataframe tbody tr th:only-of-type {\n",
       "        vertical-align: middle;\n",
       "    }\n",
       "\n",
       "    .dataframe tbody tr th {\n",
       "        vertical-align: top;\n",
       "    }\n",
       "\n",
       "    .dataframe thead th {\n",
       "        text-align: right;\n",
       "    }\n",
       "</style>\n",
       "<table border=\"1\" class=\"dataframe\">\n",
       "  <thead>\n",
       "    <tr style=\"text-align: right;\">\n",
       "      <th></th>\n",
       "      <th>all_awardings</th>\n",
       "      <th>allow_live_comments</th>\n",
       "      <th>author</th>\n",
       "      <th>author_cakeday</th>\n",
       "      <th>author_created_utc</th>\n",
       "      <th>author_flair_background_color</th>\n",
       "      <th>author_flair_css_class</th>\n",
       "      <th>author_flair_richtext</th>\n",
       "      <th>author_flair_template_id</th>\n",
       "      <th>author_flair_text</th>\n",
       "      <th>author_flair_text_color</th>\n",
       "      <th>author_flair_type</th>\n",
       "      <th>author_fullname</th>\n",
       "      <th>author_patreon_flair</th>\n",
       "      <th>author_premium</th>\n",
       "      <th>awarders</th>\n",
       "      <th>banned_by</th>\n",
       "      <th>can_mod_post</th>\n",
       "      <th>category</th>\n",
       "      <th>content_categories</th>\n",
       "      <th>contest_mode</th>\n",
       "      <th>created_utc</th>\n",
       "      <th>crosspost_parent</th>\n",
       "      <th>crosspost_parent_list</th>\n",
       "      <th>domain</th>\n",
       "      <th>edited</th>\n",
       "      <th>full_link</th>\n",
       "      <th>gilded</th>\n",
       "      <th>gildings</th>\n",
       "      <th>id</th>\n",
       "      <th>is_crosspostable</th>\n",
       "      <th>is_meta</th>\n",
       "      <th>is_original_content</th>\n",
       "      <th>is_reddit_media_domain</th>\n",
       "      <th>is_robot_indexable</th>\n",
       "      <th>is_self</th>\n",
       "      <th>is_video</th>\n",
       "      <th>link_flair_background_color</th>\n",
       "      <th>link_flair_css_class</th>\n",
       "      <th>link_flair_richtext</th>\n",
       "      <th>link_flair_template_id</th>\n",
       "      <th>link_flair_text</th>\n",
       "      <th>link_flair_text_color</th>\n",
       "      <th>link_flair_type</th>\n",
       "      <th>locked</th>\n",
       "      <th>media</th>\n",
       "      <th>media_embed</th>\n",
       "      <th>media_metadata</th>\n",
       "      <th>media_only</th>\n",
       "      <th>no_follow</th>\n",
       "      <th>num_comments</th>\n",
       "      <th>num_crossposts</th>\n",
       "      <th>og_description</th>\n",
       "      <th>og_title</th>\n",
       "      <th>over_18</th>\n",
       "      <th>parent_whitelist_status</th>\n",
       "      <th>permalink</th>\n",
       "      <th>pinned</th>\n",
       "      <th>post_hint</th>\n",
       "      <th>preview</th>\n",
       "      <th>pwls</th>\n",
       "      <th>removal_reason</th>\n",
       "      <th>removed_by</th>\n",
       "      <th>removed_by_category</th>\n",
       "      <th>retrieved_on</th>\n",
       "      <th>score</th>\n",
       "      <th>secure_media</th>\n",
       "      <th>secure_media_embed</th>\n",
       "      <th>selftext</th>\n",
       "      <th>send_replies</th>\n",
       "      <th>spoiler</th>\n",
       "      <th>steward_reports</th>\n",
       "      <th>stickied</th>\n",
       "      <th>subreddit</th>\n",
       "      <th>subreddit_id</th>\n",
       "      <th>subreddit_subscribers</th>\n",
       "      <th>subreddit_type</th>\n",
       "      <th>suggested_sort</th>\n",
       "      <th>thumbnail</th>\n",
       "      <th>thumbnail_height</th>\n",
       "      <th>thumbnail_width</th>\n",
       "      <th>title</th>\n",
       "      <th>total_awards_received</th>\n",
       "      <th>updated_utc</th>\n",
       "      <th>url</th>\n",
       "      <th>whitelist_status</th>\n",
       "      <th>wls</th>\n",
       "    </tr>\n",
       "  </thead>\n",
       "  <tbody>\n",
       "    <tr>\n",
       "      <th>0</th>\n",
       "      <td>8776</td>\n",
       "      <td>11119</td>\n",
       "      <td>0</td>\n",
       "      <td>19913</td>\n",
       "      <td>19999</td>\n",
       "      <td>18383</td>\n",
       "      <td>16705</td>\n",
       "      <td>39</td>\n",
       "      <td>16501</td>\n",
       "      <td>15122</td>\n",
       "      <td>15087</td>\n",
       "      <td>39</td>\n",
       "      <td>39</td>\n",
       "      <td>1770</td>\n",
       "      <td>17646</td>\n",
       "      <td>14571</td>\n",
       "      <td>19999</td>\n",
       "      <td>0</td>\n",
       "      <td>20000</td>\n",
       "      <td>20000</td>\n",
       "      <td>0</td>\n",
       "      <td>0</td>\n",
       "      <td>19287</td>\n",
       "      <td>19287</td>\n",
       "      <td>1</td>\n",
       "      <td>19993</td>\n",
       "      <td>0</td>\n",
       "      <td>18854</td>\n",
       "      <td>868</td>\n",
       "      <td>0</td>\n",
       "      <td>0</td>\n",
       "      <td>0</td>\n",
       "      <td>0</td>\n",
       "      <td>0</td>\n",
       "      <td>1223</td>\n",
       "      <td>0</td>\n",
       "      <td>0</td>\n",
       "      <td>9053</td>\n",
       "      <td>20000</td>\n",
       "      <td>0</td>\n",
       "      <td>9053</td>\n",
       "      <td>9053</td>\n",
       "      <td>0</td>\n",
       "      <td>0</td>\n",
       "      <td>0</td>\n",
       "      <td>18783</td>\n",
       "      <td>18799</td>\n",
       "      <td>19880</td>\n",
       "      <td>0</td>\n",
       "      <td>0</td>\n",
       "      <td>0</td>\n",
       "      <td>0</td>\n",
       "      <td>19998</td>\n",
       "      <td>19998</td>\n",
       "      <td>0</td>\n",
       "      <td>0</td>\n",
       "      <td>0</td>\n",
       "      <td>0</td>\n",
       "      <td>13881</td>\n",
       "      <td>13881</td>\n",
       "      <td>0</td>\n",
       "      <td>20000</td>\n",
       "      <td>19969</td>\n",
       "      <td>19907</td>\n",
       "      <td>0</td>\n",
       "      <td>0</td>\n",
       "      <td>18783</td>\n",
       "      <td>18799</td>\n",
       "      <td>13975</td>\n",
       "      <td>0</td>\n",
       "      <td>0</td>\n",
       "      <td>13982</td>\n",
       "      <td>0</td>\n",
       "      <td>0</td>\n",
       "      <td>0</td>\n",
       "      <td>0</td>\n",
       "      <td>0</td>\n",
       "      <td>20000</td>\n",
       "      <td>0</td>\n",
       "      <td>14085</td>\n",
       "      <td>14085</td>\n",
       "      <td>0</td>\n",
       "      <td>8776</td>\n",
       "      <td>9845</td>\n",
       "      <td>0</td>\n",
       "      <td>0</td>\n",
       "      <td>0</td>\n",
       "    </tr>\n",
       "  </tbody>\n",
       "</table>\n",
       "</div>"
      ],
      "text/plain": [
       "   all_awardings  allow_live_comments  author  author_cakeday  \\\n",
       "0           8776                11119       0           19913   \n",
       "\n",
       "   author_created_utc  author_flair_background_color  author_flair_css_class  \\\n",
       "0               19999                          18383                   16705   \n",
       "\n",
       "   author_flair_richtext  author_flair_template_id  author_flair_text  \\\n",
       "0                     39                     16501              15122   \n",
       "\n",
       "   author_flair_text_color  author_flair_type  author_fullname  \\\n",
       "0                    15087                 39               39   \n",
       "\n",
       "   author_patreon_flair  author_premium  awarders  banned_by  can_mod_post  \\\n",
       "0                  1770           17646     14571      19999             0   \n",
       "\n",
       "   category  content_categories  contest_mode  created_utc  crosspost_parent  \\\n",
       "0     20000               20000             0            0             19287   \n",
       "\n",
       "   crosspost_parent_list  domain  edited  full_link  gilded  gildings  id  \\\n",
       "0                  19287       1   19993          0   18854       868   0   \n",
       "\n",
       "   is_crosspostable  is_meta  is_original_content  is_reddit_media_domain  \\\n",
       "0                 0        0                    0                       0   \n",
       "\n",
       "   is_robot_indexable  is_self  is_video  link_flair_background_color  \\\n",
       "0                1223        0         0                         9053   \n",
       "\n",
       "   link_flair_css_class  link_flair_richtext  link_flair_template_id  \\\n",
       "0                 20000                    0                    9053   \n",
       "\n",
       "   link_flair_text  link_flair_text_color  link_flair_type  locked  media  \\\n",
       "0             9053                      0                0       0  18783   \n",
       "\n",
       "   media_embed  media_metadata  media_only  no_follow  num_comments  \\\n",
       "0        18799           19880           0          0             0   \n",
       "\n",
       "   num_crossposts  og_description  og_title  over_18  parent_whitelist_status  \\\n",
       "0               0           19998     19998        0                        0   \n",
       "\n",
       "   permalink  pinned  post_hint  preview  pwls  removal_reason  removed_by  \\\n",
       "0          0       0      13881    13881     0           20000       19969   \n",
       "\n",
       "   removed_by_category  retrieved_on  score  secure_media  secure_media_embed  \\\n",
       "0                19907             0      0         18783               18799   \n",
       "\n",
       "   selftext  send_replies  spoiler  steward_reports  stickied  subreddit  \\\n",
       "0     13975             0        0            13982         0          0   \n",
       "\n",
       "   subreddit_id  subreddit_subscribers  subreddit_type  suggested_sort  \\\n",
       "0             0                      0               0           20000   \n",
       "\n",
       "   thumbnail  thumbnail_height  thumbnail_width  title  total_awards_received  \\\n",
       "0          0             14085            14085      0                   8776   \n",
       "\n",
       "   updated_utc  url  whitelist_status  wls  \n",
       "0         9845    0                 0    0  "
      ]
     },
     "execution_count": 5,
     "metadata": {},
     "output_type": "execute_result"
    }
   ],
   "source": [
    "# Look for nulls to see which columns do not hold enough data to be valuable\n",
    "pd.DataFrame(beatles_subs.isnull().sum()).T"
   ]
  },
  {
   "cell_type": "code",
   "execution_count": 6,
   "metadata": {},
   "outputs": [
    {
     "data": {
      "text/plain": [
       "['author_cakeday',\n",
       " 'author_created_utc',\n",
       " 'banned_by',\n",
       " 'category',\n",
       " 'content_categories',\n",
       " 'crosspost_parent',\n",
       " 'crosspost_parent_list',\n",
       " 'edited',\n",
       " 'link_flair_css_class',\n",
       " 'media_metadata',\n",
       " 'og_description',\n",
       " 'og_title',\n",
       " 'removal_reason',\n",
       " 'removed_by',\n",
       " 'removed_by_category',\n",
       " 'suggested_sort']"
      ]
     },
     "execution_count": 6,
     "metadata": {},
     "output_type": "execute_result"
    }
   ],
   "source": [
    "# Make a list of all columns with >19,000 null values\n",
    "cols_to_drop = []\n",
    "for col in beatles_subs.columns:\n",
    "    if beatles_subs[col].isnull().sum() > 19000:\n",
    "        cols_to_drop.append(col)\n",
    "cols_to_drop"
   ]
  },
  {
   "cell_type": "code",
   "execution_count": 7,
   "metadata": {},
   "outputs": [
    {
     "data": {
      "text/plain": [
       "35"
      ]
     },
     "execution_count": 7,
     "metadata": {},
     "output_type": "execute_result"
    }
   ],
   "source": [
    "# See how many columns have less than half their data\n",
    "maybe_cols_to_drop = []\n",
    "for col in beatles_subs.columns:\n",
    "    if beatles_subs[col].isnull().sum() > 10000:\n",
    "        maybe_cols_to_drop.append(col)\n",
    "len(maybe_cols_to_drop)       "
   ]
  },
  {
   "cell_type": "code",
   "execution_count": 8,
   "metadata": {
    "scrolled": true
   },
   "outputs": [
    {
     "data": {
      "text/html": [
       "<div>\n",
       "<style scoped>\n",
       "    .dataframe tbody tr th:only-of-type {\n",
       "        vertical-align: middle;\n",
       "    }\n",
       "\n",
       "    .dataframe tbody tr th {\n",
       "        vertical-align: top;\n",
       "    }\n",
       "\n",
       "    .dataframe thead th {\n",
       "        text-align: right;\n",
       "    }\n",
       "</style>\n",
       "<table border=\"1\" class=\"dataframe\">\n",
       "  <thead>\n",
       "    <tr style=\"text-align: right;\">\n",
       "      <th></th>\n",
       "      <th>allow_live_comments</th>\n",
       "      <th>author_cakeday</th>\n",
       "      <th>author_created_utc</th>\n",
       "      <th>author_flair_background_color</th>\n",
       "      <th>author_flair_css_class</th>\n",
       "      <th>author_flair_template_id</th>\n",
       "      <th>author_flair_text</th>\n",
       "      <th>author_flair_text_color</th>\n",
       "      <th>author_premium</th>\n",
       "      <th>awarders</th>\n",
       "      <th>banned_by</th>\n",
       "      <th>category</th>\n",
       "      <th>content_categories</th>\n",
       "      <th>crosspost_parent</th>\n",
       "      <th>crosspost_parent_list</th>\n",
       "      <th>edited</th>\n",
       "      <th>gilded</th>\n",
       "      <th>link_flair_css_class</th>\n",
       "      <th>media</th>\n",
       "      <th>media_embed</th>\n",
       "      <th>media_metadata</th>\n",
       "      <th>og_description</th>\n",
       "      <th>og_title</th>\n",
       "      <th>post_hint</th>\n",
       "      <th>preview</th>\n",
       "      <th>removal_reason</th>\n",
       "      <th>removed_by</th>\n",
       "      <th>removed_by_category</th>\n",
       "      <th>secure_media</th>\n",
       "      <th>secure_media_embed</th>\n",
       "      <th>selftext</th>\n",
       "      <th>steward_reports</th>\n",
       "      <th>suggested_sort</th>\n",
       "      <th>thumbnail_height</th>\n",
       "      <th>thumbnail_width</th>\n",
       "    </tr>\n",
       "  </thead>\n",
       "  <tbody>\n",
       "    <tr>\n",
       "      <th>0</th>\n",
       "      <td>False</td>\n",
       "      <td>NaN</td>\n",
       "      <td>NaN</td>\n",
       "      <td>NaN</td>\n",
       "      <td>NaN</td>\n",
       "      <td>NaN</td>\n",
       "      <td>NaN</td>\n",
       "      <td>NaN</td>\n",
       "      <td>False</td>\n",
       "      <td>[]</td>\n",
       "      <td>NaN</td>\n",
       "      <td>NaN</td>\n",
       "      <td>NaN</td>\n",
       "      <td>NaN</td>\n",
       "      <td>NaN</td>\n",
       "      <td>NaN</td>\n",
       "      <td>NaN</td>\n",
       "      <td>NaN</td>\n",
       "      <td>NaN</td>\n",
       "      <td>NaN</td>\n",
       "      <td>NaN</td>\n",
       "      <td>NaN</td>\n",
       "      <td>NaN</td>\n",
       "      <td>image</td>\n",
       "      <td>{'enabled': True, 'images': [{'id': '23Mlv0PCf...</td>\n",
       "      <td>NaN</td>\n",
       "      <td>NaN</td>\n",
       "      <td>NaN</td>\n",
       "      <td>NaN</td>\n",
       "      <td>NaN</td>\n",
       "      <td>NaN</td>\n",
       "      <td>NaN</td>\n",
       "      <td>NaN</td>\n",
       "      <td>140.0</td>\n",
       "      <td>140.0</td>\n",
       "    </tr>\n",
       "    <tr>\n",
       "      <th>1</th>\n",
       "      <td>False</td>\n",
       "      <td>NaN</td>\n",
       "      <td>NaN</td>\n",
       "      <td>NaN</td>\n",
       "      <td>NaN</td>\n",
       "      <td>NaN</td>\n",
       "      <td>NaN</td>\n",
       "      <td>NaN</td>\n",
       "      <td>False</td>\n",
       "      <td>[]</td>\n",
       "      <td>NaN</td>\n",
       "      <td>NaN</td>\n",
       "      <td>NaN</td>\n",
       "      <td>NaN</td>\n",
       "      <td>NaN</td>\n",
       "      <td>NaN</td>\n",
       "      <td>NaN</td>\n",
       "      <td>NaN</td>\n",
       "      <td>NaN</td>\n",
       "      <td>NaN</td>\n",
       "      <td>NaN</td>\n",
       "      <td>NaN</td>\n",
       "      <td>NaN</td>\n",
       "      <td>image</td>\n",
       "      <td>{'enabled': True, 'images': [{'id': 'lvtwySZeM...</td>\n",
       "      <td>NaN</td>\n",
       "      <td>NaN</td>\n",
       "      <td>NaN</td>\n",
       "      <td>NaN</td>\n",
       "      <td>NaN</td>\n",
       "      <td>NaN</td>\n",
       "      <td>NaN</td>\n",
       "      <td>NaN</td>\n",
       "      <td>93.0</td>\n",
       "      <td>140.0</td>\n",
       "    </tr>\n",
       "    <tr>\n",
       "      <th>2</th>\n",
       "      <td>False</td>\n",
       "      <td>NaN</td>\n",
       "      <td>NaN</td>\n",
       "      <td>NaN</td>\n",
       "      <td>NaN</td>\n",
       "      <td>NaN</td>\n",
       "      <td>NaN</td>\n",
       "      <td>NaN</td>\n",
       "      <td>False</td>\n",
       "      <td>[]</td>\n",
       "      <td>NaN</td>\n",
       "      <td>NaN</td>\n",
       "      <td>NaN</td>\n",
       "      <td>NaN</td>\n",
       "      <td>NaN</td>\n",
       "      <td>NaN</td>\n",
       "      <td>NaN</td>\n",
       "      <td>NaN</td>\n",
       "      <td>NaN</td>\n",
       "      <td>NaN</td>\n",
       "      <td>NaN</td>\n",
       "      <td>NaN</td>\n",
       "      <td>NaN</td>\n",
       "      <td>NaN</td>\n",
       "      <td>NaN</td>\n",
       "      <td>NaN</td>\n",
       "      <td>NaN</td>\n",
       "      <td>NaN</td>\n",
       "      <td>NaN</td>\n",
       "      <td>NaN</td>\n",
       "      <td>NaN</td>\n",
       "      <td>NaN</td>\n",
       "      <td>NaN</td>\n",
       "      <td>NaN</td>\n",
       "      <td>NaN</td>\n",
       "    </tr>\n",
       "    <tr>\n",
       "      <th>3</th>\n",
       "      <td>False</td>\n",
       "      <td>NaN</td>\n",
       "      <td>NaN</td>\n",
       "      <td>NaN</td>\n",
       "      <td>NaN</td>\n",
       "      <td>NaN</td>\n",
       "      <td>NaN</td>\n",
       "      <td>NaN</td>\n",
       "      <td>False</td>\n",
       "      <td>[]</td>\n",
       "      <td>NaN</td>\n",
       "      <td>NaN</td>\n",
       "      <td>NaN</td>\n",
       "      <td>NaN</td>\n",
       "      <td>NaN</td>\n",
       "      <td>NaN</td>\n",
       "      <td>NaN</td>\n",
       "      <td>NaN</td>\n",
       "      <td>NaN</td>\n",
       "      <td>NaN</td>\n",
       "      <td>NaN</td>\n",
       "      <td>NaN</td>\n",
       "      <td>NaN</td>\n",
       "      <td>NaN</td>\n",
       "      <td>NaN</td>\n",
       "      <td>NaN</td>\n",
       "      <td>NaN</td>\n",
       "      <td>NaN</td>\n",
       "      <td>NaN</td>\n",
       "      <td>NaN</td>\n",
       "      <td>NaN</td>\n",
       "      <td>NaN</td>\n",
       "      <td>NaN</td>\n",
       "      <td>NaN</td>\n",
       "      <td>NaN</td>\n",
       "    </tr>\n",
       "    <tr>\n",
       "      <th>4</th>\n",
       "      <td>False</td>\n",
       "      <td>NaN</td>\n",
       "      <td>NaN</td>\n",
       "      <td>NaN</td>\n",
       "      <td>NaN</td>\n",
       "      <td>NaN</td>\n",
       "      <td>NaN</td>\n",
       "      <td>NaN</td>\n",
       "      <td>False</td>\n",
       "      <td>[]</td>\n",
       "      <td>NaN</td>\n",
       "      <td>NaN</td>\n",
       "      <td>NaN</td>\n",
       "      <td>NaN</td>\n",
       "      <td>NaN</td>\n",
       "      <td>NaN</td>\n",
       "      <td>NaN</td>\n",
       "      <td>NaN</td>\n",
       "      <td>NaN</td>\n",
       "      <td>NaN</td>\n",
       "      <td>NaN</td>\n",
       "      <td>NaN</td>\n",
       "      <td>NaN</td>\n",
       "      <td>image</td>\n",
       "      <td>{'enabled': True, 'images': [{'id': 'TiEizwPGG...</td>\n",
       "      <td>NaN</td>\n",
       "      <td>NaN</td>\n",
       "      <td>NaN</td>\n",
       "      <td>NaN</td>\n",
       "      <td>NaN</td>\n",
       "      <td>NaN</td>\n",
       "      <td>NaN</td>\n",
       "      <td>NaN</td>\n",
       "      <td>99.0</td>\n",
       "      <td>140.0</td>\n",
       "    </tr>\n",
       "  </tbody>\n",
       "</table>\n",
       "</div>"
      ],
      "text/plain": [
       "  allow_live_comments author_cakeday  author_created_utc  \\\n",
       "0               False            NaN                 NaN   \n",
       "1               False            NaN                 NaN   \n",
       "2               False            NaN                 NaN   \n",
       "3               False            NaN                 NaN   \n",
       "4               False            NaN                 NaN   \n",
       "\n",
       "  author_flair_background_color author_flair_css_class  \\\n",
       "0                           NaN                    NaN   \n",
       "1                           NaN                    NaN   \n",
       "2                           NaN                    NaN   \n",
       "3                           NaN                    NaN   \n",
       "4                           NaN                    NaN   \n",
       "\n",
       "  author_flair_template_id author_flair_text author_flair_text_color  \\\n",
       "0                      NaN               NaN                     NaN   \n",
       "1                      NaN               NaN                     NaN   \n",
       "2                      NaN               NaN                     NaN   \n",
       "3                      NaN               NaN                     NaN   \n",
       "4                      NaN               NaN                     NaN   \n",
       "\n",
       "  author_premium awarders banned_by  category  content_categories  \\\n",
       "0          False       []       NaN       NaN                 NaN   \n",
       "1          False       []       NaN       NaN                 NaN   \n",
       "2          False       []       NaN       NaN                 NaN   \n",
       "3          False       []       NaN       NaN                 NaN   \n",
       "4          False       []       NaN       NaN                 NaN   \n",
       "\n",
       "  crosspost_parent crosspost_parent_list  edited  gilded  \\\n",
       "0              NaN                   NaN     NaN     NaN   \n",
       "1              NaN                   NaN     NaN     NaN   \n",
       "2              NaN                   NaN     NaN     NaN   \n",
       "3              NaN                   NaN     NaN     NaN   \n",
       "4              NaN                   NaN     NaN     NaN   \n",
       "\n",
       "   link_flair_css_class media media_embed media_metadata og_description  \\\n",
       "0                   NaN   NaN         NaN            NaN            NaN   \n",
       "1                   NaN   NaN         NaN            NaN            NaN   \n",
       "2                   NaN   NaN         NaN            NaN            NaN   \n",
       "3                   NaN   NaN         NaN            NaN            NaN   \n",
       "4                   NaN   NaN         NaN            NaN            NaN   \n",
       "\n",
       "  og_title post_hint                                            preview  \\\n",
       "0      NaN     image  {'enabled': True, 'images': [{'id': '23Mlv0PCf...   \n",
       "1      NaN     image  {'enabled': True, 'images': [{'id': 'lvtwySZeM...   \n",
       "2      NaN       NaN                                                NaN   \n",
       "3      NaN       NaN                                                NaN   \n",
       "4      NaN     image  {'enabled': True, 'images': [{'id': 'TiEizwPGG...   \n",
       "\n",
       "   removal_reason removed_by removed_by_category secure_media  \\\n",
       "0             NaN        NaN                 NaN          NaN   \n",
       "1             NaN        NaN                 NaN          NaN   \n",
       "2             NaN        NaN                 NaN          NaN   \n",
       "3             NaN        NaN                 NaN          NaN   \n",
       "4             NaN        NaN                 NaN          NaN   \n",
       "\n",
       "  secure_media_embed selftext steward_reports  suggested_sort  \\\n",
       "0                NaN      NaN             NaN             NaN   \n",
       "1                NaN      NaN             NaN             NaN   \n",
       "2                NaN      NaN             NaN             NaN   \n",
       "3                NaN      NaN             NaN             NaN   \n",
       "4                NaN      NaN             NaN             NaN   \n",
       "\n",
       "   thumbnail_height  thumbnail_width  \n",
       "0             140.0            140.0  \n",
       "1              93.0            140.0  \n",
       "2               NaN              NaN  \n",
       "3               NaN              NaN  \n",
       "4              99.0            140.0  "
      ]
     },
     "execution_count": 8,
     "metadata": {},
     "output_type": "execute_result"
    }
   ],
   "source": [
    "# Look at these columns to see if information looks valuable\n",
    "beatles_subs[maybe_cols_to_drop].head()"
   ]
  },
  {
   "cell_type": "markdown",
   "metadata": {},
   "source": [
    "The column, 'selftext', which is basically the extra content of the post, is in this list! Look more closely at what these columns offer before removing all of them."
   ]
  },
  {
   "cell_type": "code",
   "execution_count": 9,
   "metadata": {},
   "outputs": [
    {
     "data": {
      "text/plain": [
       "33"
      ]
     },
     "execution_count": 9,
     "metadata": {},
     "output_type": "execute_result"
    }
   ],
   "source": [
    "# Make a list of columns from the maybe_cols_to_drop list NOT to drop\n",
    "not_dropping = ['selftext', 'author_flair_text']\n",
    "for col in not_dropping:\n",
    "    maybe_cols_to_drop.remove(col)\n",
    "len(maybe_cols_to_drop)"
   ]
  },
  {
   "cell_type": "code",
   "execution_count": 10,
   "metadata": {},
   "outputs": [],
   "source": [
    "# Permanently drop 33 columns\n",
    "clean_beatles_subs = beatles_subs.drop(columns=maybe_cols_to_drop)"
   ]
  },
  {
   "cell_type": "code",
   "execution_count": 11,
   "metadata": {},
   "outputs": [
    {
     "data": {
      "text/plain": [
       "Index(['all_awardings', 'author', 'author_flair_richtext', 'author_flair_text',\n",
       "       'author_flair_type', 'author_fullname', 'author_patreon_flair',\n",
       "       'can_mod_post', 'contest_mode', 'created_utc', 'domain', 'full_link',\n",
       "       'gildings', 'id', 'is_crosspostable', 'is_meta', 'is_original_content',\n",
       "       'is_reddit_media_domain', 'is_robot_indexable', 'is_self', 'is_video',\n",
       "       'link_flair_background_color', 'link_flair_richtext',\n",
       "       'link_flair_template_id', 'link_flair_text', 'link_flair_text_color',\n",
       "       'link_flair_type', 'locked', 'media_only', 'no_follow', 'num_comments',\n",
       "       'num_crossposts', 'over_18', 'parent_whitelist_status', 'permalink',\n",
       "       'pinned', 'pwls', 'retrieved_on', 'score', 'selftext', 'send_replies',\n",
       "       'spoiler', 'stickied', 'subreddit', 'subreddit_id',\n",
       "       'subreddit_subscribers', 'subreddit_type', 'thumbnail', 'title',\n",
       "       'total_awards_received', 'updated_utc', 'url', 'whitelist_status',\n",
       "       'wls'],\n",
       "      dtype='object')"
      ]
     },
     "execution_count": 11,
     "metadata": {},
     "output_type": "execute_result"
    }
   ],
   "source": [
    "# Look at list of remaining columns to see if anything else may be helpful\n",
    "clean_beatles_subs.columns"
   ]
  },
  {
   "cell_type": "code",
   "execution_count": 12,
   "metadata": {},
   "outputs": [
    {
     "data": {
      "text/plain": [
       "1       10041\n",
       "0         969\n",
       "2         754\n",
       "3         639\n",
       "5         497\n",
       "        ...  \n",
       "1000        1\n",
       "1032        1\n",
       "1128        1\n",
       "1192        1\n",
       "1359        1\n",
       "Name: score, Length: 757, dtype: int64"
      ]
     },
     "execution_count": 12,
     "metadata": {},
     "output_type": "execute_result"
    }
   ],
   "source": [
    "# See if 'score' (popularity of post) might be valuable\n",
    "clean_beatles_subs['score'].value_counts()"
   ]
  },
  {
   "cell_type": "markdown",
   "metadata": {},
   "source": [
    "### Drop unnecessary columns in Beatles submissions"
   ]
  },
  {
   "cell_type": "code",
   "execution_count": 13,
   "metadata": {},
   "outputs": [
    {
     "data": {
      "text/plain": [
       "(20000, 7)"
      ]
     },
     "execution_count": 13,
     "metadata": {},
     "output_type": "execute_result"
    }
   ],
   "source": [
    "# Drop all columns not to be used in analysis \n",
    "cols_to_keep = ['subreddit', \n",
    "                'author', \n",
    "                'author_flair_text', \n",
    "                'selftext', \n",
    "                'title', \n",
    "                'created_utc', \n",
    "                'score']\n",
    "\n",
    "clean_beatles_subs.drop(columns=[col for col in clean_beatles_subs.columns if col not in cols_to_keep], \n",
    "                        inplace=True)\n",
    "\n",
    "# Check size of new dataframe\n",
    "clean_beatles_subs.shape"
   ]
  },
  {
   "cell_type": "markdown",
   "metadata": {},
   "source": [
    "### Drop unnecessary columns in Queen submissions"
   ]
  },
  {
   "cell_type": "code",
   "execution_count": 14,
   "metadata": {},
   "outputs": [],
   "source": [
    "# Import queen submissions (20,000)\n",
    "queen_subs = pd.read_csv('./data/queen_subs.csv', low_memory=False)"
   ]
  },
  {
   "cell_type": "code",
   "execution_count": 15,
   "metadata": {},
   "outputs": [
    {
     "data": {
      "text/plain": [
       "(20000, 7)"
      ]
     },
     "execution_count": 15,
     "metadata": {},
     "output_type": "execute_result"
    }
   ],
   "source": [
    "# Drop all columns not to be used in analysis \n",
    "cols_to_keep = ['subreddit', \n",
    "                'author', \n",
    "                'author_flair_text', \n",
    "                'selftext', \n",
    "                'title', \n",
    "                'created_utc', \n",
    "                'score']\n",
    "\n",
    "clean_queen_subs = queen_subs.drop(columns=[col for col in queen_subs.columns if col not in cols_to_keep])\n",
    "\n",
    "# Check size of new dataframe\n",
    "clean_queen_subs.shape"
   ]
  },
  {
   "cell_type": "markdown",
   "metadata": {},
   "source": [
    "### Decide which comments data columns to use in analysis"
   ]
  },
  {
   "cell_type": "code",
   "execution_count": 16,
   "metadata": {},
   "outputs": [],
   "source": [
    "# Import beatles comments (20,000)\n",
    "beatles_coms = pd.read_csv('./data/beatles_coms.csv', low_memory=False)"
   ]
  },
  {
   "cell_type": "code",
   "execution_count": 17,
   "metadata": {
    "scrolled": true
   },
   "outputs": [
    {
     "data": {
      "text/plain": [
       "Index(['all_awardings', 'allow_live_comments', 'associated_award', 'author',\n",
       "       'author_cakeday', 'author_created_utc', 'author_flair_background_color',\n",
       "       'author_flair_css_class', 'author_flair_richtext',\n",
       "       'author_flair_template_id', 'author_flair_text',\n",
       "       'author_flair_text_color', 'author_flair_type', 'author_fullname',\n",
       "       'author_patreon_flair', 'author_premium', 'awarders', 'banned_by',\n",
       "       'body', 'can_mod_post', 'category', 'collapsed_because_crowd_control',\n",
       "       'content_categories', 'contest_mode', 'created_utc', 'crosspost_parent',\n",
       "       'crosspost_parent_list', 'domain', 'edited', 'full_link', 'gilded',\n",
       "       'gildings', 'id', 'is_crosspostable', 'is_meta', 'is_original_content',\n",
       "       'is_reddit_media_domain', 'is_robot_indexable', 'is_self',\n",
       "       'is_submitter', 'is_video', 'link_flair_background_color',\n",
       "       'link_flair_css_class', 'link_flair_richtext', 'link_flair_template_id',\n",
       "       'link_flair_text', 'link_flair_text_color', 'link_flair_type',\n",
       "       'link_id', 'locked', 'media', 'media_embed', 'media_metadata',\n",
       "       'media_only', 'no_follow', 'num_comments', 'num_crossposts',\n",
       "       'og_description', 'og_title', 'over_18', 'parent_id',\n",
       "       'parent_whitelist_status', 'permalink', 'pinned', 'post_hint',\n",
       "       'preview', 'pwls', 'removal_reason', 'removed_by',\n",
       "       'removed_by_category', 'retrieved_on', 'score', 'secure_media',\n",
       "       'secure_media_embed', 'selftext', 'send_replies', 'spoiler',\n",
       "       'steward_reports', 'stickied', 'subreddit', 'subreddit_id',\n",
       "       'subreddit_subscribers', 'subreddit_type', 'suggested_sort',\n",
       "       'thumbnail', 'thumbnail_height', 'thumbnail_width', 'title',\n",
       "       'total_awards_received', 'updated_utc', 'url', 'whitelist_status',\n",
       "       'wls'],\n",
       "      dtype='object')"
      ]
     },
     "execution_count": 17,
     "metadata": {},
     "output_type": "execute_result"
    }
   ],
   "source": [
    "# Look at columns to start deciding which columns to drop (not include in analysis)\n",
    "beatles_coms.columns"
   ]
  },
  {
   "cell_type": "code",
   "execution_count": 18,
   "metadata": {},
   "outputs": [
    {
     "data": {
      "text/html": [
       "<div>\n",
       "<style scoped>\n",
       "    .dataframe tbody tr th:only-of-type {\n",
       "        vertical-align: middle;\n",
       "    }\n",
       "\n",
       "    .dataframe tbody tr th {\n",
       "        vertical-align: top;\n",
       "    }\n",
       "\n",
       "    .dataframe thead th {\n",
       "        text-align: right;\n",
       "    }\n",
       "</style>\n",
       "<table border=\"1\" class=\"dataframe\">\n",
       "  <thead>\n",
       "    <tr style=\"text-align: right;\">\n",
       "      <th></th>\n",
       "      <th>all_awardings</th>\n",
       "      <th>allow_live_comments</th>\n",
       "      <th>associated_award</th>\n",
       "      <th>author</th>\n",
       "      <th>author_cakeday</th>\n",
       "      <th>author_created_utc</th>\n",
       "      <th>author_flair_background_color</th>\n",
       "      <th>author_flair_css_class</th>\n",
       "      <th>author_flair_richtext</th>\n",
       "      <th>author_flair_template_id</th>\n",
       "      <th>author_flair_text</th>\n",
       "      <th>author_flair_text_color</th>\n",
       "      <th>author_flair_type</th>\n",
       "      <th>author_fullname</th>\n",
       "      <th>author_patreon_flair</th>\n",
       "      <th>author_premium</th>\n",
       "      <th>awarders</th>\n",
       "      <th>banned_by</th>\n",
       "      <th>body</th>\n",
       "      <th>can_mod_post</th>\n",
       "      <th>category</th>\n",
       "      <th>collapsed_because_crowd_control</th>\n",
       "      <th>content_categories</th>\n",
       "      <th>contest_mode</th>\n",
       "      <th>created_utc</th>\n",
       "      <th>crosspost_parent</th>\n",
       "      <th>crosspost_parent_list</th>\n",
       "      <th>domain</th>\n",
       "      <th>edited</th>\n",
       "      <th>full_link</th>\n",
       "      <th>gilded</th>\n",
       "      <th>gildings</th>\n",
       "      <th>id</th>\n",
       "      <th>is_crosspostable</th>\n",
       "      <th>is_meta</th>\n",
       "      <th>is_original_content</th>\n",
       "      <th>is_reddit_media_domain</th>\n",
       "      <th>is_robot_indexable</th>\n",
       "      <th>is_self</th>\n",
       "      <th>is_submitter</th>\n",
       "      <th>is_video</th>\n",
       "      <th>link_flair_background_color</th>\n",
       "      <th>link_flair_css_class</th>\n",
       "      <th>link_flair_richtext</th>\n",
       "      <th>link_flair_template_id</th>\n",
       "      <th>link_flair_text</th>\n",
       "      <th>link_flair_text_color</th>\n",
       "      <th>link_flair_type</th>\n",
       "      <th>link_id</th>\n",
       "      <th>locked</th>\n",
       "      <th>media</th>\n",
       "      <th>media_embed</th>\n",
       "      <th>media_metadata</th>\n",
       "      <th>media_only</th>\n",
       "      <th>no_follow</th>\n",
       "      <th>num_comments</th>\n",
       "      <th>num_crossposts</th>\n",
       "      <th>og_description</th>\n",
       "      <th>og_title</th>\n",
       "      <th>over_18</th>\n",
       "      <th>parent_id</th>\n",
       "      <th>parent_whitelist_status</th>\n",
       "      <th>permalink</th>\n",
       "      <th>pinned</th>\n",
       "      <th>post_hint</th>\n",
       "      <th>preview</th>\n",
       "      <th>pwls</th>\n",
       "      <th>removal_reason</th>\n",
       "      <th>removed_by</th>\n",
       "      <th>removed_by_category</th>\n",
       "      <th>retrieved_on</th>\n",
       "      <th>score</th>\n",
       "      <th>secure_media</th>\n",
       "      <th>secure_media_embed</th>\n",
       "      <th>selftext</th>\n",
       "      <th>send_replies</th>\n",
       "      <th>spoiler</th>\n",
       "      <th>steward_reports</th>\n",
       "      <th>stickied</th>\n",
       "      <th>subreddit</th>\n",
       "      <th>subreddit_id</th>\n",
       "      <th>subreddit_subscribers</th>\n",
       "      <th>subreddit_type</th>\n",
       "      <th>suggested_sort</th>\n",
       "      <th>thumbnail</th>\n",
       "      <th>thumbnail_height</th>\n",
       "      <th>thumbnail_width</th>\n",
       "      <th>title</th>\n",
       "      <th>total_awards_received</th>\n",
       "      <th>updated_utc</th>\n",
       "      <th>url</th>\n",
       "      <th>whitelist_status</th>\n",
       "      <th>wls</th>\n",
       "    </tr>\n",
       "  </thead>\n",
       "  <tbody>\n",
       "    <tr>\n",
       "      <th>0</th>\n",
       "      <td>8343</td>\n",
       "      <td>11186</td>\n",
       "      <td>20000</td>\n",
       "      <td>0</td>\n",
       "      <td>19912</td>\n",
       "      <td>19999</td>\n",
       "      <td>18303</td>\n",
       "      <td>16762</td>\n",
       "      <td>55</td>\n",
       "      <td>16446</td>\n",
       "      <td>15097</td>\n",
       "      <td>15046</td>\n",
       "      <td>55</td>\n",
       "      <td>55</td>\n",
       "      <td>1354</td>\n",
       "      <td>17230</td>\n",
       "      <td>14138</td>\n",
       "      <td>19999</td>\n",
       "      <td>19500</td>\n",
       "      <td>500</td>\n",
       "      <td>20000</td>\n",
       "      <td>20000</td>\n",
       "      <td>20000</td>\n",
       "      <td>500</td>\n",
       "      <td>0</td>\n",
       "      <td>19305</td>\n",
       "      <td>19305</td>\n",
       "      <td>501</td>\n",
       "      <td>19991</td>\n",
       "      <td>500</td>\n",
       "      <td>19287</td>\n",
       "      <td>435</td>\n",
       "      <td>0</td>\n",
       "      <td>500</td>\n",
       "      <td>500</td>\n",
       "      <td>500</td>\n",
       "      <td>500</td>\n",
       "      <td>1290</td>\n",
       "      <td>500</td>\n",
       "      <td>19500</td>\n",
       "      <td>500</td>\n",
       "      <td>9272</td>\n",
       "      <td>20000</td>\n",
       "      <td>500</td>\n",
       "      <td>9272</td>\n",
       "      <td>9272</td>\n",
       "      <td>500</td>\n",
       "      <td>500</td>\n",
       "      <td>19500</td>\n",
       "      <td>0</td>\n",
       "      <td>18816</td>\n",
       "      <td>18832</td>\n",
       "      <td>19880</td>\n",
       "      <td>500</td>\n",
       "      <td>0</td>\n",
       "      <td>500</td>\n",
       "      <td>500</td>\n",
       "      <td>19998</td>\n",
       "      <td>19998</td>\n",
       "      <td>500</td>\n",
       "      <td>19500</td>\n",
       "      <td>500</td>\n",
       "      <td>0</td>\n",
       "      <td>500</td>\n",
       "      <td>14004</td>\n",
       "      <td>14004</td>\n",
       "      <td>500</td>\n",
       "      <td>20000</td>\n",
       "      <td>19969</td>\n",
       "      <td>19909</td>\n",
       "      <td>0</td>\n",
       "      <td>0</td>\n",
       "      <td>18816</td>\n",
       "      <td>18832</td>\n",
       "      <td>14147</td>\n",
       "      <td>0</td>\n",
       "      <td>500</td>\n",
       "      <td>13982</td>\n",
       "      <td>0</td>\n",
       "      <td>0</td>\n",
       "      <td>0</td>\n",
       "      <td>500</td>\n",
       "      <td>500</td>\n",
       "      <td>20000</td>\n",
       "      <td>500</td>\n",
       "      <td>14208</td>\n",
       "      <td>14208</td>\n",
       "      <td>500</td>\n",
       "      <td>8343</td>\n",
       "      <td>9845</td>\n",
       "      <td>500</td>\n",
       "      <td>500</td>\n",
       "      <td>500</td>\n",
       "    </tr>\n",
       "  </tbody>\n",
       "</table>\n",
       "</div>"
      ],
      "text/plain": [
       "   all_awardings  allow_live_comments  associated_award  author  \\\n",
       "0           8343                11186             20000       0   \n",
       "\n",
       "   author_cakeday  author_created_utc  author_flair_background_color  \\\n",
       "0           19912               19999                          18303   \n",
       "\n",
       "   author_flair_css_class  author_flair_richtext  author_flair_template_id  \\\n",
       "0                   16762                     55                     16446   \n",
       "\n",
       "   author_flair_text  author_flair_text_color  author_flair_type  \\\n",
       "0              15097                    15046                 55   \n",
       "\n",
       "   author_fullname  author_patreon_flair  author_premium  awarders  banned_by  \\\n",
       "0               55                  1354           17230     14138      19999   \n",
       "\n",
       "    body  can_mod_post  category  collapsed_because_crowd_control  \\\n",
       "0  19500           500     20000                            20000   \n",
       "\n",
       "   content_categories  contest_mode  created_utc  crosspost_parent  \\\n",
       "0               20000           500            0             19305   \n",
       "\n",
       "   crosspost_parent_list  domain  edited  full_link  gilded  gildings  id  \\\n",
       "0                  19305     501   19991        500   19287       435   0   \n",
       "\n",
       "   is_crosspostable  is_meta  is_original_content  is_reddit_media_domain  \\\n",
       "0               500      500                  500                     500   \n",
       "\n",
       "   is_robot_indexable  is_self  is_submitter  is_video  \\\n",
       "0                1290      500         19500       500   \n",
       "\n",
       "   link_flair_background_color  link_flair_css_class  link_flair_richtext  \\\n",
       "0                         9272                 20000                  500   \n",
       "\n",
       "   link_flair_template_id  link_flair_text  link_flair_text_color  \\\n",
       "0                    9272             9272                    500   \n",
       "\n",
       "   link_flair_type  link_id  locked  media  media_embed  media_metadata  \\\n",
       "0              500    19500       0  18816        18832           19880   \n",
       "\n",
       "   media_only  no_follow  num_comments  num_crossposts  og_description  \\\n",
       "0         500          0           500             500           19998   \n",
       "\n",
       "   og_title  over_18  parent_id  parent_whitelist_status  permalink  pinned  \\\n",
       "0     19998      500      19500                      500          0     500   \n",
       "\n",
       "   post_hint  preview  pwls  removal_reason  removed_by  removed_by_category  \\\n",
       "0      14004    14004   500           20000       19969                19909   \n",
       "\n",
       "   retrieved_on  score  secure_media  secure_media_embed  selftext  \\\n",
       "0             0      0         18816               18832     14147   \n",
       "\n",
       "   send_replies  spoiler  steward_reports  stickied  subreddit  subreddit_id  \\\n",
       "0             0      500            13982         0          0             0   \n",
       "\n",
       "   subreddit_subscribers  subreddit_type  suggested_sort  thumbnail  \\\n",
       "0                    500             500           20000        500   \n",
       "\n",
       "   thumbnail_height  thumbnail_width  title  total_awards_received  \\\n",
       "0             14208            14208    500                   8343   \n",
       "\n",
       "   updated_utc  url  whitelist_status  wls  \n",
       "0         9845  500               500  500  "
      ]
     },
     "execution_count": 18,
     "metadata": {},
     "output_type": "execute_result"
    }
   ],
   "source": [
    "# Look for nulls to see which columns do not hold enough data to be valuable\n",
    "pd.DataFrame(beatles_coms.isnull().sum()).T"
   ]
  },
  {
   "cell_type": "code",
   "execution_count": 19,
   "metadata": {},
   "outputs": [
    {
     "data": {
      "text/plain": [
       "['associated_award',\n",
       " 'body',\n",
       " 'collapsed_because_crowd_control',\n",
       " 'is_submitter',\n",
       " 'link_id',\n",
       " 'parent_id']"
      ]
     },
     "execution_count": 19,
     "metadata": {},
     "output_type": "execute_result"
    }
   ],
   "source": [
    "# Compare columns in beatles comments data to submissions data\n",
    "unique_cols = []\n",
    "for col in beatles_coms.columns:\n",
    "    if col not in beatles_subs.columns:\n",
    "        unique_cols.append(col)\n",
    "        \n",
    "unique_cols"
   ]
  },
  {
   "cell_type": "code",
   "execution_count": 20,
   "metadata": {},
   "outputs": [
    {
     "data": {
      "text/html": [
       "<div>\n",
       "<style scoped>\n",
       "    .dataframe tbody tr th:only-of-type {\n",
       "        vertical-align: middle;\n",
       "    }\n",
       "\n",
       "    .dataframe tbody tr th {\n",
       "        vertical-align: top;\n",
       "    }\n",
       "\n",
       "    .dataframe thead th {\n",
       "        text-align: right;\n",
       "    }\n",
       "</style>\n",
       "<table border=\"1\" class=\"dataframe\">\n",
       "  <thead>\n",
       "    <tr style=\"text-align: right;\">\n",
       "      <th></th>\n",
       "      <th>associated_award</th>\n",
       "      <th>body</th>\n",
       "      <th>collapsed_because_crowd_control</th>\n",
       "      <th>is_submitter</th>\n",
       "      <th>link_id</th>\n",
       "      <th>parent_id</th>\n",
       "    </tr>\n",
       "  </thead>\n",
       "  <tbody>\n",
       "    <tr>\n",
       "      <th>0</th>\n",
       "      <td>NaN</td>\n",
       "      <td>Sorry, I wasn't trying to sound like a dick. I...</td>\n",
       "      <td>NaN</td>\n",
       "      <td>False</td>\n",
       "      <td>t3_euqx9g</td>\n",
       "      <td>t1_ffr8s3r</td>\n",
       "    </tr>\n",
       "    <tr>\n",
       "      <th>1</th>\n",
       "      <td>NaN</td>\n",
       "      <td>Oh man to be one of those standing there, watc...</td>\n",
       "      <td>NaN</td>\n",
       "      <td>False</td>\n",
       "      <td>t3_euqx9g</td>\n",
       "      <td>t3_euqx9g</td>\n",
       "    </tr>\n",
       "    <tr>\n",
       "      <th>2</th>\n",
       "      <td>NaN</td>\n",
       "      <td>Ded from those sick beats</td>\n",
       "      <td>NaN</td>\n",
       "      <td>False</td>\n",
       "      <td>t3_euqx9g</td>\n",
       "      <td>t1_ffra0i7</td>\n",
       "    </tr>\n",
       "    <tr>\n",
       "      <th>3</th>\n",
       "      <td>NaN</td>\n",
       "      <td>Living is easy with eyes closed</td>\n",
       "      <td>NaN</td>\n",
       "      <td>False</td>\n",
       "      <td>t3_eugkn7</td>\n",
       "      <td>t1_ffravhi</td>\n",
       "    </tr>\n",
       "    <tr>\n",
       "      <th>4</th>\n",
       "      <td>NaN</td>\n",
       "      <td>It would be good to do a ‘where are they now’ ...</td>\n",
       "      <td>NaN</td>\n",
       "      <td>False</td>\n",
       "      <td>t3_eulc65</td>\n",
       "      <td>t3_eulc65</td>\n",
       "    </tr>\n",
       "    <tr>\n",
       "      <th>...</th>\n",
       "      <td>...</td>\n",
       "      <td>...</td>\n",
       "      <td>...</td>\n",
       "      <td>...</td>\n",
       "      <td>...</td>\n",
       "      <td>...</td>\n",
       "    </tr>\n",
       "    <tr>\n",
       "      <th>19995</th>\n",
       "      <td>NaN</td>\n",
       "      <td>NaN</td>\n",
       "      <td>NaN</td>\n",
       "      <td>NaN</td>\n",
       "      <td>NaN</td>\n",
       "      <td>NaN</td>\n",
       "    </tr>\n",
       "    <tr>\n",
       "      <th>19996</th>\n",
       "      <td>NaN</td>\n",
       "      <td>NaN</td>\n",
       "      <td>NaN</td>\n",
       "      <td>NaN</td>\n",
       "      <td>NaN</td>\n",
       "      <td>NaN</td>\n",
       "    </tr>\n",
       "    <tr>\n",
       "      <th>19997</th>\n",
       "      <td>NaN</td>\n",
       "      <td>NaN</td>\n",
       "      <td>NaN</td>\n",
       "      <td>NaN</td>\n",
       "      <td>NaN</td>\n",
       "      <td>NaN</td>\n",
       "    </tr>\n",
       "    <tr>\n",
       "      <th>19998</th>\n",
       "      <td>NaN</td>\n",
       "      <td>NaN</td>\n",
       "      <td>NaN</td>\n",
       "      <td>NaN</td>\n",
       "      <td>NaN</td>\n",
       "      <td>NaN</td>\n",
       "    </tr>\n",
       "    <tr>\n",
       "      <th>19999</th>\n",
       "      <td>NaN</td>\n",
       "      <td>NaN</td>\n",
       "      <td>NaN</td>\n",
       "      <td>NaN</td>\n",
       "      <td>NaN</td>\n",
       "      <td>NaN</td>\n",
       "    </tr>\n",
       "  </tbody>\n",
       "</table>\n",
       "<p>20000 rows × 6 columns</p>\n",
       "</div>"
      ],
      "text/plain": [
       "       associated_award                                               body  \\\n",
       "0                   NaN  Sorry, I wasn't trying to sound like a dick. I...   \n",
       "1                   NaN  Oh man to be one of those standing there, watc...   \n",
       "2                   NaN                          Ded from those sick beats   \n",
       "3                   NaN                    Living is easy with eyes closed   \n",
       "4                   NaN  It would be good to do a ‘where are they now’ ...   \n",
       "...                 ...                                                ...   \n",
       "19995               NaN                                                NaN   \n",
       "19996               NaN                                                NaN   \n",
       "19997               NaN                                                NaN   \n",
       "19998               NaN                                                NaN   \n",
       "19999               NaN                                                NaN   \n",
       "\n",
       "       collapsed_because_crowd_control is_submitter    link_id   parent_id  \n",
       "0                                  NaN        False  t3_euqx9g  t1_ffr8s3r  \n",
       "1                                  NaN        False  t3_euqx9g   t3_euqx9g  \n",
       "2                                  NaN        False  t3_euqx9g  t1_ffra0i7  \n",
       "3                                  NaN        False  t3_eugkn7  t1_ffravhi  \n",
       "4                                  NaN        False  t3_eulc65   t3_eulc65  \n",
       "...                                ...          ...        ...         ...  \n",
       "19995                              NaN          NaN        NaN         NaN  \n",
       "19996                              NaN          NaN        NaN         NaN  \n",
       "19997                              NaN          NaN        NaN         NaN  \n",
       "19998                              NaN          NaN        NaN         NaN  \n",
       "19999                              NaN          NaN        NaN         NaN  \n",
       "\n",
       "[20000 rows x 6 columns]"
      ]
     },
     "execution_count": 20,
     "metadata": {},
     "output_type": "execute_result"
    }
   ],
   "source": [
    "# Look at these columns to see if they have value (assuming 'body' does)\n",
    "beatles_coms[unique_cols]"
   ]
  },
  {
   "cell_type": "code",
   "execution_count": 21,
   "metadata": {},
   "outputs": [],
   "source": [
    "# Check if all columns used for analysis for submissions are in coments data\n",
    "for col in cols_to_keep:\n",
    "    if col not in beatles_coms.columns:\n",
    "        print(col)"
   ]
  },
  {
   "cell_type": "code",
   "execution_count": 22,
   "metadata": {
    "scrolled": true
   },
   "outputs": [
    {
     "data": {
      "text/plain": [
       "['subreddit',\n",
       " 'author',\n",
       " 'author_flair_text',\n",
       " 'selftext',\n",
       " 'title',\n",
       " 'created_utc',\n",
       " 'score',\n",
       " 'body']"
      ]
     },
     "execution_count": 22,
     "metadata": {},
     "output_type": "execute_result"
    }
   ],
   "source": [
    "# Create list of columns to keep for comments data\n",
    "com_cols_to_keep = cols_to_keep.copy()\n",
    "com_cols_to_keep.append('body')\n",
    "com_cols_to_keep"
   ]
  },
  {
   "cell_type": "markdown",
   "metadata": {},
   "source": [
    "### Drop unnecessary columns in Beatles comments"
   ]
  },
  {
   "cell_type": "code",
   "execution_count": 23,
   "metadata": {},
   "outputs": [
    {
     "data": {
      "text/plain": [
       "(20000, 8)"
      ]
     },
     "execution_count": 23,
     "metadata": {},
     "output_type": "execute_result"
    }
   ],
   "source": [
    "# Drop all columns not to be used in analysis \n",
    "clean_beatles_coms = beatles_coms.drop(columns=[col for col in beatles_coms.columns if col not in com_cols_to_keep])\n",
    "\n",
    "# Check size of new dataframe\n",
    "clean_beatles_coms.shape"
   ]
  },
  {
   "cell_type": "markdown",
   "metadata": {},
   "source": [
    "### Drop unnecessary columns in Queen comments"
   ]
  },
  {
   "cell_type": "code",
   "execution_count": 24,
   "metadata": {},
   "outputs": [],
   "source": [
    "# Import queen comments (20,000)\n",
    "queen_coms = pd.read_csv('./data/queen_coms.csv', low_memory=False)"
   ]
  },
  {
   "cell_type": "code",
   "execution_count": 25,
   "metadata": {},
   "outputs": [
    {
     "data": {
      "text/plain": [
       "(20000, 8)"
      ]
     },
     "execution_count": 25,
     "metadata": {},
     "output_type": "execute_result"
    }
   ],
   "source": [
    "# Drop all columns not to be used in analysis \n",
    "clean_queen_coms = queen_coms.drop(columns=[col for col in queen_coms.columns if col not in com_cols_to_keep])\n",
    "\n",
    "# Check size of new dataframe\n",
    "clean_queen_coms.shape"
   ]
  },
  {
   "cell_type": "markdown",
   "metadata": {},
   "source": [
    "# Explore and clean data"
   ]
  },
  {
   "cell_type": "markdown",
   "metadata": {},
   "source": [
    "### Beatles submissions"
   ]
  },
  {
   "cell_type": "code",
   "execution_count": 26,
   "metadata": {},
   "outputs": [
    {
     "data": {
      "text/plain": [
       "author                   0\n",
       "author_flair_text    15122\n",
       "created_utc              0\n",
       "score                    0\n",
       "selftext             13975\n",
       "subreddit                0\n",
       "title                    0\n",
       "dtype: int64"
      ]
     },
     "execution_count": 26,
     "metadata": {},
     "output_type": "execute_result"
    }
   ],
   "source": [
    "# Look for nulls (address later)\n",
    "clean_beatles_subs.isnull().sum()"
   ]
  },
  {
   "cell_type": "code",
   "execution_count": 27,
   "metadata": {
    "scrolled": true
   },
   "outputs": [
    {
     "data": {
      "text/plain": [
       "39"
      ]
     },
     "execution_count": 27,
     "metadata": {},
     "output_type": "execute_result"
    }
   ],
   "source": [
    "# Look at number of author values where author == ['deleted']\n",
    "clean_beatles_subs.loc[clean_beatles_subs['author'] == '[deleted]', 'author'].count()"
   ]
  },
  {
   "cell_type": "code",
   "execution_count": 28,
   "metadata": {
    "scrolled": true
   },
   "outputs": [
    {
     "data": {
      "text/plain": [
       "38"
      ]
     },
     "execution_count": 28,
     "metadata": {},
     "output_type": "execute_result"
    }
   ],
   "source": [
    "# Look at number of selftext values where selftext == ['deleted']\n",
    "clean_beatles_subs.loc[clean_beatles_subs['selftext'] == '[deleted]', 'selftext'].count()"
   ]
  },
  {
   "cell_type": "code",
   "execution_count": 29,
   "metadata": {},
   "outputs": [],
   "source": [
    "# Define a function to drop rows with '[deleted]'\n",
    "# Credits (using .index[]): Chris Albon, 12.20.2017\n",
    "# https://chrisalbon.com/python/data_wrangling/pandas_dropping_column_and_rows/\n",
    "\n",
    "def drop_deleted(data, col_list):\n",
    "    for col in col_list:\n",
    "        indices_to_drop = data[data[col] == '[deleted]'].index\n",
    "        data.drop(data.index[indices_to_drop], axis=0, inplace=True)\n",
    "    return data"
   ]
  },
  {
   "cell_type": "code",
   "execution_count": 30,
   "metadata": {},
   "outputs": [
    {
     "data": {
      "text/html": [
       "<div>\n",
       "<style scoped>\n",
       "    .dataframe tbody tr th:only-of-type {\n",
       "        vertical-align: middle;\n",
       "    }\n",
       "\n",
       "    .dataframe tbody tr th {\n",
       "        vertical-align: top;\n",
       "    }\n",
       "\n",
       "    .dataframe thead th {\n",
       "        text-align: right;\n",
       "    }\n",
       "</style>\n",
       "<table border=\"1\" class=\"dataframe\">\n",
       "  <thead>\n",
       "    <tr style=\"text-align: right;\">\n",
       "      <th></th>\n",
       "      <th>author</th>\n",
       "      <th>author_flair_text</th>\n",
       "      <th>created_utc</th>\n",
       "      <th>score</th>\n",
       "      <th>selftext</th>\n",
       "      <th>subreddit</th>\n",
       "      <th>title</th>\n",
       "    </tr>\n",
       "  </thead>\n",
       "  <tbody>\n",
       "  </tbody>\n",
       "</table>\n",
       "</div>"
      ],
      "text/plain": [
       "Empty DataFrame\n",
       "Columns: [author, author_flair_text, created_utc, score, selftext, subreddit, title]\n",
       "Index: []"
      ]
     },
     "execution_count": 30,
     "metadata": {},
     "output_type": "execute_result"
    }
   ],
   "source": [
    "# Drop rows where 'author' or 'selftext' == '[deleted]'\n",
    "clean_beatles_subs = drop_deleted(clean_beatles_subs, ['author', 'selftext'])\n",
    "\n",
    "# Check that changes stuck\n",
    "clean_beatles_subs[(clean_beatles_subs['author'] == '[deleted]') | (clean_beatles_subs['selftext'] == '[deleted]')]\n"
   ]
  },
  {
   "cell_type": "code",
   "execution_count": 31,
   "metadata": {
    "scrolled": true
   },
   "outputs": [
    {
     "data": {
      "text/plain": [
       "(19961, 7)"
      ]
     },
     "execution_count": 31,
     "metadata": {},
     "output_type": "execute_result"
    }
   ],
   "source": [
    "# Check new number of rows\n",
    "clean_beatles_subs.shape"
   ]
  },
  {
   "cell_type": "code",
   "execution_count": 32,
   "metadata": {},
   "outputs": [
    {
     "data": {
      "text/html": [
       "<div>\n",
       "<style scoped>\n",
       "    .dataframe tbody tr th:only-of-type {\n",
       "        vertical-align: middle;\n",
       "    }\n",
       "\n",
       "    .dataframe tbody tr th {\n",
       "        vertical-align: top;\n",
       "    }\n",
       "\n",
       "    .dataframe thead th {\n",
       "        text-align: right;\n",
       "    }\n",
       "</style>\n",
       "<table border=\"1\" class=\"dataframe\">\n",
       "  <thead>\n",
       "    <tr style=\"text-align: right;\">\n",
       "      <th></th>\n",
       "      <th>author</th>\n",
       "      <th>author_flair_text</th>\n",
       "      <th>created_utc</th>\n",
       "      <th>score</th>\n",
       "      <th>selftext</th>\n",
       "      <th>subreddit</th>\n",
       "      <th>title</th>\n",
       "    </tr>\n",
       "  </thead>\n",
       "  <tbody>\n",
       "  </tbody>\n",
       "</table>\n",
       "</div>"
      ],
      "text/plain": [
       "Empty DataFrame\n",
       "Columns: [author, author_flair_text, created_utc, score, selftext, subreddit, title]\n",
       "Index: []"
      ]
     },
     "execution_count": 32,
     "metadata": {},
     "output_type": "execute_result"
    }
   ],
   "source": [
    "# Make sure all 'subreddit' == 'beatles'\n",
    "clean_beatles_subs[clean_beatles_subs['subreddit'] != 'beatles']"
   ]
  },
  {
   "cell_type": "code",
   "execution_count": 33,
   "metadata": {},
   "outputs": [],
   "source": [
    "# Define a function to replace null values with '-'\n",
    "def replace_nulls(data, col_list):\n",
    "    for col in col_list:\n",
    "        data.loc[data[col].isnull(), col] = '-'\n",
    "    return data"
   ]
  },
  {
   "cell_type": "code",
   "execution_count": 34,
   "metadata": {},
   "outputs": [
    {
     "data": {
      "text/html": [
       "<div>\n",
       "<style scoped>\n",
       "    .dataframe tbody tr th:only-of-type {\n",
       "        vertical-align: middle;\n",
       "    }\n",
       "\n",
       "    .dataframe tbody tr th {\n",
       "        vertical-align: top;\n",
       "    }\n",
       "\n",
       "    .dataframe thead th {\n",
       "        text-align: right;\n",
       "    }\n",
       "</style>\n",
       "<table border=\"1\" class=\"dataframe\">\n",
       "  <thead>\n",
       "    <tr style=\"text-align: right;\">\n",
       "      <th></th>\n",
       "      <th>author</th>\n",
       "      <th>author_flair_text</th>\n",
       "      <th>created_utc</th>\n",
       "      <th>score</th>\n",
       "      <th>selftext</th>\n",
       "      <th>subreddit</th>\n",
       "      <th>title</th>\n",
       "    </tr>\n",
       "  </thead>\n",
       "  <tbody>\n",
       "  </tbody>\n",
       "</table>\n",
       "</div>"
      ],
      "text/plain": [
       "Empty DataFrame\n",
       "Columns: [author, author_flair_text, created_utc, score, selftext, subreddit, title]\n",
       "Index: []"
      ]
     },
     "execution_count": 34,
     "metadata": {},
     "output_type": "execute_result"
    }
   ],
   "source": [
    "# Replace nulls with '-'\n",
    "clean_beatles_subs = replace_nulls(clean_beatles_subs, ['author_flair_text', 'selftext'])\n",
    "\n",
    "# Check that changes stuck\n",
    "clean_beatles_subs[(clean_beatles_subs['author_flair_text'].isnull()) | (clean_beatles_subs['selftext'].isnull())]\n"
   ]
  },
  {
   "cell_type": "code",
   "execution_count": 35,
   "metadata": {
    "scrolled": true
   },
   "outputs": [
    {
     "data": {
      "image/png": "[encoded data removed]",
      "text/plain": [
       "<Figure size 432x288 with 1 Axes>"
      ]
     },
     "metadata": {
      "needs_background": "light"
     },
     "output_type": "display_data"
    }
   ],
   "source": [
    "# Look at distribution of scores (popularity)\n",
    "clean_beatles_subs['score'].hist(bins=50);"
   ]
  },
  {
   "cell_type": "code",
   "execution_count": 36,
   "metadata": {
    "scrolled": false
   },
   "outputs": [
    {
     "data": {
      "image/png": "[encoded data removed]",
      "text/plain": [
       "<Figure size 432x288 with 1 Axes>"
      ]
     },
     "metadata": {
      "needs_background": "light"
     },
     "output_type": "display_data"
    }
   ],
   "source": [
    "# Look at distribution of time created/posted\n",
    "clean_beatles_subs['created_utc'].hist();"
   ]
  },
  {
   "cell_type": "markdown",
   "metadata": {},
   "source": [
    "The columns 'score' and 'created_utc' are metadata and their distributions look logical. Data cleaning left is all NLP parsing, which is done in Notebook 03_NLP_Parsing."
   ]
  },
  {
   "cell_type": "code",
   "execution_count": 37,
   "metadata": {},
   "outputs": [],
   "source": [
    "# Define a function to create two new columns: ['author_full', 'all_text']\n",
    "def create_author_text_columns(data):    \n",
    "    \n",
    "    # Create a column that combines 'author' and 'author_flair_text'\n",
    "    author_full = []\n",
    "    for auth, flair in list(zip(data['author'], data['author_flair_text'])):\n",
    "        if (auth != '-') & (flair != '-'):\n",
    "            full_auth = f'{auth} {flair}'\n",
    "            author_full.append(full_auth)\n",
    "        elif (auth == '-') & (flair != '-'):\n",
    "            author_full.append(flair)\n",
    "        elif (auth != '-') & (flair == '-'):\n",
    "            author_full.append(auth)\n",
    "        elif (auth == '-') & (flair == '-'):\n",
    "            author_full.append('-')\n",
    "        else: print('prob with your code gur')\n",
    "    data['author_full'] = author_full\n",
    "    \n",
    "    # Create a column that combines 'title','selftext', and 'body' (if applicable)\n",
    "    all_text = []\n",
    "    if 'body' not in data.columns:\n",
    "        for title, selftext in list(zip(data['title'], data['selftext'])):\n",
    "            if (title != '-') & (selftext != '-'):\n",
    "                full_text = f'{title} {selftext}'\n",
    "                all_text.append(full_text)\n",
    "            elif (title == '-') & (selftext != '-'):\n",
    "                all_text.append(selftext)\n",
    "            elif (title != '-') & (selftext == '-'):\n",
    "                all_text.append(title)\n",
    "            elif (title == '-') & (selftext == '-'):\n",
    "                all_text.append('-')\n",
    "            else: print('prob with your code gur')\n",
    "        data['all_text'] = all_text\n",
    "        \n",
    "    else:\n",
    "        for title, selftext, body in list(zip(data['title'], data['selftext'], data['body'])):\n",
    "            if (title != '-') & (selftext != '-') & (body != '-'):\n",
    "                full_text = f'{title} {selftext} {body}'\n",
    "                all_text.append(full_text)\n",
    "            elif (title != '-') & (selftext != '-') & (body == '-'):\n",
    "                full_text = f'{title} {selftext}'\n",
    "                all_text.append(full_text)\n",
    "            elif (title != '-') & (selftext == '-') & (body != '-'):\n",
    "                full_text = f'{title} {body}'\n",
    "                all_text.append(full_text)\n",
    "            elif (title == '-') & (selftext != '-') & (body != '-'):\n",
    "                full_text = f'{selftext} {body}'\n",
    "                all_text.append(full_text)\n",
    "            elif (title != '-') & (selftext == '-') & (body == '-'):\n",
    "                all_text.append(title)\n",
    "            elif (title == '-') & (selftext != '-') & (body == '-'):\n",
    "                all_text.append(selftext)\n",
    "            elif (title == '-') & (selftext == '-') & (body != '-'):\n",
    "                all_text.append(body)    \n",
    "            elif (title == '-') & (selftext == '-') & (body == '-'):\n",
    "                all_text.append('-')\n",
    "            else: print('prob with your code gur')\n",
    "        data['all_text'] = all_text\n",
    "    \n",
    "    return data\n"
   ]
  },
  {
   "cell_type": "code",
   "execution_count": 38,
   "metadata": {
    "scrolled": true
   },
   "outputs": [],
   "source": [
    "# Create two new columns for analysis\n",
    "clean_beatles_subs = create_author_text_columns(clean_beatles_subs)"
   ]
  },
  {
   "cell_type": "markdown",
   "metadata": {},
   "source": [
    "### Queen submissions"
   ]
  },
  {
   "cell_type": "code",
   "execution_count": 39,
   "metadata": {
    "scrolled": true
   },
   "outputs": [
    {
     "data": {
      "text/plain": [
       "author                   0\n",
       "author_flair_text    19993\n",
       "created_utc              0\n",
       "score                    0\n",
       "selftext             14555\n",
       "subreddit                0\n",
       "title                    0\n",
       "dtype: int64"
      ]
     },
     "execution_count": 39,
     "metadata": {},
     "output_type": "execute_result"
    }
   ],
   "source": [
    "# Look for nulls (address later)\n",
    "clean_queen_subs.isnull().sum()"
   ]
  },
  {
   "cell_type": "code",
   "execution_count": 40,
   "metadata": {},
   "outputs": [
    {
     "data": {
      "text/plain": [
       "509"
      ]
     },
     "execution_count": 40,
     "metadata": {},
     "output_type": "execute_result"
    }
   ],
   "source": [
    "# Look at number of author values where author == ['deleted']\n",
    "clean_queen_subs.loc[clean_queen_subs['author'] == '[deleted]', 'author'].count()"
   ]
  },
  {
   "cell_type": "code",
   "execution_count": 41,
   "metadata": {
    "scrolled": true
   },
   "outputs": [
    {
     "data": {
      "text/plain": [
       "285"
      ]
     },
     "execution_count": 41,
     "metadata": {},
     "output_type": "execute_result"
    }
   ],
   "source": [
    "# Look at number of selftext values where selftext == ['deleted']\n",
    "clean_queen_subs.loc[clean_queen_subs['selftext'] == '[deleted]', 'selftext'].count()"
   ]
  },
  {
   "cell_type": "code",
   "execution_count": 42,
   "metadata": {
    "scrolled": true
   },
   "outputs": [
    {
     "data": {
      "text/html": [
       "<div>\n",
       "<style scoped>\n",
       "    .dataframe tbody tr th:only-of-type {\n",
       "        vertical-align: middle;\n",
       "    }\n",
       "\n",
       "    .dataframe tbody tr th {\n",
       "        vertical-align: top;\n",
       "    }\n",
       "\n",
       "    .dataframe thead th {\n",
       "        text-align: right;\n",
       "    }\n",
       "</style>\n",
       "<table border=\"1\" class=\"dataframe\">\n",
       "  <thead>\n",
       "    <tr style=\"text-align: right;\">\n",
       "      <th></th>\n",
       "      <th>author</th>\n",
       "      <th>author_flair_text</th>\n",
       "      <th>created_utc</th>\n",
       "      <th>score</th>\n",
       "      <th>selftext</th>\n",
       "      <th>subreddit</th>\n",
       "      <th>title</th>\n",
       "    </tr>\n",
       "  </thead>\n",
       "  <tbody>\n",
       "  </tbody>\n",
       "</table>\n",
       "</div>"
      ],
      "text/plain": [
       "Empty DataFrame\n",
       "Columns: [author, author_flair_text, created_utc, score, selftext, subreddit, title]\n",
       "Index: []"
      ]
     },
     "execution_count": 42,
     "metadata": {},
     "output_type": "execute_result"
    }
   ],
   "source": [
    "# Drop rows where 'author' or 'selftext' == '[deleted]'\n",
    "clean_queen_subs = drop_deleted(clean_queen_subs, ['author', 'selftext'])\n",
    "\n",
    "# Check that changes stuck\n",
    "clean_queen_subs[(clean_queen_subs['author'] == '[deleted]') | (clean_queen_subs['selftext'] == '[deleted]')]"
   ]
  },
  {
   "cell_type": "code",
   "execution_count": 43,
   "metadata": {
    "scrolled": true
   },
   "outputs": [
    {
     "data": {
      "text/plain": [
       "(19491, 7)"
      ]
     },
     "execution_count": 43,
     "metadata": {},
     "output_type": "execute_result"
    }
   ],
   "source": [
    "# Check new number of rows\n",
    "clean_queen_subs.shape"
   ]
  },
  {
   "cell_type": "code",
   "execution_count": 44,
   "metadata": {
    "scrolled": true
   },
   "outputs": [
    {
     "data": {
      "text/html": [
       "<div>\n",
       "<style scoped>\n",
       "    .dataframe tbody tr th:only-of-type {\n",
       "        vertical-align: middle;\n",
       "    }\n",
       "\n",
       "    .dataframe tbody tr th {\n",
       "        vertical-align: top;\n",
       "    }\n",
       "\n",
       "    .dataframe thead th {\n",
       "        text-align: right;\n",
       "    }\n",
       "</style>\n",
       "<table border=\"1\" class=\"dataframe\">\n",
       "  <thead>\n",
       "    <tr style=\"text-align: right;\">\n",
       "      <th></th>\n",
       "      <th>author</th>\n",
       "      <th>author_flair_text</th>\n",
       "      <th>created_utc</th>\n",
       "      <th>score</th>\n",
       "      <th>selftext</th>\n",
       "      <th>subreddit</th>\n",
       "      <th>title</th>\n",
       "    </tr>\n",
       "  </thead>\n",
       "  <tbody>\n",
       "  </tbody>\n",
       "</table>\n",
       "</div>"
      ],
      "text/plain": [
       "Empty DataFrame\n",
       "Columns: [author, author_flair_text, created_utc, score, selftext, subreddit, title]\n",
       "Index: []"
      ]
     },
     "execution_count": 44,
     "metadata": {},
     "output_type": "execute_result"
    }
   ],
   "source": [
    "# Make sure all 'subreddit' == 'queen'\n",
    "clean_queen_subs[clean_queen_subs['subreddit'] != 'queen']"
   ]
  },
  {
   "cell_type": "code",
   "execution_count": 45,
   "metadata": {},
   "outputs": [
    {
     "data": {
      "text/html": [
       "<div>\n",
       "<style scoped>\n",
       "    .dataframe tbody tr th:only-of-type {\n",
       "        vertical-align: middle;\n",
       "    }\n",
       "\n",
       "    .dataframe tbody tr th {\n",
       "        vertical-align: top;\n",
       "    }\n",
       "\n",
       "    .dataframe thead th {\n",
       "        text-align: right;\n",
       "    }\n",
       "</style>\n",
       "<table border=\"1\" class=\"dataframe\">\n",
       "  <thead>\n",
       "    <tr style=\"text-align: right;\">\n",
       "      <th></th>\n",
       "      <th>author</th>\n",
       "      <th>author_flair_text</th>\n",
       "      <th>created_utc</th>\n",
       "      <th>score</th>\n",
       "      <th>selftext</th>\n",
       "      <th>subreddit</th>\n",
       "      <th>title</th>\n",
       "    </tr>\n",
       "  </thead>\n",
       "  <tbody>\n",
       "  </tbody>\n",
       "</table>\n",
       "</div>"
      ],
      "text/plain": [
       "Empty DataFrame\n",
       "Columns: [author, author_flair_text, created_utc, score, selftext, subreddit, title]\n",
       "Index: []"
      ]
     },
     "execution_count": 45,
     "metadata": {},
     "output_type": "execute_result"
    }
   ],
   "source": [
    "# Replace nulls with '-'\n",
    "clean_queen_subs = replace_nulls(clean_queen_subs, ['author_flair_text', 'selftext'])\n",
    "\n",
    "# Check that changes stuck\n",
    "clean_queen_subs[(clean_queen_subs['author_flair_text'].isnull()) | (clean_queen_subs['selftext'].isnull())]\n"
   ]
  },
  {
   "cell_type": "code",
   "execution_count": 46,
   "metadata": {},
   "outputs": [
    {
     "data": {
      "image/png": "[encoded data removed]",
      "text/plain": [
       "<Figure size 432x288 with 1 Axes>"
      ]
     },
     "metadata": {
      "needs_background": "light"
     },
     "output_type": "display_data"
    }
   ],
   "source": [
    "# Look at distribution of scores (popularity)\n",
    "clean_queen_subs['score'].hist(bins=50);"
   ]
  },
  {
   "cell_type": "code",
   "execution_count": 47,
   "metadata": {
    "scrolled": false
   },
   "outputs": [
    {
     "data": {
      "image/png": "[encoded data removed]",
      "text/plain": [
       "<Figure size 432x288 with 1 Axes>"
      ]
     },
     "metadata": {
      "needs_background": "light"
     },
     "output_type": "display_data"
    }
   ],
   "source": [
    "# Look at distribution of time created/posted\n",
    "clean_queen_subs['created_utc'].hist();"
   ]
  },
  {
   "cell_type": "markdown",
   "metadata": {},
   "source": [
    "Queen fans post on the Queen subreddit much less often than Beatles fans post on theirs, so posts in this dataset come from further back. However, the majority are from the same time period, and this shouldn't affect our classification greatly. Scores look similarly distributed for Queen as for Beatles."
   ]
  },
  {
   "cell_type": "code",
   "execution_count": 48,
   "metadata": {
    "scrolled": true
   },
   "outputs": [],
   "source": [
    "# Create two new columns for analysis\n",
    "clean_queen_subs = create_author_text_columns(clean_queen_subs)"
   ]
  },
  {
   "cell_type": "markdown",
   "metadata": {},
   "source": [
    "### Beatles comments"
   ]
  },
  {
   "cell_type": "code",
   "execution_count": 49,
   "metadata": {
    "scrolled": false
   },
   "outputs": [
    {
     "data": {
      "text/plain": [
       "author                   0\n",
       "author_flair_text    15097\n",
       "body                 19500\n",
       "created_utc              0\n",
       "score                    0\n",
       "selftext             14147\n",
       "subreddit                0\n",
       "title                  500\n",
       "dtype: int64"
      ]
     },
     "execution_count": 49,
     "metadata": {},
     "output_type": "execute_result"
    }
   ],
   "source": [
    "# Look for nulls (address later)\n",
    "clean_beatles_coms.isnull().sum()"
   ]
  },
  {
   "cell_type": "code",
   "execution_count": 50,
   "metadata": {},
   "outputs": [
    {
     "data": {
      "text/html": [
       "<div>\n",
       "<style scoped>\n",
       "    .dataframe tbody tr th:only-of-type {\n",
       "        vertical-align: middle;\n",
       "    }\n",
       "\n",
       "    .dataframe tbody tr th {\n",
       "        vertical-align: top;\n",
       "    }\n",
       "\n",
       "    .dataframe thead th {\n",
       "        text-align: right;\n",
       "    }\n",
       "</style>\n",
       "<table border=\"1\" class=\"dataframe\">\n",
       "  <thead>\n",
       "    <tr style=\"text-align: right;\">\n",
       "      <th></th>\n",
       "      <th>author</th>\n",
       "      <th>author_flair_text</th>\n",
       "      <th>body</th>\n",
       "      <th>created_utc</th>\n",
       "      <th>score</th>\n",
       "      <th>selftext</th>\n",
       "      <th>subreddit</th>\n",
       "      <th>title</th>\n",
       "    </tr>\n",
       "  </thead>\n",
       "  <tbody>\n",
       "    <tr>\n",
       "      <th>0</th>\n",
       "      <td>356BC</td>\n",
       "      <td>NaN</td>\n",
       "      <td>Sorry, I wasn't trying to sound like a dick. I...</td>\n",
       "      <td>1580156460</td>\n",
       "      <td>1</td>\n",
       "      <td>NaN</td>\n",
       "      <td>beatles</td>\n",
       "      <td>NaN</td>\n",
       "    </tr>\n",
       "    <tr>\n",
       "      <th>1</th>\n",
       "      <td>EveningsAndWeekends</td>\n",
       "      <td>NaN</td>\n",
       "      <td>Oh man to be one of those standing there, watc...</td>\n",
       "      <td>1580156243</td>\n",
       "      <td>1</td>\n",
       "      <td>NaN</td>\n",
       "      <td>beatles</td>\n",
       "      <td>NaN</td>\n",
       "    </tr>\n",
       "    <tr>\n",
       "      <th>2</th>\n",
       "      <td>EveningsAndWeekends</td>\n",
       "      <td>NaN</td>\n",
       "      <td>Ded from those sick beats</td>\n",
       "      <td>1580156204</td>\n",
       "      <td>1</td>\n",
       "      <td>NaN</td>\n",
       "      <td>beatles</td>\n",
       "      <td>NaN</td>\n",
       "    </tr>\n",
       "    <tr>\n",
       "      <th>3</th>\n",
       "      <td>Bowiequeen</td>\n",
       "      <td>NaN</td>\n",
       "      <td>Living is easy with eyes closed</td>\n",
       "      <td>1580156077</td>\n",
       "      <td>1</td>\n",
       "      <td>NaN</td>\n",
       "      <td>beatles</td>\n",
       "      <td>NaN</td>\n",
       "    </tr>\n",
       "    <tr>\n",
       "      <th>4</th>\n",
       "      <td>Scrutchpipe</td>\n",
       "      <td>NaN</td>\n",
       "      <td>It would be good to do a ‘where are they now’ ...</td>\n",
       "      <td>1580155942</td>\n",
       "      <td>1</td>\n",
       "      <td>NaN</td>\n",
       "      <td>beatles</td>\n",
       "      <td>NaN</td>\n",
       "    </tr>\n",
       "  </tbody>\n",
       "</table>\n",
       "</div>"
      ],
      "text/plain": [
       "                author author_flair_text  \\\n",
       "0                356BC               NaN   \n",
       "1  EveningsAndWeekends               NaN   \n",
       "2  EveningsAndWeekends               NaN   \n",
       "3           Bowiequeen               NaN   \n",
       "4          Scrutchpipe               NaN   \n",
       "\n",
       "                                                body  created_utc  score  \\\n",
       "0  Sorry, I wasn't trying to sound like a dick. I...   1580156460      1   \n",
       "1  Oh man to be one of those standing there, watc...   1580156243      1   \n",
       "2                          Ded from those sick beats   1580156204      1   \n",
       "3                    Living is easy with eyes closed   1580156077      1   \n",
       "4  It would be good to do a ‘where are they now’ ...   1580155942      1   \n",
       "\n",
       "  selftext subreddit title  \n",
       "0      NaN   beatles   NaN  \n",
       "1      NaN   beatles   NaN  \n",
       "2      NaN   beatles   NaN  \n",
       "3      NaN   beatles   NaN  \n",
       "4      NaN   beatles   NaN  "
      ]
     },
     "execution_count": 50,
     "metadata": {},
     "output_type": "execute_result"
    }
   ],
   "source": [
    "# Look at rows where title is null\n",
    "clean_beatles_coms[clean_beatles_coms['title'].isnull()].head()"
   ]
  },
  {
   "cell_type": "markdown",
   "metadata": {},
   "source": [
    "Rows with no title appear to often have a body, thus are still probably useful and able to be classified. Investigate rows where selftext, body, and title are all null. Keep and replace other null titles with '-' later."
   ]
  },
  {
   "cell_type": "code",
   "execution_count": 51,
   "metadata": {},
   "outputs": [],
   "source": [
    "# Define a function to turn all '[deleted]' or '[removed]' to null values\n",
    "def to_nulls(data):\n",
    "    for col in data.columns:\n",
    "        data.loc[((data[col]=='[deleted]') | (data[col]=='[removed]')), col] = np.nan\n",
    "    return data"
   ]
  },
  {
   "cell_type": "code",
   "execution_count": 52,
   "metadata": {
    "scrolled": true
   },
   "outputs": [
    {
     "name": "stderr",
     "output_type": "stream",
     "text": [
      "/Users/kelly/anaconda3/envs/dsi/lib/python3.7/site-packages/pandas/core/ops/__init__.py:1115: FutureWarning: elementwise comparison failed; returning scalar instead, but in the future will perform elementwise comparison\n",
      "  result = method(y)\n"
     ]
    },
    {
     "data": {
      "text/html": [
       "<div>\n",
       "<style scoped>\n",
       "    .dataframe tbody tr th:only-of-type {\n",
       "        vertical-align: middle;\n",
       "    }\n",
       "\n",
       "    .dataframe tbody tr th {\n",
       "        vertical-align: top;\n",
       "    }\n",
       "\n",
       "    .dataframe thead th {\n",
       "        text-align: right;\n",
       "    }\n",
       "</style>\n",
       "<table border=\"1\" class=\"dataframe\">\n",
       "  <thead>\n",
       "    <tr style=\"text-align: right;\">\n",
       "      <th></th>\n",
       "      <th>author</th>\n",
       "      <th>author_flair_text</th>\n",
       "      <th>body</th>\n",
       "      <th>created_utc</th>\n",
       "      <th>score</th>\n",
       "      <th>selftext</th>\n",
       "      <th>subreddit</th>\n",
       "      <th>title</th>\n",
       "    </tr>\n",
       "  </thead>\n",
       "  <tbody>\n",
       "  </tbody>\n",
       "</table>\n",
       "</div>"
      ],
      "text/plain": [
       "Empty DataFrame\n",
       "Columns: [author, author_flair_text, body, created_utc, score, selftext, subreddit, title]\n",
       "Index: []"
      ]
     },
     "execution_count": 52,
     "metadata": {},
     "output_type": "execute_result"
    }
   ],
   "source": [
    "# Change all cells with '[deleted]' or '[removed]' to null values\n",
    "clean_beatles_coms = to_nulls(clean_beatles_coms)\n",
    "\n",
    "# Confirm changes\n",
    "clean_beatles_coms[(clean_beatles_coms['author'] == '[deleted]') | \n",
    "                    (clean_beatles_coms['author'] == '[removed]')]"
   ]
  },
  {
   "cell_type": "code",
   "execution_count": 53,
   "metadata": {},
   "outputs": [],
   "source": [
    "# Define a function to drop all rows will all null values in list passed\n",
    "def drop_null_rows(data, col_list):\n",
    "    data.dropna(how='all', subset=col_list, inplace=True)\n",
    "    return data"
   ]
  },
  {
   "cell_type": "code",
   "execution_count": 54,
   "metadata": {},
   "outputs": [],
   "source": [
    "# Drop all rows where ['author', 'selftext', 'body', 'title'] are all null\n",
    "cols_with_nulls = ['author', 'selftext', 'body', 'title']\n",
    "clean_beatles_coms = drop_null_rows(clean_beatles_coms, cols_with_nulls)"
   ]
  },
  {
   "cell_type": "code",
   "execution_count": 55,
   "metadata": {},
   "outputs": [
    {
     "data": {
      "text/html": [
       "<div>\n",
       "<style scoped>\n",
       "    .dataframe tbody tr th:only-of-type {\n",
       "        vertical-align: middle;\n",
       "    }\n",
       "\n",
       "    .dataframe tbody tr th {\n",
       "        vertical-align: top;\n",
       "    }\n",
       "\n",
       "    .dataframe thead th {\n",
       "        text-align: right;\n",
       "    }\n",
       "</style>\n",
       "<table border=\"1\" class=\"dataframe\">\n",
       "  <thead>\n",
       "    <tr style=\"text-align: right;\">\n",
       "      <th></th>\n",
       "      <th>author</th>\n",
       "      <th>author_flair_text</th>\n",
       "      <th>body</th>\n",
       "      <th>created_utc</th>\n",
       "      <th>score</th>\n",
       "      <th>selftext</th>\n",
       "      <th>subreddit</th>\n",
       "      <th>title</th>\n",
       "    </tr>\n",
       "  </thead>\n",
       "  <tbody>\n",
       "  </tbody>\n",
       "</table>\n",
       "</div>"
      ],
      "text/plain": [
       "Empty DataFrame\n",
       "Columns: [author, author_flair_text, body, created_utc, score, selftext, subreddit, title]\n",
       "Index: []"
      ]
     },
     "execution_count": 55,
     "metadata": {},
     "output_type": "execute_result"
    }
   ],
   "source": [
    "# Check that changes stuck\n",
    "clean_beatles_coms[(clean_beatles_coms['author'].isnull()) &  \n",
    "                    (clean_beatles_coms['selftext'].isnull()) & \n",
    "                    (clean_beatles_coms['body'].isnull()) & \n",
    "                    (clean_beatles_coms['title'].isnull())]\n"
   ]
  },
  {
   "cell_type": "code",
   "execution_count": 56,
   "metadata": {},
   "outputs": [
    {
     "data": {
      "text/plain": [
       "(19983, 8)"
      ]
     },
     "execution_count": 56,
     "metadata": {},
     "output_type": "execute_result"
    }
   ],
   "source": [
    "clean_beatles_coms.shape"
   ]
  },
  {
   "cell_type": "code",
   "execution_count": 57,
   "metadata": {
    "scrolled": true
   },
   "outputs": [
    {
     "data": {
      "text/plain": [
       "author                  38\n",
       "author_flair_text    15080\n",
       "body                 19500\n",
       "created_utc              0\n",
       "score                    0\n",
       "selftext             14418\n",
       "subreddit                0\n",
       "title                  483\n",
       "dtype: int64"
      ]
     },
     "execution_count": 57,
     "metadata": {},
     "output_type": "execute_result"
    }
   ],
   "source": [
    "clean_beatles_coms.isnull().sum()"
   ]
  },
  {
   "cell_type": "code",
   "execution_count": 58,
   "metadata": {},
   "outputs": [
    {
     "data": {
      "text/html": [
       "<div>\n",
       "<style scoped>\n",
       "    .dataframe tbody tr th:only-of-type {\n",
       "        vertical-align: middle;\n",
       "    }\n",
       "\n",
       "    .dataframe tbody tr th {\n",
       "        vertical-align: top;\n",
       "    }\n",
       "\n",
       "    .dataframe thead th {\n",
       "        text-align: right;\n",
       "    }\n",
       "</style>\n",
       "<table border=\"1\" class=\"dataframe\">\n",
       "  <thead>\n",
       "    <tr style=\"text-align: right;\">\n",
       "      <th></th>\n",
       "      <th>author</th>\n",
       "      <th>author_flair_text</th>\n",
       "      <th>body</th>\n",
       "      <th>created_utc</th>\n",
       "      <th>score</th>\n",
       "      <th>selftext</th>\n",
       "      <th>subreddit</th>\n",
       "      <th>title</th>\n",
       "    </tr>\n",
       "  </thead>\n",
       "  <tbody>\n",
       "  </tbody>\n",
       "</table>\n",
       "</div>"
      ],
      "text/plain": [
       "Empty DataFrame\n",
       "Columns: [author, author_flair_text, body, created_utc, score, selftext, subreddit, title]\n",
       "Index: []"
      ]
     },
     "execution_count": 58,
     "metadata": {},
     "output_type": "execute_result"
    }
   ],
   "source": [
    "# See if there are any rows with nulls in BOTH 'title' and 'body'\n",
    "clean_beatles_coms[(clean_beatles_coms['body'].isnull()) & (clean_beatles_coms['title'].isnull())]\n"
   ]
  },
  {
   "cell_type": "markdown",
   "metadata": {},
   "source": [
    "All rows have either a body or a title, and another ~5,500 rows have selftext as well."
   ]
  },
  {
   "cell_type": "code",
   "execution_count": 59,
   "metadata": {},
   "outputs": [
    {
     "data": {
      "text/plain": [
       "author               0\n",
       "author_flair_text    0\n",
       "body                 0\n",
       "created_utc          0\n",
       "score                0\n",
       "selftext             0\n",
       "subreddit            0\n",
       "title                0\n",
       "dtype: int64"
      ]
     },
     "execution_count": 59,
     "metadata": {},
     "output_type": "execute_result"
    }
   ],
   "source": [
    "# Replace nulls with '-'\n",
    "cols_to_fill = ['author', 'author_flair_text', 'selftext', 'title', 'body']\n",
    "clean_beatles_coms = replace_nulls(clean_beatles_coms, cols_to_fill)\n",
    "\n",
    "# Check that changes stuck\n",
    "clean_beatles_coms.isnull().sum()"
   ]
  },
  {
   "cell_type": "code",
   "execution_count": 60,
   "metadata": {
    "scrolled": true
   },
   "outputs": [
    {
     "data": {
      "text/html": [
       "<div>\n",
       "<style scoped>\n",
       "    .dataframe tbody tr th:only-of-type {\n",
       "        vertical-align: middle;\n",
       "    }\n",
       "\n",
       "    .dataframe tbody tr th {\n",
       "        vertical-align: top;\n",
       "    }\n",
       "\n",
       "    .dataframe thead th {\n",
       "        text-align: right;\n",
       "    }\n",
       "</style>\n",
       "<table border=\"1\" class=\"dataframe\">\n",
       "  <thead>\n",
       "    <tr style=\"text-align: right;\">\n",
       "      <th></th>\n",
       "      <th>author</th>\n",
       "      <th>author_flair_text</th>\n",
       "      <th>body</th>\n",
       "      <th>created_utc</th>\n",
       "      <th>score</th>\n",
       "      <th>selftext</th>\n",
       "      <th>subreddit</th>\n",
       "      <th>title</th>\n",
       "    </tr>\n",
       "  </thead>\n",
       "  <tbody>\n",
       "  </tbody>\n",
       "</table>\n",
       "</div>"
      ],
      "text/plain": [
       "Empty DataFrame\n",
       "Columns: [author, author_flair_text, body, created_utc, score, selftext, subreddit, title]\n",
       "Index: []"
      ]
     },
     "execution_count": 60,
     "metadata": {},
     "output_type": "execute_result"
    }
   ],
   "source": [
    "# Make sure all 'subreddit' == 'beatles'\n",
    "clean_beatles_coms[clean_beatles_coms['subreddit'] != 'beatles']"
   ]
  },
  {
   "cell_type": "code",
   "execution_count": 61,
   "metadata": {},
   "outputs": [
    {
     "data": {
      "image/png": "[encoded data removed]",
      "text/plain": [
       "<Figure size 432x288 with 1 Axes>"
      ]
     },
     "metadata": {
      "needs_background": "light"
     },
     "output_type": "display_data"
    }
   ],
   "source": [
    "# Look at distribution of scores (popularity)\n",
    "clean_beatles_coms['score'].hist(bins=50);"
   ]
  },
  {
   "cell_type": "code",
   "execution_count": 62,
   "metadata": {
    "scrolled": true
   },
   "outputs": [
    {
     "data": {
      "image/png": "[encoded data removed]",
      "text/plain": [
       "<Figure size 432x288 with 1 Axes>"
      ]
     },
     "metadata": {
      "needs_background": "light"
     },
     "output_type": "display_data"
    }
   ],
   "source": [
    "# Look at distribution of time created/posted\n",
    "clean_beatles_coms['created_utc'].hist();"
   ]
  },
  {
   "cell_type": "markdown",
   "metadata": {},
   "source": [
    "Distributions of score and time created are very similar to the distributions for the beatles submissions data and the queen submissions scores."
   ]
  },
  {
   "cell_type": "code",
   "execution_count": 63,
   "metadata": {
    "scrolled": true
   },
   "outputs": [],
   "source": [
    "# Create two new columns for analysis\n",
    "clean_beatles_coms = create_author_text_columns(clean_beatles_coms)"
   ]
  },
  {
   "cell_type": "markdown",
   "metadata": {},
   "source": [
    "### Queen comments"
   ]
  },
  {
   "cell_type": "code",
   "execution_count": 64,
   "metadata": {
    "scrolled": false
   },
   "outputs": [
    {
     "data": {
      "text/plain": [
       "author                   0\n",
       "author_flair_text    19993\n",
       "body                 19500\n",
       "created_utc              0\n",
       "score                    0\n",
       "selftext             14659\n",
       "subreddit                0\n",
       "title                  500\n",
       "dtype: int64"
      ]
     },
     "execution_count": 64,
     "metadata": {},
     "output_type": "execute_result"
    }
   ],
   "source": [
    "# Look for nulls (address later)\n",
    "clean_queen_coms.isnull().sum()"
   ]
  },
  {
   "cell_type": "code",
   "execution_count": 65,
   "metadata": {},
   "outputs": [
    {
     "data": {
      "text/html": [
       "<div>\n",
       "<style scoped>\n",
       "    .dataframe tbody tr th:only-of-type {\n",
       "        vertical-align: middle;\n",
       "    }\n",
       "\n",
       "    .dataframe tbody tr th {\n",
       "        vertical-align: top;\n",
       "    }\n",
       "\n",
       "    .dataframe thead th {\n",
       "        text-align: right;\n",
       "    }\n",
       "</style>\n",
       "<table border=\"1\" class=\"dataframe\">\n",
       "  <thead>\n",
       "    <tr style=\"text-align: right;\">\n",
       "      <th></th>\n",
       "      <th>author</th>\n",
       "      <th>author_flair_text</th>\n",
       "      <th>body</th>\n",
       "      <th>created_utc</th>\n",
       "      <th>score</th>\n",
       "      <th>selftext</th>\n",
       "      <th>subreddit</th>\n",
       "      <th>title</th>\n",
       "    </tr>\n",
       "  </thead>\n",
       "  <tbody>\n",
       "    <tr>\n",
       "      <th>0</th>\n",
       "      <td>Chevalenz</td>\n",
       "      <td>NaN</td>\n",
       "      <td>Gotta be honest: 'Hang On In There' and 'Khash...</td>\n",
       "      <td>1580155931</td>\n",
       "      <td>1</td>\n",
       "      <td>NaN</td>\n",
       "      <td>queen</td>\n",
       "      <td>NaN</td>\n",
       "    </tr>\n",
       "    <tr>\n",
       "      <th>1</th>\n",
       "      <td>EFF198783</td>\n",
       "      <td>NaN</td>\n",
       "      <td>Freddie should be on 1st place!!!</td>\n",
       "      <td>1580155699</td>\n",
       "      <td>1</td>\n",
       "      <td>NaN</td>\n",
       "      <td>queen</td>\n",
       "      <td>NaN</td>\n",
       "    </tr>\n",
       "    <tr>\n",
       "      <th>2</th>\n",
       "      <td>Dilanep37</td>\n",
       "      <td>NaN</td>\n",
       "      <td>I can get why you don't like hot space, as it ...</td>\n",
       "      <td>1580154020</td>\n",
       "      <td>1</td>\n",
       "      <td>NaN</td>\n",
       "      <td>queen</td>\n",
       "      <td>NaN</td>\n",
       "    </tr>\n",
       "    <tr>\n",
       "      <th>3</th>\n",
       "      <td>Dilanep37</td>\n",
       "      <td>NaN</td>\n",
       "      <td>nah, I like a lot of other songs on the album....</td>\n",
       "      <td>1580153636</td>\n",
       "      <td>1</td>\n",
       "      <td>NaN</td>\n",
       "      <td>queen</td>\n",
       "      <td>NaN</td>\n",
       "    </tr>\n",
       "    <tr>\n",
       "      <th>4</th>\n",
       "      <td>Jakeybaby125</td>\n",
       "      <td>NaN</td>\n",
       "      <td>That's you opinion but I honestly think it's q...</td>\n",
       "      <td>1580153373</td>\n",
       "      <td>1</td>\n",
       "      <td>NaN</td>\n",
       "      <td>queen</td>\n",
       "      <td>NaN</td>\n",
       "    </tr>\n",
       "  </tbody>\n",
       "</table>\n",
       "</div>"
      ],
      "text/plain": [
       "         author author_flair_text  \\\n",
       "0     Chevalenz               NaN   \n",
       "1     EFF198783               NaN   \n",
       "2     Dilanep37               NaN   \n",
       "3     Dilanep37               NaN   \n",
       "4  Jakeybaby125               NaN   \n",
       "\n",
       "                                                body  created_utc  score  \\\n",
       "0  Gotta be honest: 'Hang On In There' and 'Khash...   1580155931      1   \n",
       "1                  Freddie should be on 1st place!!!   1580155699      1   \n",
       "2  I can get why you don't like hot space, as it ...   1580154020      1   \n",
       "3  nah, I like a lot of other songs on the album....   1580153636      1   \n",
       "4  That's you opinion but I honestly think it's q...   1580153373      1   \n",
       "\n",
       "  selftext subreddit title  \n",
       "0      NaN     queen   NaN  \n",
       "1      NaN     queen   NaN  \n",
       "2      NaN     queen   NaN  \n",
       "3      NaN     queen   NaN  \n",
       "4      NaN     queen   NaN  "
      ]
     },
     "execution_count": 65,
     "metadata": {},
     "output_type": "execute_result"
    }
   ],
   "source": [
    "# Look at rows where title is null\n",
    "clean_queen_coms[clean_queen_coms['title'].isnull()].head()"
   ]
  },
  {
   "cell_type": "markdown",
   "metadata": {},
   "source": [
    "Again, rows with no title appear to often have a body. Follow same procedure as above."
   ]
  },
  {
   "cell_type": "code",
   "execution_count": 66,
   "metadata": {
    "scrolled": true
   },
   "outputs": [
    {
     "data": {
      "text/html": [
       "<div>\n",
       "<style scoped>\n",
       "    .dataframe tbody tr th:only-of-type {\n",
       "        vertical-align: middle;\n",
       "    }\n",
       "\n",
       "    .dataframe tbody tr th {\n",
       "        vertical-align: top;\n",
       "    }\n",
       "\n",
       "    .dataframe thead th {\n",
       "        text-align: right;\n",
       "    }\n",
       "</style>\n",
       "<table border=\"1\" class=\"dataframe\">\n",
       "  <thead>\n",
       "    <tr style=\"text-align: right;\">\n",
       "      <th></th>\n",
       "      <th>author</th>\n",
       "      <th>author_flair_text</th>\n",
       "      <th>body</th>\n",
       "      <th>created_utc</th>\n",
       "      <th>score</th>\n",
       "      <th>selftext</th>\n",
       "      <th>subreddit</th>\n",
       "      <th>title</th>\n",
       "    </tr>\n",
       "  </thead>\n",
       "  <tbody>\n",
       "  </tbody>\n",
       "</table>\n",
       "</div>"
      ],
      "text/plain": [
       "Empty DataFrame\n",
       "Columns: [author, author_flair_text, body, created_utc, score, selftext, subreddit, title]\n",
       "Index: []"
      ]
     },
     "execution_count": 66,
     "metadata": {},
     "output_type": "execute_result"
    }
   ],
   "source": [
    "# Change all cells with '[deleted]' or '[removed]' to null values\n",
    "clean_queen_coms = to_nulls(clean_queen_coms)\n",
    "\n",
    "# Confirm changes\n",
    "clean_queen_coms[(clean_queen_coms['author'] == '[deleted]') | \n",
    "                    (clean_queen_coms['author'] == '[removed]')]"
   ]
  },
  {
   "cell_type": "code",
   "execution_count": 67,
   "metadata": {
    "scrolled": true
   },
   "outputs": [
    {
     "data": {
      "text/html": [
       "<div>\n",
       "<style scoped>\n",
       "    .dataframe tbody tr th:only-of-type {\n",
       "        vertical-align: middle;\n",
       "    }\n",
       "\n",
       "    .dataframe tbody tr th {\n",
       "        vertical-align: top;\n",
       "    }\n",
       "\n",
       "    .dataframe thead th {\n",
       "        text-align: right;\n",
       "    }\n",
       "</style>\n",
       "<table border=\"1\" class=\"dataframe\">\n",
       "  <thead>\n",
       "    <tr style=\"text-align: right;\">\n",
       "      <th></th>\n",
       "      <th>author</th>\n",
       "      <th>author_flair_text</th>\n",
       "      <th>body</th>\n",
       "      <th>created_utc</th>\n",
       "      <th>score</th>\n",
       "      <th>selftext</th>\n",
       "      <th>subreddit</th>\n",
       "      <th>title</th>\n",
       "    </tr>\n",
       "  </thead>\n",
       "  <tbody>\n",
       "  </tbody>\n",
       "</table>\n",
       "</div>"
      ],
      "text/plain": [
       "Empty DataFrame\n",
       "Columns: [author, author_flair_text, body, created_utc, score, selftext, subreddit, title]\n",
       "Index: []"
      ]
     },
     "execution_count": 67,
     "metadata": {},
     "output_type": "execute_result"
    }
   ],
   "source": [
    "# Check if any rows where ['author', 'selftext', 'body', 'title'] are all null\n",
    "clean_queen_coms[(clean_queen_coms['author'].isnull()) &  \n",
    "                    (clean_queen_coms['selftext'].isnull()) & \n",
    "                    (clean_queen_coms['body'].isnull()) & \n",
    "                    (clean_queen_coms['title'].isnull())]\n"
   ]
  },
  {
   "cell_type": "markdown",
   "metadata": {},
   "source": [
    "There are no rows to drop from the queen comments dataset."
   ]
  },
  {
   "cell_type": "code",
   "execution_count": 68,
   "metadata": {},
   "outputs": [
    {
     "data": {
      "text/html": [
       "<div>\n",
       "<style scoped>\n",
       "    .dataframe tbody tr th:only-of-type {\n",
       "        vertical-align: middle;\n",
       "    }\n",
       "\n",
       "    .dataframe tbody tr th {\n",
       "        vertical-align: top;\n",
       "    }\n",
       "\n",
       "    .dataframe thead th {\n",
       "        text-align: right;\n",
       "    }\n",
       "</style>\n",
       "<table border=\"1\" class=\"dataframe\">\n",
       "  <thead>\n",
       "    <tr style=\"text-align: right;\">\n",
       "      <th></th>\n",
       "      <th>author</th>\n",
       "      <th>author_flair_text</th>\n",
       "      <th>body</th>\n",
       "      <th>created_utc</th>\n",
       "      <th>score</th>\n",
       "      <th>selftext</th>\n",
       "      <th>subreddit</th>\n",
       "      <th>title</th>\n",
       "    </tr>\n",
       "  </thead>\n",
       "  <tbody>\n",
       "  </tbody>\n",
       "</table>\n",
       "</div>"
      ],
      "text/plain": [
       "Empty DataFrame\n",
       "Columns: [author, author_flair_text, body, created_utc, score, selftext, subreddit, title]\n",
       "Index: []"
      ]
     },
     "execution_count": 68,
     "metadata": {},
     "output_type": "execute_result"
    }
   ],
   "source": [
    "# Check if any rows where ['selftext', 'body', 'title'] are all null\n",
    "clean_queen_coms[(clean_queen_coms['selftext'].isnull()) & \n",
    "                 (clean_queen_coms['body'].isnull()) & \n",
    "                 (clean_queen_coms['title'].isnull())]\n"
   ]
  },
  {
   "cell_type": "markdown",
   "metadata": {},
   "source": [
    "All rows have at least a title, selftext, or body to analyze with NLP."
   ]
  },
  {
   "cell_type": "code",
   "execution_count": 69,
   "metadata": {
    "scrolled": true
   },
   "outputs": [
    {
     "data": {
      "text/html": [
       "<div>\n",
       "<style scoped>\n",
       "    .dataframe tbody tr th:only-of-type {\n",
       "        vertical-align: middle;\n",
       "    }\n",
       "\n",
       "    .dataframe tbody tr th {\n",
       "        vertical-align: top;\n",
       "    }\n",
       "\n",
       "    .dataframe thead th {\n",
       "        text-align: right;\n",
       "    }\n",
       "</style>\n",
       "<table border=\"1\" class=\"dataframe\">\n",
       "  <thead>\n",
       "    <tr style=\"text-align: right;\">\n",
       "      <th></th>\n",
       "      <th>author</th>\n",
       "      <th>author_flair_text</th>\n",
       "      <th>body</th>\n",
       "      <th>created_utc</th>\n",
       "      <th>score</th>\n",
       "      <th>selftext</th>\n",
       "      <th>subreddit</th>\n",
       "      <th>title</th>\n",
       "    </tr>\n",
       "  </thead>\n",
       "  <tbody>\n",
       "  </tbody>\n",
       "</table>\n",
       "</div>"
      ],
      "text/plain": [
       "Empty DataFrame\n",
       "Columns: [author, author_flair_text, body, created_utc, score, selftext, subreddit, title]\n",
       "Index: []"
      ]
     },
     "execution_count": 69,
     "metadata": {},
     "output_type": "execute_result"
    }
   ],
   "source": [
    "# See if there are any rows with nulls in BOTH 'title' and 'body'\n",
    "clean_queen_coms[(clean_queen_coms['body'].isnull()) & (clean_queen_coms['title'].isnull())]\n"
   ]
  },
  {
   "cell_type": "markdown",
   "metadata": {},
   "source": [
    "All rows have either a body or a title, and another ~5,300 rows have selftext as well."
   ]
  },
  {
   "cell_type": "code",
   "execution_count": 70,
   "metadata": {},
   "outputs": [
    {
     "data": {
      "text/plain": [
       "author               0\n",
       "author_flair_text    0\n",
       "body                 0\n",
       "created_utc          0\n",
       "score                0\n",
       "selftext             0\n",
       "subreddit            0\n",
       "title                0\n",
       "dtype: int64"
      ]
     },
     "execution_count": 70,
     "metadata": {},
     "output_type": "execute_result"
    }
   ],
   "source": [
    "# Replace nulls with '-'\n",
    "clean_queen_coms = replace_nulls(clean_queen_coms, cols_to_fill)\n",
    "\n",
    "# Check that changes stuck\n",
    "clean_queen_coms.isnull().sum()"
   ]
  },
  {
   "cell_type": "code",
   "execution_count": 71,
   "metadata": {
    "scrolled": true
   },
   "outputs": [
    {
     "data": {
      "text/html": [
       "<div>\n",
       "<style scoped>\n",
       "    .dataframe tbody tr th:only-of-type {\n",
       "        vertical-align: middle;\n",
       "    }\n",
       "\n",
       "    .dataframe tbody tr th {\n",
       "        vertical-align: top;\n",
       "    }\n",
       "\n",
       "    .dataframe thead th {\n",
       "        text-align: right;\n",
       "    }\n",
       "</style>\n",
       "<table border=\"1\" class=\"dataframe\">\n",
       "  <thead>\n",
       "    <tr style=\"text-align: right;\">\n",
       "      <th></th>\n",
       "      <th>author</th>\n",
       "      <th>author_flair_text</th>\n",
       "      <th>body</th>\n",
       "      <th>created_utc</th>\n",
       "      <th>score</th>\n",
       "      <th>selftext</th>\n",
       "      <th>subreddit</th>\n",
       "      <th>title</th>\n",
       "    </tr>\n",
       "  </thead>\n",
       "  <tbody>\n",
       "  </tbody>\n",
       "</table>\n",
       "</div>"
      ],
      "text/plain": [
       "Empty DataFrame\n",
       "Columns: [author, author_flair_text, body, created_utc, score, selftext, subreddit, title]\n",
       "Index: []"
      ]
     },
     "execution_count": 71,
     "metadata": {},
     "output_type": "execute_result"
    }
   ],
   "source": [
    "# Make sure all 'subreddit' == 'queen'\n",
    "clean_queen_coms[clean_queen_coms['subreddit'] != 'queen']"
   ]
  },
  {
   "cell_type": "code",
   "execution_count": 72,
   "metadata": {},
   "outputs": [
    {
     "data": {
      "image/png": "[encoded data removed]",
      "text/plain": [
       "<Figure size 432x288 with 1 Axes>"
      ]
     },
     "metadata": {
      "needs_background": "light"
     },
     "output_type": "display_data"
    }
   ],
   "source": [
    "# Look at distribution of scores (popularity)\n",
    "clean_queen_coms['score'].hist(bins=50);"
   ]
  },
  {
   "cell_type": "code",
   "execution_count": 73,
   "metadata": {
    "scrolled": true
   },
   "outputs": [
    {
     "data": {
      "image/png": "[encoded data removed]",
      "text/plain": [
       "<Figure size 432x288 with 1 Axes>"
      ]
     },
     "metadata": {
      "needs_background": "light"
     },
     "output_type": "display_data"
    }
   ],
   "source": [
    "# Look at distribution of time created/posted\n",
    "clean_queen_coms['created_utc'].hist();"
   ]
  },
  {
   "cell_type": "markdown",
   "metadata": {},
   "source": [
    "Distributions look very similar to those for the queen submissions data. Posts go back further than the beatles data, but scores look similarly distributed amongst all datasets."
   ]
  },
  {
   "cell_type": "code",
   "execution_count": 74,
   "metadata": {
    "scrolled": true
   },
   "outputs": [],
   "source": [
    "# Create two new columns for analysis\n",
    "clean_queen_coms = create_author_text_columns(clean_queen_coms)"
   ]
  },
  {
   "cell_type": "markdown",
   "metadata": {},
   "source": [
    "## Export four clean dataframes to use for analysis"
   ]
  },
  {
   "cell_type": "code",
   "execution_count": 75,
   "metadata": {},
   "outputs": [],
   "source": [
    "# Export clean Beatles submissions data\n",
    "clean_beatles_subs.to_csv('./data/clean_beatles_subs.csv', index=False)"
   ]
  },
  {
   "cell_type": "code",
   "execution_count": 76,
   "metadata": {},
   "outputs": [],
   "source": [
    "# Export clean Queen submissions data\n",
    "clean_queen_subs.to_csv('./data/clean_queen_subs.csv', index=False)"
   ]
  },
  {
   "cell_type": "code",
   "execution_count": 77,
   "metadata": {},
   "outputs": [],
   "source": [
    "# Export clean Beatles comments data\n",
    "clean_beatles_coms.to_csv('./data/clean_beatles_coms.csv', index=False)"
   ]
  },
  {
   "cell_type": "code",
   "execution_count": 78,
   "metadata": {},
   "outputs": [],
   "source": [
    "# Export clean Queen comments data\n",
    "clean_queen_coms.to_csv('./data/clean_queen_coms.csv', index=False)"
   ]
  },
  {
   "cell_type": "code",
   "execution_count": null,
   "metadata": {},
   "outputs": [],
   "source": []
  }
 ],
 "metadata": {
  "kernelspec": {
   "display_name": "Python 3",
   "language": "python",
   "name": "python3"
  },
  "language_info": {
   "codemirror_mode": {
    "name": "ipython",
    "version": 3
   },
   "file_extension": ".py",
   "mimetype": "text/x-python",
   "name": "python",
   "nbconvert_exporter": "python",
   "pygments_lexer": "ipython3",
   "version": "3.7.5"
  }
 },
 "nbformat": 4,
 "nbformat_minor": 2
}
