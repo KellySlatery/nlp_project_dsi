{
 "cells": [
  {
   "cell_type": "markdown",
   "metadata": {},
   "source": [
    "# Project 3: Web APIs & NLP - 04"
   ]
  },
  {
   "cell_type": "markdown",
   "metadata": {},
   "source": [
    "Kelly Slatery | US-DSI-10 | 01.31.2020"
   ]
  },
  {
   "cell_type": "code",
   "execution_count": 134,
   "metadata": {},
   "outputs": [],
   "source": [
    "# Imports\n",
    "import numpy as np\n",
    "import pandas as pd\n",
    "from sklearn.linear_model import LogisticRegression\n",
    "from sklearn.model_selection import train_test_split, cross_val_score, GridSearchCV\n",
    "from sklearn.pipeline import Pipeline\n",
    "from sklearn.feature_extraction.text import CountVectorizer, TfidfVectorizer\n",
    "from sklearn.naive_bayes import MultinomialNB\n",
    "from sklearn.neighbors import KNeighborsClassifier\n",
    "from sklearn.ensemble import RandomForestClassifier, BaggingClassifier, GradientBoostingClassifier, AdaBoostClassifier\n",
    "from sklearn.svm import SVC"
   ]
  },
  {
   "cell_type": "code",
   "execution_count": 2,
   "metadata": {},
   "outputs": [],
   "source": [
    "# Set viewing options\n",
    "pd.set_option('display.max_columns', 10000)"
   ]
  },
  {
   "cell_type": "markdown",
   "metadata": {},
   "source": [
    "# Import data"
   ]
  },
  {
   "cell_type": "code",
   "execution_count": 3,
   "metadata": {},
   "outputs": [],
   "source": [
    "submissions = pd.read_csv('./data/submissions.csv')"
   ]
  },
  {
   "cell_type": "code",
   "execution_count": 4,
   "metadata": {},
   "outputs": [],
   "source": [
    "comments = pd.read_csv('./data/comments.csv')"
   ]
  },
  {
   "cell_type": "markdown",
   "metadata": {},
   "source": [
    "# Explore Vectorizing Hyperparameters"
   ]
  },
  {
   "cell_type": "markdown",
   "metadata": {},
   "source": [
    "## Submissions"
   ]
  },
  {
   "cell_type": "code",
   "execution_count": 11,
   "metadata": {},
   "outputs": [],
   "source": [
    "# Code credits: Benjamin Peck - GA US-DSI-10 DC\n",
    "\n",
    "# Define X and y\n",
    "X = submissions['all_text']\n",
    "y = submissions['subreddit']\n",
    "\n",
    "# Split data into train and test sets\n",
    "X_train, X_test, y_train, y_test = train_test_split(X, y, \n",
    "                                                    test_size=.33, \n",
    "                                                    random_state=42)\n",
    "\n",
    "# Parameters: CountVectorizer, ngram_range=(1,2), max_df=.95\n",
    "cvec = CountVectorizer(ngram_range=(1,2), max_df=.95)\n",
    "cvec.fit(X_train)\n",
    "X_train = cvec.transform(X_train)\n",
    "\n",
    "X_train_df = pd.DataFrame(X_train.toarray(),\n",
    "                          columns=cvec.get_feature_names())\n"
   ]
  },
  {
   "cell_type": "code",
   "execution_count": 12,
   "metadata": {
    "scrolled": true
   },
   "outputs": [
    {
     "data": {
      "text/plain": [
       "the     37097\n",
       "to      16537\n",
       "and     16387\n",
       "of      16027\n",
       "it      12477\n",
       "in      11056\n",
       "is       8815\n",
       "this     7637\n",
       "you      7552\n",
       "on       7176\n",
       "dtype: int64"
      ]
     },
     "execution_count": 12,
     "metadata": {},
     "output_type": "execute_result"
    }
   ],
   "source": [
    "X_train_df.sum().sort_values(ascending=False).head(10)"
   ]
  },
  {
   "cell_type": "markdown",
   "metadata": {},
   "source": [
    "Definitely exclude stopwords. Try max_features, too."
   ]
  },
  {
   "cell_type": "code",
   "execution_count": 13,
   "metadata": {},
   "outputs": [],
   "source": [
    "# Redefine X and resplit data\n",
    "X = submissions['all_text']\n",
    "X_train, X_test, y_train, y_test = train_test_split(X, y, test_size=.33, random_state=42)\n",
    "\n",
    "# CountVectorizer, stop_words='english', max_features=100\n",
    "cvec = CountVectorizer(stop_words='english', max_features=100)\n",
    "cvec.fit(X_train)\n",
    "X_train = cvec.transform(X_train)\n",
    "\n",
    "X_train_df = pd.DataFrame(X_train.toarray(),\n",
    "                          columns=cvec.get_feature_names())"
   ]
  },
  {
   "cell_type": "code",
   "execution_count": 14,
   "metadata": {
    "scrolled": true
   },
   "outputs": [
    {
     "data": {
      "text/plain": [
       "queen       5958\n",
       "beatles     5695\n",
       "song        3976\n",
       "album       3797\n",
       "like        3539\n",
       "freddie     3462\n",
       "just        3311\n",
       "songs       2970\n",
       "love        2861\n",
       "john        2834\n",
       "paul        2552\n",
       "know        2419\n",
       "think       2178\n",
       "live        1880\n",
       "favorite    1767\n",
       "don         1758\n",
       "ve          1734\n",
       "time        1696\n",
       "good        1671\n",
       "really      1611\n",
       "dtype: int64"
      ]
     },
     "execution_count": 14,
     "metadata": {},
     "output_type": "execute_result"
    }
   ],
   "source": [
    "X_train_df.sum().sort_values(ascending=False).head(20)"
   ]
  },
  {
   "cell_type": "markdown",
   "metadata": {},
   "source": [
    "Now things are getting interesting. The words \"favorite\", \"good\", \"really\", \"like\" and \"love\" all appeared here, which can be used maybe as an indicator of either band's popularity. This looks better, but try max_df and min_df this time to rule out words that appear in too many documents."
   ]
  },
  {
   "cell_type": "code",
   "execution_count": 15,
   "metadata": {},
   "outputs": [],
   "source": [
    "# Redefine X and resplit data\n",
    "X = submissions['all_text']\n",
    "X_train, X_test, y_train, y_test = train_test_split(X, y, test_size=.33, random_state=42)\n",
    "\n",
    "# CountVectorizer, stop_words='english', max_features=100, max_df=.95, min_df=.05\n",
    "cvec = CountVectorizer(stop_words='english', max_features=100, max_df=.95, min_df=.05)\n",
    "cvec.fit(X_train)\n",
    "X_train = cvec.transform(X_train)\n",
    "\n",
    "X_train_df = pd.DataFrame(X_train.toarray(),\n",
    "                          columns=cvec.get_feature_names())"
   ]
  },
  {
   "cell_type": "code",
   "execution_count": 16,
   "metadata": {},
   "outputs": [
    {
     "data": {
      "text/plain": [
       "queen      5958\n",
       "beatles    5695\n",
       "song       3976\n",
       "album      3797\n",
       "like       3539\n",
       "freddie    3462\n",
       "just       3311\n",
       "songs      2970\n",
       "love       2861\n",
       "john       2834\n",
       "paul       2552\n",
       "know       2419\n",
       "think      2178\n",
       "don        1758\n",
       "dtype: int64"
      ]
     },
     "execution_count": 16,
     "metadata": {},
     "output_type": "execute_result"
    }
   ],
   "source": [
    "X_train_df.sum().sort_values(ascending=False).head(20)"
   ]
  },
  {
   "cell_type": "markdown",
   "metadata": {},
   "source": [
    "Only returns 14 words. This must mean that only 14 words appear in >5% and <95% of documents. Try removing max_df and min_df, but adjusting ngram_range!"
   ]
  },
  {
   "cell_type": "code",
   "execution_count": 17,
   "metadata": {},
   "outputs": [],
   "source": [
    "# Redefine X and resplit data\n",
    "X = submissions['all_text']\n",
    "X_train, X_test, y_train, y_test = train_test_split(X, y, test_size=.33, random_state=42)\n",
    "\n",
    "# CountVectorizer, stop_words='english', max_features=100, ngram_range(1,3)\n",
    "cvec = CountVectorizer(stop_words='english', max_features=100, ngram_range=(1,3))\n",
    "cvec.fit(X_train)\n",
    "X_train = cvec.transform(X_train)\n",
    "\n",
    "X_train_df = pd.DataFrame(X_train.toarray(),\n",
    "                          columns=cvec.get_feature_names())"
   ]
  },
  {
   "cell_type": "code",
   "execution_count": 18,
   "metadata": {},
   "outputs": [
    {
     "data": {
      "text/plain": [
       "queen       5958\n",
       "beatles     5695\n",
       "song        3976\n",
       "album       3797\n",
       "like        3539\n",
       "freddie     3462\n",
       "just        3311\n",
       "songs       2970\n",
       "love        2861\n",
       "john        2834\n",
       "paul        2552\n",
       "know        2419\n",
       "think       2178\n",
       "live        1880\n",
       "favorite    1767\n",
       "don         1758\n",
       "ve          1734\n",
       "time        1696\n",
       "good        1671\n",
       "really      1611\n",
       "dtype: int64"
      ]
     },
     "execution_count": 18,
     "metadata": {},
     "output_type": "execute_result"
    }
   ],
   "source": [
    "X_train_df.sum().sort_values(ascending=False).head(20)"
   ]
  },
  {
   "cell_type": "markdown",
   "metadata": {},
   "source": [
    "Try the same with the max_df and min_df hyperparameters."
   ]
  },
  {
   "cell_type": "code",
   "execution_count": 19,
   "metadata": {},
   "outputs": [],
   "source": [
    "# Redefine X and resplit data\n",
    "X = submissions['all_text']\n",
    "X_train, X_test, y_train, y_test = train_test_split(X, y, test_size=.33, random_state=42)\n",
    "\n",
    "# CountVectorizer, stop_words='english', max_features=100, \n",
    "# max_df=.95, min_df=.05, ngram_range(1,3)\n",
    "cvec = CountVectorizer(stop_words='english', max_df=.95, min_df=.05, \n",
    "                       max_features=100, ngram_range=(1,3))\n",
    "cvec.fit(X_train)\n",
    "X_train = cvec.transform(X_train)\n",
    "\n",
    "X_train_df = pd.DataFrame(X_train.toarray(),\n",
    "                          columns=cvec.get_feature_names())"
   ]
  },
  {
   "cell_type": "code",
   "execution_count": 20,
   "metadata": {},
   "outputs": [
    {
     "data": {
      "text/plain": [
       "queen      5958\n",
       "beatles    5695\n",
       "song       3976\n",
       "album      3797\n",
       "like       3539\n",
       "freddie    3462\n",
       "just       3311\n",
       "songs      2970\n",
       "love       2861\n",
       "john       2834\n",
       "paul       2552\n",
       "know       2419\n",
       "think      2178\n",
       "don        1758\n",
       "dtype: int64"
      ]
     },
     "execution_count": 20,
     "metadata": {},
     "output_type": "execute_result"
    }
   ],
   "source": [
    "X_train_df.sum().sort_values(ascending=False).head(20)"
   ]
  },
  {
   "cell_type": "markdown",
   "metadata": {},
   "source": [
    "This only returns 14 words again. Look at end of the list."
   ]
  },
  {
   "cell_type": "code",
   "execution_count": 21,
   "metadata": {},
   "outputs": [
    {
     "data": {
      "text/plain": [
       "queen      5958\n",
       "beatles    5695\n",
       "song       3976\n",
       "album      3797\n",
       "like       3539\n",
       "freddie    3462\n",
       "just       3311\n",
       "songs      2970\n",
       "love       2861\n",
       "john       2834\n",
       "paul       2552\n",
       "know       2419\n",
       "think      2178\n",
       "don        1758\n",
       "dtype: int64"
      ]
     },
     "execution_count": 21,
     "metadata": {},
     "output_type": "execute_result"
    }
   ],
   "source": [
    "X_train_df.sum().sort_values(ascending=False).tail(20)"
   ]
  },
  {
   "cell_type": "markdown",
   "metadata": {},
   "source": [
    "Apparently this dataset does not contain many words that appear either not extremely frequently or not extremely sparsely across both subreddits. Might mean that most words are unique to the subreddit? Or may indicate that there won't be many strong predictors for subreddit? Try increasing ngram_range."
   ]
  },
  {
   "cell_type": "code",
   "execution_count": 22,
   "metadata": {},
   "outputs": [],
   "source": [
    "# Redefine X and resplit data\n",
    "X = submissions['all_text']\n",
    "X_train, X_test, y_train, y_test = train_test_split(X, y, test_size=.33, random_state=42)\n",
    "\n",
    "# CountVectorizer, stop_words='english', max_features=100, \n",
    "# max_df=.95, min_df=.05, ngram_range(1,5)\n",
    "cvec = CountVectorizer(stop_words='english', max_df=.95, min_df=.05, \n",
    "                       max_features=100, ngram_range=(1,5))\n",
    "cvec.fit(X_train)\n",
    "X_train = cvec.transform(X_train)\n",
    "\n",
    "X_train_df = pd.DataFrame(X_train.toarray(),\n",
    "                          columns=cvec.get_feature_names())"
   ]
  },
  {
   "cell_type": "code",
   "execution_count": 23,
   "metadata": {},
   "outputs": [
    {
     "data": {
      "text/plain": [
       "queen      5958\n",
       "beatles    5695\n",
       "song       3976\n",
       "album      3797\n",
       "like       3539\n",
       "freddie    3462\n",
       "just       3311\n",
       "songs      2970\n",
       "love       2861\n",
       "john       2834\n",
       "paul       2552\n",
       "know       2419\n",
       "think      2178\n",
       "don        1758\n",
       "dtype: int64"
      ]
     },
     "execution_count": 23,
     "metadata": {},
     "output_type": "execute_result"
    }
   ],
   "source": [
    "X_train_df.sum().sort_values(ascending=False).head(20)"
   ]
  },
  {
   "cell_type": "markdown",
   "metadata": {},
   "source": [
    "Try on a Tfidf vectorizer to see if we can get any more words. Exclude hyperparameters max_df and min_df."
   ]
  },
  {
   "cell_type": "code",
   "execution_count": 24,
   "metadata": {},
   "outputs": [],
   "source": [
    "# Redefine X and resplit data\n",
    "X = submissions['all_text']\n",
    "X_train, X_test, y_train, y_test = train_test_split(X, y, test_size=.33, random_state=42)\n",
    "\n",
    "# Parameters: Tfidf, stop_words='english', max_features=100, ngram_range=(1,5)\n",
    "tvec = TfidfVectorizer(stop_words='english', max_features=100, ngram_range=(1,5))\n",
    "tvec.fit(X_train)\n",
    "X_train = tvec.transform(X_train)\n",
    "\n",
    "X_train_df = pd.DataFrame(X_train.toarray(),\n",
    "                          columns=tvec.get_feature_names())"
   ]
  },
  {
   "cell_type": "code",
   "execution_count": 25,
   "metadata": {
    "scrolled": true
   },
   "outputs": [
    {
     "data": {
      "text/plain": [
       "beatles     1886.489083\n",
       "queen       1826.466735\n",
       "freddie     1154.567234\n",
       "john         963.962467\n",
       "song         960.207850\n",
       "paul         888.150860\n",
       "album        870.035433\n",
       "just         849.385188\n",
       "like         801.153753\n",
       "love         749.070382\n",
       "know         640.352282\n",
       "songs        639.029800\n",
       "live         581.841990\n",
       "think        553.496659\n",
       "favorite     534.915588\n",
       "new          515.543446\n",
       "george       511.466247\n",
       "cover        508.716886\n",
       "brian        502.508013\n",
       "rhapsody     500.583565\n",
       "dtype: float64"
      ]
     },
     "execution_count": 25,
     "metadata": {},
     "output_type": "execute_result"
    }
   ],
   "source": [
    "X_train_df.sum().sort_values(ascending=False).head(20)"
   ]
  },
  {
   "cell_type": "markdown",
   "metadata": {},
   "source": [
    "Things are even more interesting. Here, we also get the next most popular memeber of either band and \"rhapsody\" from Queen's geatest hit, \"Bohemian Rhapsody\", and the recent Queen film named after the song. Try with higher max_features hyperparameter and ngram_range=(1,2)."
   ]
  },
  {
   "cell_type": "code",
   "execution_count": 26,
   "metadata": {},
   "outputs": [],
   "source": [
    "# Redefine X and resplit data\n",
    "X = submissions['all_text']\n",
    "X_train, X_test, y_train, y_test = train_test_split(X, y, test_size=.33, random_state=42)\n",
    "\n",
    "# Parameters: Tfidf, stop_words='english', max_features=200, ngram_range=(1,2)\n",
    "tvec = TfidfVectorizer(stop_words='english', max_features=200, ngram_range=(1,2))\n",
    "tvec.fit(X_train)\n",
    "X_train = tvec.transform(X_train)\n",
    "\n",
    "X_train_df = pd.DataFrame(X_train.toarray(),\n",
    "                          columns=tvec.get_feature_names())"
   ]
  },
  {
   "cell_type": "code",
   "execution_count": 27,
   "metadata": {},
   "outputs": [
    {
     "data": {
      "text/plain": [
       "beatles     1614.644400\n",
       "queen       1578.579878\n",
       "freddie     1033.163416\n",
       "john         869.531262\n",
       "song         818.521680\n",
       "paul         800.126365\n",
       "album        746.392164\n",
       "just         717.828836\n",
       "like         675.807026\n",
       "love         649.757306\n",
       "know         550.367331\n",
       "songs        542.389767\n",
       "think        477.064094\n",
       "live         470.343169\n",
       "favorite     464.765068\n",
       "brian        460.604249\n",
       "cover        451.837465\n",
       "rhapsody     450.767763\n",
       "new          446.873772\n",
       "george       435.680004\n",
       "dtype: float64"
      ]
     },
     "execution_count": 27,
     "metadata": {},
     "output_type": "execute_result"
    }
   ],
   "source": [
    "X_train_df.sum().sort_values(ascending=False).head(20)"
   ]
  },
  {
   "cell_type": "markdown",
   "metadata": {},
   "source": [
    "Try Tfidf one more time with ngram_range=(1,4)."
   ]
  },
  {
   "cell_type": "code",
   "execution_count": 28,
   "metadata": {},
   "outputs": [],
   "source": [
    "# Redefine X and resplit data\n",
    "X = submissions['all_text']\n",
    "X_train, X_test, y_train, y_test = train_test_split(X, y, test_size=.33, random_state=42)\n",
    "\n",
    "# Parameters: Tfidf, stop_words='english', max_features=200, ngram_range=(1,4)\n",
    "tvec = TfidfVectorizer(stop_words='english', max_features=200, ngram_range=(1,4))\n",
    "tvec.fit(X_train)\n",
    "X_train = tvec.transform(X_train)\n",
    "\n",
    "X_train_df = pd.DataFrame(X_train.toarray(),\n",
    "                          columns=tvec.get_feature_names())"
   ]
  },
  {
   "cell_type": "code",
   "execution_count": 29,
   "metadata": {},
   "outputs": [
    {
     "data": {
      "text/plain": [
       "beatles     1614.644400\n",
       "queen       1578.579878\n",
       "freddie     1033.163416\n",
       "john         869.531262\n",
       "song         818.521680\n",
       "paul         800.126365\n",
       "album        746.392164\n",
       "just         717.828836\n",
       "like         675.807026\n",
       "love         649.757306\n",
       "know         550.367331\n",
       "songs        542.389767\n",
       "think        477.064094\n",
       "live         470.343169\n",
       "favorite     464.765068\n",
       "brian        460.604249\n",
       "cover        451.837465\n",
       "rhapsody     450.767763\n",
       "new          446.873772\n",
       "george       435.680004\n",
       "dtype: float64"
      ]
     },
     "execution_count": 29,
     "metadata": {},
     "output_type": "execute_result"
    }
   ],
   "source": [
    "X_train_df.sum().sort_values(ascending=False).head(20)"
   ]
  },
  {
   "cell_type": "markdown",
   "metadata": {},
   "source": [
    "Same as above. If using same features below, use TFIDFVectorizer with ngram_range=(1,2) to account for song titles or other appraisals of songs/band quality."
   ]
  },
  {
   "cell_type": "markdown",
   "metadata": {},
   "source": [
    "## Tokenized features"
   ]
  },
  {
   "cell_type": "code",
   "execution_count": 30,
   "metadata": {},
   "outputs": [],
   "source": [
    "# Redefine X and resplit data\n",
    "X = submissions['tokenized_all_text']\n",
    "X_train, X_test, y_train, y_test = train_test_split(X, y, test_size=.33, random_state=42)\n",
    "\n",
    "# Parameters: Tfidf, stop_words='english', max_features=200, ngram_range=(1,2)\n",
    "tvec = TfidfVectorizer(stop_words='english', max_features=200, ngram_range=(1,2))\n",
    "tvec.fit(X_train)\n",
    "X_train = tvec.transform(X_train)\n",
    "\n",
    "X_train_df = pd.DataFrame(X_train.toarray(),\n",
    "                          columns=tvec.get_feature_names())"
   ]
  },
  {
   "cell_type": "code",
   "execution_count": 31,
   "metadata": {
    "scrolled": true
   },
   "outputs": [
    {
     "data": {
      "text/plain": [
       "beatles     1592.529864\n",
       "queen       1557.801341\n",
       "freddie     1027.216092\n",
       "john         859.521241\n",
       "song         811.963764\n",
       "paul         793.425225\n",
       "album        740.342008\n",
       "just         712.336126\n",
       "like         670.526623\n",
       "love         643.339190\n",
       "know         545.480566\n",
       "songs        535.558398\n",
       "live         480.885690\n",
       "think        473.724603\n",
       "brian        454.852055\n",
       "cover        449.128473\n",
       "rhapsody     447.971614\n",
       "new          442.054450\n",
       "bohemian     433.481058\n",
       "george       431.784790\n",
       "dtype: float64"
      ]
     },
     "execution_count": 31,
     "metadata": {},
     "output_type": "execute_result"
    }
   ],
   "source": [
    "X_train_df.sum().sort_values(ascending=False).head(20)"
   ]
  },
  {
   "cell_type": "markdown",
   "metadata": {},
   "source": [
    "Returns approximately same list as above using original text (order varies slightly)."
   ]
  },
  {
   "cell_type": "markdown",
   "metadata": {},
   "source": [
    "## Stemmatized features"
   ]
  },
  {
   "cell_type": "code",
   "execution_count": 32,
   "metadata": {},
   "outputs": [],
   "source": [
    "# Redefine X and resplit data\n",
    "X = submissions['stemmatized_tokenized_all_text']\n",
    "X_train, X_test, y_train, y_test = train_test_split(X, y, test_size=.33, random_state=42)\n",
    "\n",
    "# Parameters: Tfidf, stop_words='english', max_features=200, ngram_range=(1,4)\n",
    "tvec = TfidfVectorizer(stop_words='english', max_features=200, ngram_range=(1,4))\n",
    "tvec.fit(X_train)\n",
    "X_train = tvec.transform(X_train)\n",
    "\n",
    "X_train_df = pd.DataFrame(X_train.toarray(),\n",
    "                          columns=tvec.get_feature_names())"
   ]
  },
  {
   "cell_type": "code",
   "execution_count": 33,
   "metadata": {},
   "outputs": [
    {
     "data": {
      "text/plain": [
       "beatl       1550.064589\n",
       "thi         1519.505267\n",
       "queen       1457.214792\n",
       "song        1033.796842\n",
       "freddi       990.337374\n",
       "album        826.321937\n",
       "john         806.828264\n",
       "wa           786.392758\n",
       "paul         739.195429\n",
       "love         683.456928\n",
       "just         639.012384\n",
       "like         632.487864\n",
       "know         529.583599\n",
       "live         508.940201\n",
       "cover        501.005068\n",
       "think        469.975056\n",
       "hi           466.110825\n",
       "day          439.373653\n",
       "rhapsodi     432.387646\n",
       "georg        430.724119\n",
       "dtype: float64"
      ]
     },
     "execution_count": 33,
     "metadata": {},
     "output_type": "execute_result"
    }
   ],
   "source": [
    "X_train_df.sum().sort_values(ascending=False).head(20)"
   ]
  },
  {
   "cell_type": "markdown",
   "metadata": {},
   "source": [
    "This doesn't work well as stop words weren't removed before stemmatizing. In addition, even with stemmatizing, we got about the same apread of words."
   ]
  },
  {
   "cell_type": "markdown",
   "metadata": {},
   "source": [
    "## Important features by subreddit"
   ]
  },
  {
   "cell_type": "code",
   "execution_count": 34,
   "metadata": {},
   "outputs": [],
   "source": [
    "# Use ['all_text'] as feature because there was negligible difference\n",
    "\n",
    "# Beatles subreddit\n",
    "\n",
    "# Redefine X and y and resplit data\n",
    "X = submissions.loc[submissions['subreddit']==1, 'all_text']\n",
    "y = submissions.loc[submissions['subreddit']==1, 'subreddit']\n",
    "\n",
    "X_train, X_test, y_train, y_test = train_test_split(X, y, test_size=.33, random_state=42)\n",
    "\n",
    "# Parameters: Tfidf, stop_words='english', max_features=200, ngram_range=(1,2)\n",
    "tvec = TfidfVectorizer(stop_words='english', max_features=200, ngram_range=(1,2))\n",
    "tvec.fit(X_train)\n",
    "X_train = tvec.transform(X_train)\n",
    "\n",
    "X_train_df = pd.DataFrame(X_train.toarray(),\n",
    "                          columns=tvec.get_feature_names())\n"
   ]
  },
  {
   "cell_type": "code",
   "execution_count": 35,
   "metadata": {
    "scrolled": true
   },
   "outputs": [
    {
     "data": {
      "text/plain": [
       "beatles           1345.086343\n",
       "paul               730.681924\n",
       "john               639.445936\n",
       "album              481.971823\n",
       "song               423.825300\n",
       "george             398.134209\n",
       "just               382.810765\n",
       "ringo              348.946499\n",
       "like               348.070276\n",
       "lennon             330.265402\n",
       "mccartney          322.423354\n",
       "songs              298.850863\n",
       "know               293.109068\n",
       "love               293.026019\n",
       "cover              259.435330\n",
       "new                254.826316\n",
       "think              244.288262\n",
       "favorite           244.272047\n",
       "paul mccartney     239.438906\n",
       "got                238.801745\n",
       "dtype: float64"
      ]
     },
     "execution_count": 35,
     "metadata": {},
     "output_type": "execute_result"
    }
   ],
   "source": [
    "X_train_df.sum().sort_values(ascending=False).head(20)"
   ]
  },
  {
   "cell_type": "code",
   "execution_count": 36,
   "metadata": {},
   "outputs": [],
   "source": [
    "# Queen subreddit\n",
    "\n",
    "# Redefine X and y and resplit data\n",
    "X = submissions.loc[submissions['subreddit']==0, 'all_text']\n",
    "y = submissions.loc[submissions['subreddit']==0, 'subreddit']\n",
    "\n",
    "X_train, X_test, y_train, y_test = train_test_split(X, y, test_size=.33, random_state=42)\n",
    "\n",
    "# Parameters: Tfidf, stop_words='english', max_features=200, ngram_range=(1,2)\n",
    "tvec = TfidfVectorizer(stop_words='english', max_features=200, ngram_range=(1,2))\n",
    "tvec.fit(X_train)\n",
    "X_train = tvec.transform(X_train)\n",
    "\n",
    "X_train_df = pd.DataFrame(X_train.toarray(),\n",
    "                          columns=tvec.get_feature_names())\n"
   ]
  },
  {
   "cell_type": "code",
   "execution_count": 37,
   "metadata": {
    "scrolled": true
   },
   "outputs": [
    {
     "data": {
      "text/plain": [
       "queen                1291.302237\n",
       "freddie               927.981000\n",
       "brian                 418.573633\n",
       "rhapsody              411.088819\n",
       "bohemian              401.419922\n",
       "mercury               396.391251\n",
       "song                  384.444206\n",
       "bohemian rhapsody     382.732644\n",
       "just                  360.700565\n",
       "freddie mercury       348.368627\n",
       "love                  337.698831\n",
       "like                  334.623431\n",
       "live                  331.719127\n",
       "know                  256.577398\n",
       "songs                 236.157179\n",
       "best                  227.772689\n",
       "album                 225.424326\n",
       "think                 225.350771\n",
       "favorite              217.704215\n",
       "roger                 216.701616\n",
       "dtype: float64"
      ]
     },
     "execution_count": 37,
     "metadata": {},
     "output_type": "execute_result"
    }
   ],
   "source": [
    "X_train_df.sum().sort_values(ascending=False).head(20)"
   ]
  },
  {
   "cell_type": "markdown",
   "metadata": {},
   "source": [
    "Try with CountVectorizer to see if there is a substantial difference."
   ]
  },
  {
   "cell_type": "code",
   "execution_count": 38,
   "metadata": {},
   "outputs": [],
   "source": [
    "# Beatles subreddit\n",
    "\n",
    "# Redefine X and y and resplit data\n",
    "X = submissions.loc[submissions['subreddit']==1, 'all_text']\n",
    "y = submissions.loc[submissions['subreddit']==1, 'subreddit']\n",
    "\n",
    "X_train, X_test, y_train, y_test = train_test_split(X, y, test_size=.33, random_state=42)\n",
    "\n",
    "# Parameters: CountVectorizer, stop_words='english', max_features=200, ngram_range=(1,2)\n",
    "cvec = CountVectorizer(stop_words='english', max_features=200, ngram_range=(1,2))\n",
    "cvec.fit(X_train)\n",
    "X_train = cvec.transform(X_train)\n",
    "\n",
    "X_train_df = pd.DataFrame(X_train.toarray(),\n",
    "                          columns=cvec.get_feature_names())\n"
   ]
  },
  {
   "cell_type": "code",
   "execution_count": 39,
   "metadata": {
    "scrolled": false
   },
   "outputs": [
    {
     "data": {
      "text/plain": [
       "beatles      5782\n",
       "album        3048\n",
       "paul         2526\n",
       "song         2346\n",
       "john         2303\n",
       "like         2022\n",
       "just         1934\n",
       "songs        1854\n",
       "love         1367\n",
       "know         1338\n",
       "george       1220\n",
       "think        1157\n",
       "favorite     1151\n",
       "ve           1036\n",
       "ringo        1011\n",
       "mccartney    1002\n",
       "lennon        990\n",
       "really        926\n",
       "time          926\n",
       "road          891\n",
       "dtype: int64"
      ]
     },
     "execution_count": 39,
     "metadata": {},
     "output_type": "execute_result"
    }
   ],
   "source": [
    "X_train_df.sum().sort_values(ascending=False).head(20)"
   ]
  },
  {
   "cell_type": "code",
   "execution_count": 40,
   "metadata": {},
   "outputs": [],
   "source": [
    "# Queen subreddit\n",
    "\n",
    "# Redefine X and y and resplit data\n",
    "X = submissions.loc[submissions['subreddit']==0, 'all_text']\n",
    "y = submissions.loc[submissions['subreddit']==0, 'subreddit']\n",
    "\n",
    "X_train, X_test, y_train, y_test = train_test_split(X, y, test_size=.33, random_state=42)\n",
    "\n",
    "# Parameters: CountVectorizer, max_features=200, ngram_range=(1,2)\n",
    "cvec = CountVectorizer(stop_words='english', max_features=200, ngram_range=(1,2))\n",
    "cvec.fit(X_train)\n",
    "X_train = cvec.transform(X_train)\n",
    "\n",
    "X_train_df = pd.DataFrame(X_train.toarray(),\n",
    "                          columns=cvec.get_feature_names())\n"
   ]
  },
  {
   "cell_type": "code",
   "execution_count": 41,
   "metadata": {
    "scrolled": true
   },
   "outputs": [
    {
     "data": {
      "text/plain": [
       "queen                5866\n",
       "freddie              3242\n",
       "song                 1950\n",
       "live                 1535\n",
       "like                 1508\n",
       "just                 1505\n",
       "love                 1466\n",
       "rhapsody             1448\n",
       "bohemian             1414\n",
       "bohemian rhapsody    1369\n",
       "songs                1233\n",
       "brian                1139\n",
       "mercury              1060\n",
       "know                 1017\n",
       "think                 986\n",
       "album                 943\n",
       "don                   908\n",
       "freddie mercury       900\n",
       "good                  882\n",
       "best                  811\n",
       "dtype: int64"
      ]
     },
     "execution_count": 41,
     "metadata": {},
     "output_type": "execute_result"
    }
   ],
   "source": [
    "X_train_df.sum().sort_values(ascending=False).head(20)"
   ]
  },
  {
   "cell_type": "markdown",
   "metadata": {},
   "source": [
    "Use 'all_text' for all further analysis. Try models with CountVectorizer and TFIDFVectorizer."
   ]
  },
  {
   "cell_type": "markdown",
   "metadata": {},
   "source": [
    "## Important features appearing < 1000 times"
   ]
  },
  {
   "cell_type": "code",
   "execution_count": 42,
   "metadata": {},
   "outputs": [],
   "source": [
    "# Redefine X and y and resplit data\n",
    "X = submissions['all_text']\n",
    "y = submissions['subreddit']\n",
    "\n",
    "X_train, X_test, y_train, y_test = train_test_split(X, y, test_size=.33, random_state=42)\n",
    "\n",
    "# Parameters: Tfidf, max_features=200, ngram_range=(1,2), max_df=999\n",
    "tvec = TfidfVectorizer(stop_words='english', max_features=200, ngram_range=(1,2), max_df=999)\n",
    "tvec.fit(X_train)\n",
    "X_train = tvec.transform(X_train)\n",
    "\n",
    "X_train_df = pd.DataFrame(X_train.toarray(),\n",
    "                          columns=tvec.get_feature_names())"
   ]
  },
  {
   "cell_type": "code",
   "execution_count": 43,
   "metadata": {
    "scrolled": true
   },
   "outputs": [
    {
     "data": {
      "text/plain": [
       "cover              525.503069\n",
       "brian              507.358230\n",
       "george             482.134788\n",
       "mercury            480.709273\n",
       "freddie mercury    422.481204\n",
       "lennon             420.323838\n",
       "ringo              402.920899\n",
       "today              398.059043\n",
       "mccartney          389.503787\n",
       "does               379.753635\n",
       "video              358.705365\n",
       "rock               356.367008\n",
       "let                333.821286\n",
       "version            332.137438\n",
       "life               331.147043\n",
       "want               328.392838\n",
       "roger              301.508815\n",
       "guys               292.723035\n",
       "years              292.550838\n",
       "movie              286.581789\n",
       "dtype: float64"
      ]
     },
     "execution_count": 43,
     "metadata": {},
     "output_type": "execute_result"
    }
   ],
   "source": [
    "X_train_df.sum().sort_values(ascending=False).head(20)"
   ]
  },
  {
   "cell_type": "markdown",
   "metadata": {},
   "source": [
    "The word \"rock\" is interesting--how will it help determine which subreddit a post comes from? What does that say about people's associations of the rock music genre with either band?"
   ]
  },
  {
   "cell_type": "code",
   "execution_count": 44,
   "metadata": {},
   "outputs": [],
   "source": [
    "# Redefine X and y and resplit data\n",
    "X = submissions['all_text']\n",
    "y = submissions['subreddit']\n",
    "\n",
    "X_train, X_test, y_train, y_test = train_test_split(X, y, test_size=.33, random_state=42)\n",
    "\n",
    "# Parameters: CountVectorizer, max_features=200, ngram_range=(1,2), max_df=999\n",
    "cvec = CountVectorizer(stop_words='english', max_features=200, ngram_range=(1,2), max_df=999)\n",
    "cvec.fit(X_train)\n",
    "X_train = cvec.transform(X_train)\n",
    "\n",
    "X_train_df = pd.DataFrame(X_train.toarray(),\n",
    "                          columns=cvec.get_feature_names())"
   ]
  },
  {
   "cell_type": "code",
   "execution_count": 45,
   "metadata": {
    "scrolled": true
   },
   "outputs": [
    {
     "data": {
      "text/plain": [
       "brian              1290\n",
       "let                1277\n",
       "want               1213\n",
       "george             1201\n",
       "life               1177\n",
       "version            1127\n",
       "rock               1107\n",
       "mercury            1090\n",
       "people             1073\n",
       "does               1068\n",
       "lennon             1060\n",
       "mccartney          1036\n",
       "cover              1012\n",
       "great               991\n",
       "10                  981\n",
       "albums              974\n",
       "ringo               942\n",
       "freddie mercury     928\n",
       "youtube             918\n",
       "night               905\n",
       "dtype: int64"
      ]
     },
     "execution_count": 45,
     "metadata": {},
     "output_type": "execute_result"
    }
   ],
   "source": [
    "X_train_df.sum().sort_values(ascending=False).head(20)"
   ]
  },
  {
   "cell_type": "markdown",
   "metadata": {},
   "source": [
    "I wonder if \"let\"'s popularity comes from \"Let It Be\", the Beatles hit. The word \"youtube\" comes from links and may be an interesting indicator if fans of either post more links to their music. The number 10 appears here, which seems odd."
   ]
  },
  {
   "cell_type": "markdown",
   "metadata": {},
   "source": [
    "# Logistic Regression - CountVectorizer"
   ]
  },
  {
   "cell_type": "code",
   "execution_count": 171,
   "metadata": {},
   "outputs": [],
   "source": [
    "# Redefine X and y and resplit data\n",
    "X = submissions['all_text']\n",
    "y = submissions['subreddit']\n",
    "\n",
    "X_train, X_test, y_train, y_test = train_test_split(X, y, test_size=.33, random_state=42)"
   ]
  },
  {
   "cell_type": "code",
   "execution_count": 172,
   "metadata": {},
   "outputs": [],
   "source": [
    "# Set up pipeline\n",
    "pipe_lr_c = Pipeline([\n",
    "    ('cvec', CountVectorizer(stop_words='english', ngram_range=(1,2))),\n",
    "    ('lr', LogisticRegression(solver='lbfgs', max_iter=5000))\n",
    "])\n",
    "\n",
    "# Set up pipeline params\n",
    "pipe_lr_c_params = {\n",
    "    'cvec__max_features': [200, 500],\n",
    "}\n"
   ]
  },
  {
   "cell_type": "code",
   "execution_count": 173,
   "metadata": {},
   "outputs": [
    {
     "name": "stdout",
     "output_type": "stream",
     "text": [
      "Fitting 5 folds for each of 2 candidates, totalling 10 fits\n"
     ]
    },
    {
     "name": "stderr",
     "output_type": "stream",
     "text": [
      "[Parallel(n_jobs=1)]: Using backend SequentialBackend with 1 concurrent workers.\n",
      "[Parallel(n_jobs=1)]: Done  10 out of  10 | elapsed:   15.3s finished\n"
     ]
    }
   ],
   "source": [
    "# Set up a gridsearch\n",
    "gs_lr_c = GridSearchCV(pipe_lr_c, pipe_lr_c_params, cv=5, verbose=1)\n",
    "\n",
    "# Fit the gridsearch\n",
    "gs_lr_c.fit(X_train, y_train);"
   ]
  },
  {
   "cell_type": "code",
   "execution_count": 174,
   "metadata": {},
   "outputs": [
    {
     "data": {
      "text/plain": [
       "0.854807583153593"
      ]
     },
     "execution_count": 174,
     "metadata": {},
     "output_type": "execute_result"
    }
   ],
   "source": [
    "# Find best score\n",
    "gs_lr_c.best_score_"
   ]
  },
  {
   "cell_type": "code",
   "execution_count": 175,
   "metadata": {
    "scrolled": true
   },
   "outputs": [
    {
     "data": {
      "text/plain": [
       "{'cvec__max_features': 500}"
      ]
     },
     "execution_count": 175,
     "metadata": {},
     "output_type": "execute_result"
    }
   ],
   "source": [
    "# Find best parameters\n",
    "gs_lr_c.best_params_"
   ]
  },
  {
   "cell_type": "markdown",
   "metadata": {},
   "source": [
    "# Logistic Regression - TFIDFVectorizer"
   ]
  },
  {
   "cell_type": "code",
   "execution_count": 163,
   "metadata": {},
   "outputs": [],
   "source": [
    "# Set up pipeline\n",
    "pipe_lr_t = Pipeline([\n",
    "    ('tvec', TfidfVectorizer(stop_words='english', ngram_range=(1,2))),\n",
    "    ('lr', LogisticRegression(solver='lbfgs', max_iter=5000))\n",
    "])\n",
    "\n",
    "# Set up pipeline params\n",
    "pipe_lr_t_params = {\n",
    "    'tvec__max_features': [200, 500],\n",
    "}\n"
   ]
  },
  {
   "cell_type": "code",
   "execution_count": 164,
   "metadata": {},
   "outputs": [
    {
     "name": "stdout",
     "output_type": "stream",
     "text": [
      "Fitting 5 folds for each of 2 candidates, totalling 10 fits\n"
     ]
    },
    {
     "name": "stderr",
     "output_type": "stream",
     "text": [
      "[Parallel(n_jobs=1)]: Using backend SequentialBackend with 1 concurrent workers.\n",
      "[Parallel(n_jobs=1)]: Done  10 out of  10 | elapsed:   15.4s finished\n"
     ]
    }
   ],
   "source": [
    "# Set up a gridsearch\n",
    "gs_lr_t = GridSearchCV(pipe_lr_t, pipe_lr_t_params, cv=5, verbose=1)\n",
    "\n",
    "# Fit the gridsearch\n",
    "gs_lr_t.fit(X_train, y_train);"
   ]
  },
  {
   "cell_type": "code",
   "execution_count": 165,
   "metadata": {},
   "outputs": [
    {
     "data": {
      "text/plain": [
       "0.855337344382639"
      ]
     },
     "execution_count": 165,
     "metadata": {},
     "output_type": "execute_result"
    }
   ],
   "source": [
    "# Find best score\n",
    "gs_lr_t.best_score_"
   ]
  },
  {
   "cell_type": "code",
   "execution_count": 166,
   "metadata": {
    "scrolled": true
   },
   "outputs": [
    {
     "data": {
      "text/plain": [
       "{'tvec__max_features': 500}"
      ]
     },
     "execution_count": 166,
     "metadata": {},
     "output_type": "execute_result"
    }
   ],
   "source": [
    "# Find best parameters\n",
    "gs_lr_t.best_params_"
   ]
  },
  {
   "cell_type": "markdown",
   "metadata": {},
   "source": [
    "## K-Nearest Neighbors - CountVectorizer"
   ]
  },
  {
   "cell_type": "code",
   "execution_count": 57,
   "metadata": {},
   "outputs": [],
   "source": [
    "# Set up pipeline\n",
    "pipe_knn_c = Pipeline([\n",
    "    ('cvec', CountVectorizer(stop_words='english', max_features=200, ngram_range=(1,2))),\n",
    "    ('knn', KNeighborsClassifier())\n",
    "])\n",
    "\n",
    "\n",
    "# Set up pipeline params\n",
    "pipe_knn_c_params = {\n",
    "    'cvec__max_features': [200, 500],\n",
    "    'knn__n_neighbors':[5, 15, 25, 35, 45],\n",
    "    'knn__p': [1, 2]\n",
    "}\n"
   ]
  },
  {
   "cell_type": "code",
   "execution_count": 58,
   "metadata": {},
   "outputs": [
    {
     "name": "stdout",
     "output_type": "stream",
     "text": [
      "Fitting 5 folds for each of 20 candidates, totalling 100 fits\n"
     ]
    },
    {
     "name": "stderr",
     "output_type": "stream",
     "text": [
      "[Parallel(n_jobs=1)]: Using backend SequentialBackend with 1 concurrent workers.\n",
      "[Parallel(n_jobs=1)]: Done 100 out of 100 | elapsed: 12.7min finished\n"
     ]
    }
   ],
   "source": [
    "# Set up a gridsearch\n",
    "gs_knn_c = GridSearchCV(pipe_knn_c, pipe_knn_c_params, cv=5, verbose=1)\n",
    "\n",
    "# Fit the gridsearch\n",
    "gs_knn_c.fit(X_train, y_train);"
   ]
  },
  {
   "cell_type": "code",
   "execution_count": 59,
   "metadata": {
    "scrolled": true
   },
   "outputs": [
    {
     "data": {
      "text/plain": [
       "0.8311575282854656"
      ]
     },
     "execution_count": 59,
     "metadata": {},
     "output_type": "execute_result"
    }
   ],
   "source": [
    "# Find best score\n",
    "gs_knn_c.best_score_"
   ]
  },
  {
   "cell_type": "code",
   "execution_count": 60,
   "metadata": {
    "scrolled": true
   },
   "outputs": [
    {
     "data": {
      "text/plain": [
       "{'cvec__max_features': 500, 'knn__n_neighbors': 25, 'knn__p': 1}"
      ]
     },
     "execution_count": 60,
     "metadata": {},
     "output_type": "execute_result"
    }
   ],
   "source": [
    "# Find best parameters\n",
    "gs_knn_c.best_params_"
   ]
  },
  {
   "cell_type": "markdown",
   "metadata": {},
   "source": [
    "Stop testing max_features because it's always 500."
   ]
  },
  {
   "cell_type": "markdown",
   "metadata": {},
   "source": [
    "# K-Nearest Neighbors - TFIDFVectorizer"
   ]
  },
  {
   "cell_type": "code",
   "execution_count": 63,
   "metadata": {},
   "outputs": [],
   "source": [
    "# Set up pipeline\n",
    "pipe_knn_t = Pipeline([\n",
    "    ('tvec', TfidfVectorizer(stop_words='english', max_features=500, ngram_range=(1,2))),\n",
    "    ('knn', KNeighborsClassifier())\n",
    "])\n",
    "\n",
    "\n",
    "# Set up pipeline params\n",
    "pipe_knn_t_params = {\n",
    "    'knn__n_neighbors':[5, 15, 25, 35, 45],\n",
    "    'knn__p': [1, 2]\n",
    "}\n"
   ]
  },
  {
   "cell_type": "code",
   "execution_count": 64,
   "metadata": {},
   "outputs": [
    {
     "name": "stdout",
     "output_type": "stream",
     "text": [
      "Fitting 5 folds for each of 10 candidates, totalling 50 fits\n"
     ]
    },
    {
     "name": "stderr",
     "output_type": "stream",
     "text": [
      "[Parallel(n_jobs=1)]: Using backend SequentialBackend with 1 concurrent workers.\n",
      "[Parallel(n_jobs=1)]: Done  50 out of  50 | elapsed:  5.4min finished\n"
     ]
    }
   ],
   "source": [
    "# Set up a gridsearch\n",
    "gs_knn_t = GridSearchCV(pipe_knn_t, pipe_knn_t_params, cv=5, verbose=1)\n",
    "\n",
    "# Fit the gridsearch\n",
    "gs_knn_t.fit(X_train, y_train);"
   ]
  },
  {
   "cell_type": "code",
   "execution_count": 65,
   "metadata": {
    "scrolled": true
   },
   "outputs": [
    {
     "data": {
      "text/plain": [
       "0.7762894009914103"
      ]
     },
     "execution_count": 65,
     "metadata": {},
     "output_type": "execute_result"
    }
   ],
   "source": [
    "# Find best score\n",
    "gs_knn_t.best_score_"
   ]
  },
  {
   "cell_type": "code",
   "execution_count": 66,
   "metadata": {
    "scrolled": true
   },
   "outputs": [
    {
     "data": {
      "text/plain": [
       "{'knn__n_neighbors': 15, 'knn__p': 2}"
      ]
     },
     "execution_count": 66,
     "metadata": {},
     "output_type": "execute_result"
    }
   ],
   "source": [
    "# Find best parameters\n",
    "gs_knn_t.best_params_"
   ]
  },
  {
   "cell_type": "markdown",
   "metadata": {},
   "source": [
    "## Random Forest - CountVectorizer"
   ]
  },
  {
   "cell_type": "code",
   "execution_count": 75,
   "metadata": {},
   "outputs": [],
   "source": [
    "# Set up pipeline\n",
    "pipe_rf_c = Pipeline([\n",
    "    ('cvec', CountVectorizer(stop_words='english', max_features=500, ngram_range=(1,2))),\n",
    "    ('rf', RandomForestClassifier())\n",
    "])\n",
    "\n",
    "# Set up pipeline parameters\n",
    "pipe_rf_c_params = {\n",
    "    'rf__n_estimators': [100, 150, 200],\n",
    "    'rf__max_depth': [None, 5, 6], \n",
    "    'rf__max_features': ['auto', 'log2'],\n",
    "    'rf__min_samples_split': [2, 50]\n",
    "}"
   ]
  },
  {
   "cell_type": "code",
   "execution_count": 76,
   "metadata": {},
   "outputs": [
    {
     "name": "stdout",
     "output_type": "stream",
     "text": [
      "Fitting 5 folds for each of 36 candidates, totalling 180 fits\n"
     ]
    },
    {
     "name": "stderr",
     "output_type": "stream",
     "text": [
      "[Parallel(n_jobs=1)]: Using backend SequentialBackend with 1 concurrent workers.\n",
      "[Parallel(n_jobs=1)]: Done 180 out of 180 | elapsed: 14.2min finished\n"
     ]
    }
   ],
   "source": [
    "# Set up a gridsearch\n",
    "gs_rf_c = GridSearchCV(pipe_rf_c, pipe_rf_c_params, cv=5, verbose=1)\n",
    "\n",
    "# Fit the gridsearch\n",
    "gs_rf_c.fit(X_train, y_train);"
   ]
  },
  {
   "cell_type": "code",
   "execution_count": 77,
   "metadata": {
    "scrolled": true
   },
   "outputs": [
    {
     "data": {
      "text/plain": [
       "0.8582888712301813"
      ]
     },
     "execution_count": 77,
     "metadata": {},
     "output_type": "execute_result"
    }
   ],
   "source": [
    "# Find best score\n",
    "gs_rf_c.best_score_"
   ]
  },
  {
   "cell_type": "code",
   "execution_count": 78,
   "metadata": {
    "scrolled": true
   },
   "outputs": [
    {
     "data": {
      "text/plain": [
       "{'rf__max_depth': None,\n",
       " 'rf__max_features': 'log2',\n",
       " 'rf__min_samples_split': 50,\n",
       " 'rf__n_estimators': 200}"
      ]
     },
     "execution_count": 78,
     "metadata": {},
     "output_type": "execute_result"
    }
   ],
   "source": [
    "# Find best parameters\n",
    "gs_rf_c.best_params_"
   ]
  },
  {
   "cell_type": "markdown",
   "metadata": {},
   "source": [
    "## Random Forest - TFIDFVectorizer"
   ]
  },
  {
   "cell_type": "code",
   "execution_count": 81,
   "metadata": {},
   "outputs": [],
   "source": [
    "# Set up pipeline\n",
    "pipe_rf_t = Pipeline([\n",
    "    ('tvec', TfidfVectorizer(stop_words='english', max_features=500, ngram_range=(1,2))),\n",
    "    ('rf', RandomForestClassifier())\n",
    "])\n",
    "\n",
    "# Set up pipeline parameters\n",
    "pipe_rf_t_params = {\n",
    "    'rf__n_estimators': [100, 150, 200],\n",
    "    'rf__max_depth': [None, 5, 6], \n",
    "    'rf__max_features': ['auto', 'log2'],\n",
    "    'rf__min_samples_split': [2, 50, 100]\n",
    "}"
   ]
  },
  {
   "cell_type": "code",
   "execution_count": 82,
   "metadata": {},
   "outputs": [
    {
     "name": "stdout",
     "output_type": "stream",
     "text": [
      "Fitting 5 folds for each of 54 candidates, totalling 270 fits\n"
     ]
    },
    {
     "name": "stderr",
     "output_type": "stream",
     "text": [
      "[Parallel(n_jobs=1)]: Using backend SequentialBackend with 1 concurrent workers.\n",
      "[Parallel(n_jobs=1)]: Done 270 out of 270 | elapsed: 20.2min finished\n"
     ]
    }
   ],
   "source": [
    "# Set up a gridsearch\n",
    "gs_rf_t = GridSearchCV(pipe_rf_t, pipe_rf_t_params, cv=5, verbose=1)\n",
    "\n",
    "# Fit the gridsearch\n",
    "gs_rf_t.fit(X_train, y_train);"
   ]
  },
  {
   "cell_type": "code",
   "execution_count": 83,
   "metadata": {
    "scrolled": true
   },
   "outputs": [
    {
     "data": {
      "text/plain": [
       "0.8566617474552541"
      ]
     },
     "execution_count": 83,
     "metadata": {},
     "output_type": "execute_result"
    }
   ],
   "source": [
    "# Find best score\n",
    "gs_rf_t.best_score_"
   ]
  },
  {
   "cell_type": "code",
   "execution_count": 84,
   "metadata": {
    "scrolled": true
   },
   "outputs": [
    {
     "data": {
      "text/plain": [
       "{'rf__max_depth': None,\n",
       " 'rf__max_features': 'log2',\n",
       " 'rf__min_samples_split': 50,\n",
       " 'rf__n_estimators': 100}"
      ]
     },
     "execution_count": 84,
     "metadata": {},
     "output_type": "execute_result"
    }
   ],
   "source": [
    "# Find best parameters\n",
    "gs_rf_t.best_params_"
   ]
  },
  {
   "cell_type": "markdown",
   "metadata": {},
   "source": [
    "## Multinomial Naive Bayes - CountVectorizer"
   ]
  },
  {
   "cell_type": "code",
   "execution_count": 283,
   "metadata": {},
   "outputs": [],
   "source": [
    "# Set up pipeline\n",
    "pipe_mnb_c = Pipeline([\n",
    "    ('cvec', CountVectorizer(stop_words='english', max_features=500, ngram_range=(1,2))),\n",
    "    ('mnb', MultinomialNB())\n",
    "])\n",
    "\n",
    "# Set up pipeline parameters\n",
    "pipe_mnb_c_params = {\n",
    "    'mnb__alpha': [1.0, 0, .01], \n",
    "    'mnb__fit_prior': [True, False]\n",
    "}"
   ]
  },
  {
   "cell_type": "code",
   "execution_count": 284,
   "metadata": {
    "scrolled": true
   },
   "outputs": [
    {
     "name": "stdout",
     "output_type": "stream",
     "text": [
      "Fitting 5 folds for each of 6 candidates, totalling 30 fits\n"
     ]
    },
    {
     "name": "stderr",
     "output_type": "stream",
     "text": [
      "[Parallel(n_jobs=1)]: Using backend SequentialBackend with 1 concurrent workers.\n",
      "/Users/kelly/anaconda3/envs/dsi/lib/python3.7/site-packages/sklearn/naive_bayes.py:485: UserWarning: alpha too small will result in numeric errors, setting alpha = 1.0e-10\n",
      "  'setting alpha = %.1e' % _ALPHA_MIN)\n",
      "/Users/kelly/anaconda3/envs/dsi/lib/python3.7/site-packages/sklearn/naive_bayes.py:485: UserWarning: alpha too small will result in numeric errors, setting alpha = 1.0e-10\n",
      "  'setting alpha = %.1e' % _ALPHA_MIN)\n",
      "/Users/kelly/anaconda3/envs/dsi/lib/python3.7/site-packages/sklearn/naive_bayes.py:485: UserWarning: alpha too small will result in numeric errors, setting alpha = 1.0e-10\n",
      "  'setting alpha = %.1e' % _ALPHA_MIN)\n",
      "/Users/kelly/anaconda3/envs/dsi/lib/python3.7/site-packages/sklearn/naive_bayes.py:485: UserWarning: alpha too small will result in numeric errors, setting alpha = 1.0e-10\n",
      "  'setting alpha = %.1e' % _ALPHA_MIN)\n",
      "/Users/kelly/anaconda3/envs/dsi/lib/python3.7/site-packages/sklearn/naive_bayes.py:485: UserWarning: alpha too small will result in numeric errors, setting alpha = 1.0e-10\n",
      "  'setting alpha = %.1e' % _ALPHA_MIN)\n",
      "/Users/kelly/anaconda3/envs/dsi/lib/python3.7/site-packages/sklearn/naive_bayes.py:485: UserWarning: alpha too small will result in numeric errors, setting alpha = 1.0e-10\n",
      "  'setting alpha = %.1e' % _ALPHA_MIN)\n",
      "/Users/kelly/anaconda3/envs/dsi/lib/python3.7/site-packages/sklearn/naive_bayes.py:485: UserWarning: alpha too small will result in numeric errors, setting alpha = 1.0e-10\n",
      "  'setting alpha = %.1e' % _ALPHA_MIN)\n",
      "/Users/kelly/anaconda3/envs/dsi/lib/python3.7/site-packages/sklearn/naive_bayes.py:485: UserWarning: alpha too small will result in numeric errors, setting alpha = 1.0e-10\n",
      "  'setting alpha = %.1e' % _ALPHA_MIN)\n",
      "/Users/kelly/anaconda3/envs/dsi/lib/python3.7/site-packages/sklearn/naive_bayes.py:485: UserWarning: alpha too small will result in numeric errors, setting alpha = 1.0e-10\n",
      "  'setting alpha = %.1e' % _ALPHA_MIN)\n",
      "/Users/kelly/anaconda3/envs/dsi/lib/python3.7/site-packages/sklearn/naive_bayes.py:485: UserWarning: alpha too small will result in numeric errors, setting alpha = 1.0e-10\n",
      "  'setting alpha = %.1e' % _ALPHA_MIN)\n",
      "[Parallel(n_jobs=1)]: Done  30 out of  30 | elapsed:   40.3s finished\n"
     ]
    }
   ],
   "source": [
    "# Set up a gridsearch\n",
    "gs_mnb_c = GridSearchCV(pipe_mnb_c, pipe_mnb_c_params, cv=5, verbose=1)\n",
    "\n",
    "# Fit the gridsearch\n",
    "gs_mnb_c.fit(X_train, y_train);"
   ]
  },
  {
   "cell_type": "code",
   "execution_count": 285,
   "metadata": {
    "scrolled": true
   },
   "outputs": [
    {
     "data": {
      "text/plain": [
       "0.8512127748136376"
      ]
     },
     "execution_count": 285,
     "metadata": {},
     "output_type": "execute_result"
    }
   ],
   "source": [
    "# Find best score\n",
    "gs_mnb_c.best_score_"
   ]
  },
  {
   "cell_type": "code",
   "execution_count": 286,
   "metadata": {
    "scrolled": true
   },
   "outputs": [
    {
     "data": {
      "text/plain": [
       "{'mnb__alpha': 1.0, 'mnb__fit_prior': False}"
      ]
     },
     "execution_count": 286,
     "metadata": {},
     "output_type": "execute_result"
    }
   ],
   "source": [
    "# Find best parameters\n",
    "gs_mnb_c.best_params_"
   ]
  },
  {
   "cell_type": "markdown",
   "metadata": {},
   "source": [
    "## Multinomial Naive Bayes - TFIDFVectorizer"
   ]
  },
  {
   "cell_type": "code",
   "execution_count": 98,
   "metadata": {},
   "outputs": [],
   "source": [
    "# Set up pipeline\n",
    "pipe_mnb_t = Pipeline([\n",
    "    ('tvec', TfidfVectorizer(stop_words='english', max_features=500, ngram_range=(1,2))),\n",
    "    ('mnb', MultinomialNB())\n",
    "])\n",
    "\n",
    "# Set up pipeline parameters\n",
    "pipe_mnb_t_params = {\n",
    "    'mnb__alpha': [1.0, 0, .01], \n",
    "    'mnb__fit_prior': [True, False]\n",
    "}"
   ]
  },
  {
   "cell_type": "code",
   "execution_count": 99,
   "metadata": {
    "scrolled": true
   },
   "outputs": [
    {
     "name": "stdout",
     "output_type": "stream",
     "text": [
      "Fitting 5 folds for each of 6 candidates, totalling 30 fits\n"
     ]
    },
    {
     "name": "stderr",
     "output_type": "stream",
     "text": [
      "[Parallel(n_jobs=1)]: Using backend SequentialBackend with 1 concurrent workers.\n",
      "/Users/kelly/anaconda3/envs/dsi/lib/python3.7/site-packages/sklearn/naive_bayes.py:485: UserWarning: alpha too small will result in numeric errors, setting alpha = 1.0e-10\n",
      "  'setting alpha = %.1e' % _ALPHA_MIN)\n",
      "/Users/kelly/anaconda3/envs/dsi/lib/python3.7/site-packages/sklearn/naive_bayes.py:485: UserWarning: alpha too small will result in numeric errors, setting alpha = 1.0e-10\n",
      "  'setting alpha = %.1e' % _ALPHA_MIN)\n",
      "/Users/kelly/anaconda3/envs/dsi/lib/python3.7/site-packages/sklearn/naive_bayes.py:485: UserWarning: alpha too small will result in numeric errors, setting alpha = 1.0e-10\n",
      "  'setting alpha = %.1e' % _ALPHA_MIN)\n",
      "/Users/kelly/anaconda3/envs/dsi/lib/python3.7/site-packages/sklearn/naive_bayes.py:485: UserWarning: alpha too small will result in numeric errors, setting alpha = 1.0e-10\n",
      "  'setting alpha = %.1e' % _ALPHA_MIN)\n",
      "/Users/kelly/anaconda3/envs/dsi/lib/python3.7/site-packages/sklearn/naive_bayes.py:485: UserWarning: alpha too small will result in numeric errors, setting alpha = 1.0e-10\n",
      "  'setting alpha = %.1e' % _ALPHA_MIN)\n",
      "/Users/kelly/anaconda3/envs/dsi/lib/python3.7/site-packages/sklearn/naive_bayes.py:485: UserWarning: alpha too small will result in numeric errors, setting alpha = 1.0e-10\n",
      "  'setting alpha = %.1e' % _ALPHA_MIN)\n",
      "/Users/kelly/anaconda3/envs/dsi/lib/python3.7/site-packages/sklearn/naive_bayes.py:485: UserWarning: alpha too small will result in numeric errors, setting alpha = 1.0e-10\n",
      "  'setting alpha = %.1e' % _ALPHA_MIN)\n",
      "/Users/kelly/anaconda3/envs/dsi/lib/python3.7/site-packages/sklearn/naive_bayes.py:485: UserWarning: alpha too small will result in numeric errors, setting alpha = 1.0e-10\n",
      "  'setting alpha = %.1e' % _ALPHA_MIN)\n",
      "/Users/kelly/anaconda3/envs/dsi/lib/python3.7/site-packages/sklearn/naive_bayes.py:485: UserWarning: alpha too small will result in numeric errors, setting alpha = 1.0e-10\n",
      "  'setting alpha = %.1e' % _ALPHA_MIN)\n",
      "/Users/kelly/anaconda3/envs/dsi/lib/python3.7/site-packages/sklearn/naive_bayes.py:485: UserWarning: alpha too small will result in numeric errors, setting alpha = 1.0e-10\n",
      "  'setting alpha = %.1e' % _ALPHA_MIN)\n",
      "[Parallel(n_jobs=1)]: Done  30 out of  30 | elapsed:   42.6s finished\n"
     ]
    }
   ],
   "source": [
    "# Set up a gridsearch\n",
    "gs_mnb_t = GridSearchCV(pipe_mnb_t, pipe_mnb_t_params, cv=5, verbose=1)\n",
    "\n",
    "# Fit the gridsearch\n",
    "gs_mnb_t.fit(X_train, y_train);"
   ]
  },
  {
   "cell_type": "code",
   "execution_count": 100,
   "metadata": {
    "scrolled": true
   },
   "outputs": [
    {
     "data": {
      "text/plain": [
       "0.8537102206077118"
      ]
     },
     "execution_count": 100,
     "metadata": {},
     "output_type": "execute_result"
    }
   ],
   "source": [
    "# Find best score\n",
    "gs_mnb_t.best_score_"
   ]
  },
  {
   "cell_type": "code",
   "execution_count": 101,
   "metadata": {
    "scrolled": true
   },
   "outputs": [
    {
     "data": {
      "text/plain": [
       "{'mnb__alpha': 1.0, 'mnb__fit_prior': False}"
      ]
     },
     "execution_count": 101,
     "metadata": {},
     "output_type": "execute_result"
    }
   ],
   "source": [
    "# Find best parameters\n",
    "gs_mnb_t.best_params_"
   ]
  },
  {
   "cell_type": "markdown",
   "metadata": {},
   "source": [
    "## Bagging Classifier - TFIDFVectorizer"
   ]
  },
  {
   "cell_type": "code",
   "execution_count": 274,
   "metadata": {},
   "outputs": [],
   "source": [
    "# Set up pipeline\n",
    "pipe_bc_c = Pipeline([\n",
    "    ('cvec', CountVectorizer(stop_words='english', max_features=500, ngram_range=(1,2))),\n",
    "    ('bc', BaggingClassifier())\n",
    "])\n",
    "\n",
    "# Set up pipeline parameters\n",
    "pipe_bc_c_params = {\n",
    "    'bc__n_estimators': [20, 30, 40], \n",
    "    'bc__max_samples': [.25, .33, .5], \n",
    "}"
   ]
  },
  {
   "cell_type": "code",
   "execution_count": 280,
   "metadata": {
    "scrolled": true
   },
   "outputs": [
    {
     "name": "stdout",
     "output_type": "stream",
     "text": [
      "Fitting 5 folds for each of 9 candidates, totalling 45 fits\n"
     ]
    },
    {
     "name": "stderr",
     "output_type": "stream",
     "text": [
      "[Parallel(n_jobs=1)]: Using backend SequentialBackend with 1 concurrent workers.\n",
      "[Parallel(n_jobs=1)]: Done  45 out of  45 | elapsed:  5.4min finished\n"
     ]
    }
   ],
   "source": [
    "# Set up a gridsearch\n",
    "gs_bc_c = GridSearchCV(pipe_bc_c, pipe_bc_c_params, cv=5, verbose=1)\n",
    "\n",
    "# Fit the gridsearch\n",
    "gs_bc_c.fit(X_train, y_train);"
   ]
  },
  {
   "cell_type": "code",
   "execution_count": 281,
   "metadata": {
    "scrolled": false
   },
   "outputs": [
    {
     "data": {
      "text/plain": [
       "0.8531804593786657"
      ]
     },
     "execution_count": 281,
     "metadata": {},
     "output_type": "execute_result"
    }
   ],
   "source": [
    "# Find best score\n",
    "gs_bc_c.best_score_"
   ]
  },
  {
   "cell_type": "code",
   "execution_count": 282,
   "metadata": {
    "scrolled": true
   },
   "outputs": [
    {
     "data": {
      "text/plain": [
       "{'bc__max_samples': 0.5, 'bc__n_estimators': 30}"
      ]
     },
     "execution_count": 282,
     "metadata": {},
     "output_type": "execute_result"
    }
   ],
   "source": [
    "# Find best parameters\n",
    "gs_bc_c.best_params_"
   ]
  },
  {
   "cell_type": "markdown",
   "metadata": {},
   "source": [
    "## Bagging Classifier - TFIDFVectorizer"
   ]
  },
  {
   "cell_type": "code",
   "execution_count": 118,
   "metadata": {},
   "outputs": [],
   "source": [
    "# Set up pipeline\n",
    "pipe_bc_t = Pipeline([\n",
    "    ('tvec', TfidfVectorizer(stop_words='english', max_features=500, ngram_range=(1,2))),\n",
    "    ('bc', BaggingClassifier())\n",
    "])\n",
    "\n",
    "# Set up pipeline parameters\n",
    "pipe_bc_t_params = {\n",
    "    'bc__n_estimators': [20, 30, 40], \n",
    "    'bc__max_samples': [.25, .33, .5], \n",
    "}"
   ]
  },
  {
   "cell_type": "code",
   "execution_count": 119,
   "metadata": {
    "scrolled": true
   },
   "outputs": [
    {
     "name": "stdout",
     "output_type": "stream",
     "text": [
      "Fitting 5 folds for each of 9 candidates, totalling 45 fits\n"
     ]
    },
    {
     "name": "stderr",
     "output_type": "stream",
     "text": [
      "[Parallel(n_jobs=1)]: Using backend SequentialBackend with 1 concurrent workers.\n",
      "[Parallel(n_jobs=1)]: Done  45 out of  45 | elapsed:  6.1min finished\n"
     ]
    }
   ],
   "source": [
    "# Set up a gridsearch\n",
    "gs_bc_t = GridSearchCV(pipe_bc_t, pipe_bc_t_params, cv=5, verbose=1)\n",
    "\n",
    "# Fit the gridsearch\n",
    "gs_bc_t.fit(X_train, y_train);"
   ]
  },
  {
   "cell_type": "code",
   "execution_count": 122,
   "metadata": {
    "scrolled": false
   },
   "outputs": [
    {
     "data": {
      "text/plain": [
       "0.8531047792030878"
      ]
     },
     "execution_count": 122,
     "metadata": {},
     "output_type": "execute_result"
    }
   ],
   "source": [
    "# Find best score\n",
    "gs_bc_t.best_score_"
   ]
  },
  {
   "cell_type": "code",
   "execution_count": 123,
   "metadata": {
    "scrolled": true
   },
   "outputs": [
    {
     "data": {
      "text/plain": [
       "{'bc__max_samples': 0.5, 'bc__n_estimators': 40}"
      ]
     },
     "execution_count": 123,
     "metadata": {},
     "output_type": "execute_result"
    }
   ],
   "source": [
    "# Find best parameters\n",
    "gs_bc_t.best_params_"
   ]
  },
  {
   "cell_type": "code",
   "execution_count": 113,
   "metadata": {
    "scrolled": true
   },
   "outputs": [
    {
     "data": {
      "text/plain": [
       "{'bc__max_features': 500, 'bc__max_samples': 0.25, 'bc__n_estimators': 20}"
      ]
     },
     "execution_count": 113,
     "metadata": {},
     "output_type": "execute_result"
    }
   ],
   "source": [
    "# Using different pipeline parameters\n",
    "\n",
    "# Find best parameters\n",
    "gs_bc_t.best_params_"
   ]
  },
  {
   "cell_type": "markdown",
   "metadata": {},
   "source": [
    "## ADA Boost - CountVectorizer"
   ]
  },
  {
   "cell_type": "code",
   "execution_count": 158,
   "metadata": {},
   "outputs": [],
   "source": [
    "# Set up pipeline\n",
    "pipe_ada_c = Pipeline([\n",
    "    ('cvec', CountVectorizer(stop_words='english', max_features=500, ngram_range=(1,2))), \n",
    "    ('ada', AdaBoostClassifier())\n",
    "])\n",
    "\n",
    "# Set up pipeline parameters\n",
    "pipe_ada_c_params = {\n",
    "    'ada__n_estimators': [150, 200, 250],\n",
    "    'ada__learning_rate': [1, .75, .5]\n",
    "}"
   ]
  },
  {
   "cell_type": "code",
   "execution_count": 159,
   "metadata": {},
   "outputs": [
    {
     "name": "stdout",
     "output_type": "stream",
     "text": [
      "Fitting 5 folds for each of 9 candidates, totalling 45 fits\n"
     ]
    },
    {
     "name": "stderr",
     "output_type": "stream",
     "text": [
      "[Parallel(n_jobs=1)]: Using backend SequentialBackend with 1 concurrent workers.\n",
      "[Parallel(n_jobs=1)]: Done  45 out of  45 | elapsed:  2.4min finished\n"
     ]
    }
   ],
   "source": [
    "# Set up a gridsearch\n",
    "gs_ada_c = GridSearchCV(pipe_ada_c, pipe_ada_c_params, cv=5, verbose=1)\n",
    "\n",
    "# Fit the gridsearch\n",
    "gs_ada_c.fit(X_train, y_train);"
   ]
  },
  {
   "cell_type": "code",
   "execution_count": 160,
   "metadata": {},
   "outputs": [
    {
     "data": {
      "text/plain": [
       "0.8510992545502706"
      ]
     },
     "execution_count": 160,
     "metadata": {},
     "output_type": "execute_result"
    }
   ],
   "source": [
    "# Find best score\n",
    "gs_ada_c.best_score_"
   ]
  },
  {
   "cell_type": "code",
   "execution_count": 161,
   "metadata": {
    "scrolled": true
   },
   "outputs": [
    {
     "data": {
      "text/plain": [
       "{'ada__learning_rate': 0.75, 'ada__n_estimators': 250}"
      ]
     },
     "execution_count": 161,
     "metadata": {},
     "output_type": "execute_result"
    }
   ],
   "source": [
    "# Find best parameters\n",
    "gs_ada_c.best_params_"
   ]
  },
  {
   "cell_type": "code",
   "execution_count": null,
   "metadata": {},
   "outputs": [],
   "source": []
  },
  {
   "cell_type": "markdown",
   "metadata": {},
   "source": [
    "## ADA Boost - TFIDFVectorizer"
   ]
  },
  {
   "cell_type": "code",
   "execution_count": 130,
   "metadata": {},
   "outputs": [],
   "source": [
    "# Set up pipeline\n",
    "pipe_ada_t = Pipeline([\n",
    "    ('tvec', TfidfVectorizer(stop_words='english', max_features=500, ngram_range=(1,2))), \n",
    "    ('ada', AdaBoostClassifier())\n",
    "])\n",
    "\n",
    "# Set up pipeline parameters\n",
    "pipe_ada_t_params = {\n",
    "    'ada__n_estimators': [150, 200, 250],\n",
    "    'ada__learning_rate': [1, .75, .5]\n",
    "}"
   ]
  },
  {
   "cell_type": "code",
   "execution_count": 131,
   "metadata": {},
   "outputs": [
    {
     "name": "stdout",
     "output_type": "stream",
     "text": [
      "Fitting 5 folds for each of 9 candidates, totalling 45 fits\n"
     ]
    },
    {
     "name": "stderr",
     "output_type": "stream",
     "text": [
      "[Parallel(n_jobs=1)]: Using backend SequentialBackend with 1 concurrent workers.\n",
      "[Parallel(n_jobs=1)]: Done  45 out of  45 | elapsed:  3.5min finished\n"
     ]
    }
   ],
   "source": [
    "# Set up a gridsearch\n",
    "gs_ada_t = GridSearchCV(pipe_ada_t, pipe_ada_t_params, cv=5, verbose=1)\n",
    "\n",
    "# Fit the gridsearch\n",
    "gs_ada_t.fit(X_train, y_train);"
   ]
  },
  {
   "cell_type": "code",
   "execution_count": 132,
   "metadata": {},
   "outputs": [
    {
     "data": {
      "text/plain": [
       "0.8504181329700685"
      ]
     },
     "execution_count": 132,
     "metadata": {},
     "output_type": "execute_result"
    }
   ],
   "source": [
    "# Find best score\n",
    "gs_ada_t.best_score_"
   ]
  },
  {
   "cell_type": "code",
   "execution_count": 133,
   "metadata": {
    "scrolled": true
   },
   "outputs": [
    {
     "data": {
      "text/plain": [
       "{'ada__learning_rate': 0.75, 'ada__n_estimators': 250}"
      ]
     },
     "execution_count": 133,
     "metadata": {},
     "output_type": "execute_result"
    }
   ],
   "source": [
    "# Find best parameters\n",
    "gs_ada_t.best_params_"
   ]
  },
  {
   "cell_type": "code",
   "execution_count": 127,
   "metadata": {},
   "outputs": [
    {
     "data": {
      "text/plain": [
       "0.845650281908654"
      ]
     },
     "execution_count": 127,
     "metadata": {},
     "output_type": "execute_result"
    }
   ],
   "source": [
    "# Using different parameters\n",
    "\n",
    "# Find best score\n",
    "gs_ada_t.best_score_"
   ]
  },
  {
   "cell_type": "code",
   "execution_count": 129,
   "metadata": {},
   "outputs": [
    {
     "data": {
      "text/plain": [
       "{'ada__learning_rate': 0.75, 'ada__n_estimators': 150}"
      ]
     },
     "execution_count": 129,
     "metadata": {},
     "output_type": "execute_result"
    }
   ],
   "source": [
    "# Find best parameters\n",
    "gs_ada_t.best_params_"
   ]
  },
  {
   "cell_type": "markdown",
   "metadata": {},
   "source": [
    "# Support Vector Machine (SVM) - CountVectorizer"
   ]
  },
  {
   "cell_type": "code",
   "execution_count": 142,
   "metadata": {},
   "outputs": [],
   "source": [
    "# Set up pipeline\n",
    "pipe_svm_t = Pipeline([\n",
    "    ('tvec', TfidfVectorizer(stop_words='english', max_features=500, ngram_range=(1,2))), \n",
    "    ('svc', SVC(gamma='scale'))\n",
    "])\n",
    "\n",
    "# Set up pipeline parameters\n",
    "pipe_svm_t_params = {\n",
    "    'svc__C': [.001, .01, 1, 10],\n",
    "    'svc__kernel': ['linear', 'rbf']\n",
    "}"
   ]
  },
  {
   "cell_type": "code",
   "execution_count": 143,
   "metadata": {},
   "outputs": [
    {
     "name": "stdout",
     "output_type": "stream",
     "text": [
      "Fitting 5 folds for each of 8 candidates, totalling 40 fits\n"
     ]
    },
    {
     "name": "stderr",
     "output_type": "stream",
     "text": [
      "[Parallel(n_jobs=4)]: Using backend LokyBackend with 4 concurrent workers.\n",
      "[Parallel(n_jobs=4)]: Done  40 out of  40 | elapsed:  4.5min finished\n"
     ]
    }
   ],
   "source": [
    "# Set up a gridsearch\n",
    "gs_svm_t = GridSearchCV(pipe_svm_t, pipe_svm_t_params, cv=5, verbose=1, n_jobs=4)\n",
    "\n",
    "# Fit the gridsearch\n",
    "gs_svm_t.fit(X_train, y_train);"
   ]
  },
  {
   "cell_type": "code",
   "execution_count": 144,
   "metadata": {},
   "outputs": [
    {
     "data": {
      "text/plain": [
       "0.8579861505278692"
      ]
     },
     "execution_count": 144,
     "metadata": {},
     "output_type": "execute_result"
    }
   ],
   "source": [
    "# Find best score\n",
    "gs_svm_t.best_score_"
   ]
  },
  {
   "cell_type": "code",
   "execution_count": 145,
   "metadata": {
    "scrolled": true
   },
   "outputs": [
    {
     "data": {
      "text/plain": [
       "{'svc__C': 1, 'svc__kernel': 'rbf'}"
      ]
     },
     "execution_count": 145,
     "metadata": {},
     "output_type": "execute_result"
    }
   ],
   "source": [
    "# Find best parameters\n",
    "gs_svm_t.best_params_"
   ]
  },
  {
   "cell_type": "markdown",
   "metadata": {},
   "source": [
    "# Compare models"
   ]
  },
  {
   "cell_type": "code",
   "execution_count": 287,
   "metadata": {
    "scrolled": true
   },
   "outputs": [
    {
     "data": {
      "text/html": [
       "<div>\n",
       "<style scoped>\n",
       "    .dataframe tbody tr th:only-of-type {\n",
       "        vertical-align: middle;\n",
       "    }\n",
       "\n",
       "    .dataframe tbody tr th {\n",
       "        vertical-align: top;\n",
       "    }\n",
       "\n",
       "    .dataframe thead th {\n",
       "        text-align: right;\n",
       "    }\n",
       "</style>\n",
       "<table border=\"1\" class=\"dataframe\">\n",
       "  <thead>\n",
       "    <tr style=\"text-align: right;\">\n",
       "      <th></th>\n",
       "      <th>type</th>\n",
       "      <th>accuracy</th>\n",
       "    </tr>\n",
       "  </thead>\n",
       "  <tbody>\n",
       "    <tr>\n",
       "      <th>0</th>\n",
       "      <td>['cvec', 'lr']</td>\n",
       "      <td>0.854808</td>\n",
       "    </tr>\n",
       "    <tr>\n",
       "      <th>1</th>\n",
       "      <td>['tvec', 'lr']</td>\n",
       "      <td>0.855337</td>\n",
       "    </tr>\n",
       "    <tr>\n",
       "      <th>2</th>\n",
       "      <td>['cvec', 'knn']</td>\n",
       "      <td>0.831158</td>\n",
       "    </tr>\n",
       "    <tr>\n",
       "      <th>3</th>\n",
       "      <td>['tvec', 'knn']</td>\n",
       "      <td>0.776289</td>\n",
       "    </tr>\n",
       "    <tr>\n",
       "      <th>4</th>\n",
       "      <td>['cvec', 'rf']</td>\n",
       "      <td>0.858289</td>\n",
       "    </tr>\n",
       "  </tbody>\n",
       "</table>\n",
       "</div>"
      ],
      "text/plain": [
       "              type  accuracy\n",
       "0   ['cvec', 'lr']  0.854808\n",
       "1   ['tvec', 'lr']  0.855337\n",
       "2  ['cvec', 'knn']  0.831158\n",
       "3  ['tvec', 'knn']  0.776289\n",
       "4   ['cvec', 'rf']  0.858289"
      ]
     },
     "execution_count": 287,
     "metadata": {},
     "output_type": "execute_result"
    }
   ],
   "source": [
    "# Generate a dataframe of model & accuracy score\n",
    "list_of_models = [gs_lr_c, gs_lr_t, \n",
    "                  gs_knn_c, gs_knn_t, \n",
    "                  gs_rf_c, gs_rf_t, \n",
    "                  gs_mnb_c, gs_mnb_t, \n",
    "                  gs_bc_c, gs_bc_t, \n",
    "                  gs_ada_c, gs_ada_t, gs_svm_t]\n",
    "\n",
    "# Create an empty list for each model's dictionary\n",
    "models = []\n",
    "\n",
    "for mod in list_of_models:\n",
    "    # mod.best_score_\n",
    "    model = {}\n",
    "    model['type'] = str(list(mod.estimator.named_steps.keys()))\n",
    "    model['accuracy'] = mod.best_score_\n",
    "    models.append(model)\n",
    "\n",
    "# Append baseline for comparison\n",
    "baseline = {}\n",
    "baseline['type'] = 'baseline'\n",
    "baseline['accuracy'] = y_train.value_counts(normalize=True)[0]\n",
    "models.append(baseline)\n",
    "\n",
    "models_df = pd.DataFrame(models)\n",
    "models_df.head()"
   ]
  },
  {
   "cell_type": "code",
   "execution_count": 288,
   "metadata": {},
   "outputs": [
    {
     "data": {
      "text/plain": [
       "(14, 2)"
      ]
     },
     "execution_count": 288,
     "metadata": {},
     "output_type": "execute_result"
    }
   ],
   "source": [
    "models_df.shape"
   ]
  },
  {
   "cell_type": "code",
   "execution_count": 290,
   "metadata": {},
   "outputs": [
    {
     "data": {
      "image/png": "[encoded data removed]",
      "text/plain": [
       "<Figure size 1440x864 with 1 Axes>"
      ]
     },
     "metadata": {
      "needs_background": "light"
     },
     "output_type": "display_data"
    }
   ],
   "source": [
    "plt.figure(figsize=(20,12))\n",
    "sns.barplot(data=models_df, x='accuracy', y='type')\n",
    "plt.xlabel('Accuracy', size=28)\n",
    "plt.ylabel('Model: Transformer, Estimator', size=28)\n",
    "plt.yticks(size=28)\n",
    "plt.xticks(size=28)\n",
    "plt.title('How did the models compare to the baseline?', size=40)\n",
    "sns.despine(left=True, bottom=True);"
   ]
  },
  {
   "cell_type": "code",
   "execution_count": null,
   "metadata": {},
   "outputs": [],
   "source": []
  },
  {
   "cell_type": "code",
   "execution_count": null,
   "metadata": {},
   "outputs": [],
   "source": []
  },
  {
   "cell_type": "code",
   "execution_count": null,
   "metadata": {},
   "outputs": [],
   "source": []
  },
  {
   "cell_type": "code",
   "execution_count": null,
   "metadata": {},
   "outputs": [],
   "source": []
  },
  {
   "cell_type": "code",
   "execution_count": null,
   "metadata": {},
   "outputs": [],
   "source": []
  }
 ],
 "metadata": {
  "kernelspec": {
   "display_name": "Python 3",
   "language": "python",
   "name": "python3"
  },
  "language_info": {
   "codemirror_mode": {
    "name": "ipython",
    "version": 3
   },
   "file_extension": ".py",
   "mimetype": "text/x-python",
   "name": "python",
   "nbconvert_exporter": "python",
   "pygments_lexer": "ipython3",
   "version": "3.7.5"
  }
 },
 "nbformat": 4,
 "nbformat_minor": 2
}
