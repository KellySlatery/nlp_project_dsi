{
 "cells": [
  {
   "cell_type": "markdown",
   "metadata": {},
   "source": [
    "# Project 3: Web APIs & NLP - 01"
   ]
  },
  {
   "cell_type": "markdown",
   "metadata": {},
   "source": [
    "Kelly Slatery | US-DSI-10 | 01.31.2020"
   ]
  },
  {
   "cell_type": "markdown",
   "metadata": {},
   "source": [
    "## Problem Statement"
   ]
  },
  {
   "cell_type": "markdown",
   "metadata": {},
   "source": [
    "The 1960's bore witness to a music revolution like no one had ever seen before--multitrack recording and music video clips started to spread and rock & roll went mainstream, all alongside a rise in national U.S. pop culture. The Beatles broke the charts with the formation fo their legendary group in 1957, while Queen dared to challenge norms after their formation in 1970. The popularity and quality of these two groups is often compared due to their record-breaking album sales, dedication of their fanbases, iconic ground-breaking tracks, and co-membership of the rock music genre. Normally, it is a question of criteria and subjective opinion to determine which of these groups could be considered \"the greatest band\". However, in this notebook, we will answer the question of who is really the better band with one criterion: love of their fans to this day. Which fanbase loves their band more? And how can we use classification models to determine which band receives more love from their fanbase to end this discussion once and for all?"
   ]
  },
  {
   "cell_type": "markdown",
   "metadata": {},
   "source": [
    "## Executive Summary"
   ]
  },
  {
   "cell_type": "markdown",
   "metadata": {},
   "source": [
    "In this project, we explore data collected through Reddit's Pushshift API to classify posts to either the Beatles or Queen subreddit. The data analyzed consists of the most recent 20,000 posts (submissions) from either subreddit as of Tuesday morning January 28th. As the request limit for Reddit's Pushshift API is 200 requests per minute (with 500 posts/submissions per request), all of the data for this notebook was collected without issue in under a minute. \n",
    "\n",
    "In order to classify posts, some initial data cleaning and NLP parsing were required before beginning to model using both Count Vectorizers and TFIDF (Term Frequency Inverse Document Frequency) Vectorizers. Seven different classification models were tested using various parameter search methods and all but one with both type of vectorizer to determine which combination of vectorizer, model type, and hyperparameters yielded the most accurate model.\n",
    "\n",
    "In the end, the Support Vector Machine (SVC), Random Forest, and Logistic Regression yielded the most accurate predictions. However, SVC was inefficient and Random Forest was more overfit, whereas Logistic Regression proveded fairly accurate predictions (accuracy ~= 85.53% ; baseline accuracy ~= 50.6%) and a more interpretable model. Thus, the Logistic Regression model using the TFIDF Vecotrizer were the transformer/model of choice to classify posts/submissions and answer our problem statement.\n",
    "\n",
    "After running the Logistic Regression model, it was found that amongst the top 20 predictors for both Beatles and Queen, almost all were band member or album names, or important years. Thus, we looked to the next top 20 predictors for either band and found few more interesting words. After looking at all predictors of the Beatles subreddit vs. predictors of the Queen subreddit, a trend appeared: Beatles subreddit predictors tended to include more words associated with success/popularity (e.g. album(s), cover(s), official, Spotify, ranking), while Queen subreddit predictors tended to include more positive words (e.g. amazing, special, quality, love, enjoy)."
   ]
  },
  {
   "cell_type": "markdown",
   "metadata": {},
   "source": [
    "## Data Dictionary"
   ]
  },
  {
   "cell_type": "markdown",
   "metadata": {},
   "source": [
    "As described above, the data here comes from two subreddits: [Beatles](https://www.reddit.com/r/beatles/) and [Queen](https://www.reddit.com/r/queen/). In accordance with time limits (200 requests/min at 500 submissions/comments per request), 20,000 submissions and 20,000 comments were pulled from each subreddit. However, only submissions data was used for analysis in this project. Data types and manipulations are described below:"
   ]
  },
  {
   "cell_type": "markdown",
   "metadata": {},
   "source": [
    "|  \t| Column Name \t| Data Type \t| Modifications \t| Description \t|\n",
    "|----\t|--------------------------------\t|-----------\t|-----------------------------------------------------------------------------------\t|---------------------------------------------------------------------\t|\n",
    "| 0 \t| author \t| object \t| None \t| Author of post/submission \t|\n",
    "| 1 \t| author_flair_text \t| object \t| None \t| Non-ascii parts of author username \t|\n",
    "| 2 \t| created_utc \t| int64 \t| None \t| Time post was created in UTC \t|\n",
    "| 3 \t| score \t| int64 \t| None \t| Aggregate sum of upvotes and downvotes (no negatives) \t|\n",
    "| 4 \t| selftext \t| object \t| Nulls replaced with '-' \t| Body of post/submission \t|\n",
    "| 5 \t| subreddit \t| int64 \t| Binarized \t| Subreddit to which the post/submission belongs (1=Beatles, 0=Queen) \t|\n",
    "| 6 \t| title \t| object \t| Nulls replaced with '-' \t| Title of post/submission \t|\n",
    "| 7 \t| author_full \t| object \t| None \t| Combined: 'author' and 'author_flair_text' \t|\n",
    "| 8 \t| all_text \t| object \t| None \t| Combined: 'selftext' and 'title' \t|\n",
    "| 9 \t| tokenized_selftext \t| object \t| Text data: tokenized with regular expression \t| Tokenized 'selftext' \t|\n",
    "| 10 \t| tokenized_title \t| object \t| Text data: tokenized with regular expression \t| Tokenized 'title' \t|\n",
    "| 11 \t| tokenized_all_text \t| object \t| Text data: tokenized with regular expression \t| Tokenized 'all_text' \t|\n",
    "| 12 \t| lemmatized_tokenized_selftext \t| object \t| Text data: tokenized with regular expression, lemmatized with WordNetLemmatizer() \t| Lemmatized 'tokenized_selftext' \t|\n",
    "| 13 \t| lemmatized_tokenized_title \t| object \t| Text data: tokenized with regular expression, lemmatized with WordNetLemmatizer() \t| Lemmatized 'tokenized_title' \t|\n",
    "| 14 \t| lemmatized_tokenized_all_text \t| object \t| Text data: tokenized with regular expression, lemmatized with WordNetLemmatizer() \t| Lemmatized 'tokenized_all_text' \t|\n",
    "| 15 \t| stemmatized_tokenized_selftext \t| object \t| Text data: tokenized with regular expression, stemmatized with PorterStemmer() \t| Stemmatized 'tokenized_selftext' \t|\n",
    "| 16 \t| stemmatized_tokenized_title \t| object \t| Text data: tokenized with regular expression, stemmatized with PorterStemmer() \t| Stemmatized 'tokenized_title' \t|\n",
    "| 17 \t| stemmatized_tokenized_all_text \t| object \t| Text data: tokenized with regular expression, stemmatized with PorterStemmer() \t| Stemmatized 'tokenized_all_text' \t|"
   ]
  },
  {
   "cell_type": "code",
   "execution_count": 1,
   "metadata": {},
   "outputs": [],
   "source": [
    "# Imports\n",
    "import numpy as np\n",
    "import pandas as pd\n",
    "import requests"
   ]
  },
  {
   "cell_type": "markdown",
   "metadata": {},
   "source": [
    "# Collect data"
   ]
  },
  {
   "cell_type": "markdown",
   "metadata": {},
   "source": [
    "### Collect initial 500 posts per subreddit"
   ]
  },
  {
   "cell_type": "code",
   "execution_count": 2,
   "metadata": {},
   "outputs": [
    {
     "data": {
      "text/plain": [
       "40.0"
      ]
     },
     "execution_count": 2,
     "metadata": {},
     "output_type": "execute_result"
    }
   ],
   "source": [
    "# How many requests per group do we need to make to get 20,000 posts?\n",
    "20000/500"
   ]
  },
  {
   "cell_type": "code",
   "execution_count": 3,
   "metadata": {},
   "outputs": [],
   "source": [
    "# Define the base urls for submissions/comments from the reddit api\n",
    "baseurl = 'https://api.pushshift.io/reddit/search/submission'\n"
   ]
  },
  {
   "cell_type": "markdown",
   "metadata": {},
   "source": [
    "### Define functions to collect the data"
   ]
  },
  {
   "cell_type": "code",
   "execution_count": 4,
   "metadata": {},
   "outputs": [],
   "source": [
    "# Define a function to get new parameters for the preceding 500 posts\n",
    "def get_params(base_df, subreddit):\n",
    "    params = {\n",
    "        'subreddit': subreddit, \n",
    "        'size': 500, \n",
    "        'before': base_df.loc[(base_df.shape[0] - 1), 'created_utc'] \n",
    "    }\n",
    "    return params"
   ]
  },
  {
   "cell_type": "code",
   "execution_count": 5,
   "metadata": {},
   "outputs": [],
   "source": [
    "# Define a function that returns a list of dictionaries for the content of each post\n",
    "def get_posts(params, baseurl='https://api.pushshift.io/reddit/search/submission'):\n",
    "    res = requests.get(baseurl, params)\n",
    "    if res.status_code != 200:\n",
    "        return f'Error! Status code: {res.status_code}'\n",
    "    else:\n",
    "        data = res.json()\n",
    "        posts = data['data']\n",
    "    return posts\n",
    "  "
   ]
  },
  {
   "cell_type": "code",
   "execution_count": 6,
   "metadata": {},
   "outputs": [],
   "source": [
    "# Define a function to turn the list of posts into a DataFrame\n",
    "def create_new_df(posts):\n",
    "    return pd.DataFrame(posts)"
   ]
  },
  {
   "cell_type": "code",
   "execution_count": 7,
   "metadata": {},
   "outputs": [],
   "source": [
    "# Define a function to update the base DataFrame with the 500 succeeding posts\n",
    "def update_df(base_df, subreddit):\n",
    "    params = get_params(base_df, subreddit)\n",
    "    # print(params)\n",
    "    posts = get_posts(params)\n",
    "    # print(len(posts))\n",
    "    df2 = create_new_df(posts)\n",
    "    # print(df2.shape)\n",
    "    updated = pd.concat([base_df, df2], axis=0, ignore_index=True, sort=True)\n",
    "    return updated\n",
    "    "
   ]
  },
  {
   "cell_type": "markdown",
   "metadata": {},
   "source": [
    "### Beatles: 500 submissions"
   ]
  },
  {
   "cell_type": "code",
   "execution_count": 8,
   "metadata": {},
   "outputs": [],
   "source": [
    "# Set up url parameters for the first pull from the Beatles subreddit (first 500 posts)\n",
    "params_beatles = {\n",
    "    'subreddit': 'beatles', \n",
    "    'size': 500\n",
    "}"
   ]
  },
  {
   "cell_type": "code",
   "execution_count": 9,
   "metadata": {
    "scrolled": true
   },
   "outputs": [],
   "source": [
    "# Get a list of posts\n",
    "posts_beatles = get_posts(params_beatles)"
   ]
  },
  {
   "cell_type": "code",
   "execution_count": 10,
   "metadata": {},
   "outputs": [],
   "source": [
    "# Create a dataframe from the posts\n",
    "df_beatles = create_new_df(posts_beatles)"
   ]
  },
  {
   "cell_type": "code",
   "execution_count": 11,
   "metadata": {
    "scrolled": false
   },
   "outputs": [
    {
     "data": {
      "text/plain": [
       "(500, 74)"
      ]
     },
     "execution_count": 11,
     "metadata": {},
     "output_type": "execute_result"
    }
   ],
   "source": [
    "# Look at the shape (rows, columns)\n",
    "df_beatles.shape"
   ]
  },
  {
   "cell_type": "code",
   "execution_count": 12,
   "metadata": {
    "scrolled": true
   },
   "outputs": [
    {
     "data": {
      "text/html": [
       "<div>\n",
       "<style scoped>\n",
       "    .dataframe tbody tr th:only-of-type {\n",
       "        vertical-align: middle;\n",
       "    }\n",
       "\n",
       "    .dataframe tbody tr th {\n",
       "        vertical-align: top;\n",
       "    }\n",
       "\n",
       "    .dataframe thead th {\n",
       "        text-align: right;\n",
       "    }\n",
       "</style>\n",
       "<table border=\"1\" class=\"dataframe\">\n",
       "  <thead>\n",
       "    <tr style=\"text-align: right;\">\n",
       "      <th></th>\n",
       "      <th>all_awardings</th>\n",
       "      <th>allow_live_comments</th>\n",
       "      <th>author</th>\n",
       "      <th>author_flair_css_class</th>\n",
       "      <th>author_flair_richtext</th>\n",
       "      <th>author_flair_text</th>\n",
       "      <th>author_flair_type</th>\n",
       "      <th>author_fullname</th>\n",
       "      <th>author_patreon_flair</th>\n",
       "      <th>author_premium</th>\n",
       "      <th>...</th>\n",
       "      <th>removed_by_category</th>\n",
       "      <th>media</th>\n",
       "      <th>media_embed</th>\n",
       "      <th>secure_media</th>\n",
       "      <th>secure_media_embed</th>\n",
       "      <th>crosspost_parent</th>\n",
       "      <th>crosspost_parent_list</th>\n",
       "      <th>media_metadata</th>\n",
       "      <th>steward_reports</th>\n",
       "      <th>author_cakeday</th>\n",
       "    </tr>\n",
       "  </thead>\n",
       "  <tbody>\n",
       "    <tr>\n",
       "      <th>0</th>\n",
       "      <td>[]</td>\n",
       "      <td>False</td>\n",
       "      <td>Lanovart</td>\n",
       "      <td>None</td>\n",
       "      <td>[]</td>\n",
       "      <td>None</td>\n",
       "      <td>text</td>\n",
       "      <td>t2_5dxdcxr1</td>\n",
       "      <td>False</td>\n",
       "      <td>False</td>\n",
       "      <td>...</td>\n",
       "      <td>NaN</td>\n",
       "      <td>NaN</td>\n",
       "      <td>NaN</td>\n",
       "      <td>NaN</td>\n",
       "      <td>NaN</td>\n",
       "      <td>NaN</td>\n",
       "      <td>NaN</td>\n",
       "      <td>NaN</td>\n",
       "      <td>NaN</td>\n",
       "      <td>NaN</td>\n",
       "    </tr>\n",
       "    <tr>\n",
       "      <th>1</th>\n",
       "      <td>[]</td>\n",
       "      <td>False</td>\n",
       "      <td>jackjoy1992</td>\n",
       "      <td>None</td>\n",
       "      <td>[]</td>\n",
       "      <td>None</td>\n",
       "      <td>text</td>\n",
       "      <td>t2_hxiw11</td>\n",
       "      <td>False</td>\n",
       "      <td>False</td>\n",
       "      <td>...</td>\n",
       "      <td>NaN</td>\n",
       "      <td>NaN</td>\n",
       "      <td>NaN</td>\n",
       "      <td>NaN</td>\n",
       "      <td>NaN</td>\n",
       "      <td>NaN</td>\n",
       "      <td>NaN</td>\n",
       "      <td>NaN</td>\n",
       "      <td>NaN</td>\n",
       "      <td>NaN</td>\n",
       "    </tr>\n",
       "    <tr>\n",
       "      <th>2</th>\n",
       "      <td>[]</td>\n",
       "      <td>False</td>\n",
       "      <td>jackjoy1992</td>\n",
       "      <td>None</td>\n",
       "      <td>[]</td>\n",
       "      <td>None</td>\n",
       "      <td>text</td>\n",
       "      <td>t2_hxiw11</td>\n",
       "      <td>False</td>\n",
       "      <td>False</td>\n",
       "      <td>...</td>\n",
       "      <td>NaN</td>\n",
       "      <td>NaN</td>\n",
       "      <td>NaN</td>\n",
       "      <td>NaN</td>\n",
       "      <td>NaN</td>\n",
       "      <td>NaN</td>\n",
       "      <td>NaN</td>\n",
       "      <td>NaN</td>\n",
       "      <td>NaN</td>\n",
       "      <td>NaN</td>\n",
       "    </tr>\n",
       "    <tr>\n",
       "      <th>3</th>\n",
       "      <td>[]</td>\n",
       "      <td>False</td>\n",
       "      <td>jackjoy1992</td>\n",
       "      <td>None</td>\n",
       "      <td>[]</td>\n",
       "      <td>None</td>\n",
       "      <td>text</td>\n",
       "      <td>t2_hxiw11</td>\n",
       "      <td>False</td>\n",
       "      <td>False</td>\n",
       "      <td>...</td>\n",
       "      <td>NaN</td>\n",
       "      <td>NaN</td>\n",
       "      <td>NaN</td>\n",
       "      <td>NaN</td>\n",
       "      <td>NaN</td>\n",
       "      <td>NaN</td>\n",
       "      <td>NaN</td>\n",
       "      <td>NaN</td>\n",
       "      <td>NaN</td>\n",
       "      <td>NaN</td>\n",
       "    </tr>\n",
       "    <tr>\n",
       "      <th>4</th>\n",
       "      <td>[]</td>\n",
       "      <td>False</td>\n",
       "      <td>jackjoy1992</td>\n",
       "      <td>None</td>\n",
       "      <td>[]</td>\n",
       "      <td>None</td>\n",
       "      <td>text</td>\n",
       "      <td>t2_hxiw11</td>\n",
       "      <td>False</td>\n",
       "      <td>False</td>\n",
       "      <td>...</td>\n",
       "      <td>NaN</td>\n",
       "      <td>NaN</td>\n",
       "      <td>NaN</td>\n",
       "      <td>NaN</td>\n",
       "      <td>NaN</td>\n",
       "      <td>NaN</td>\n",
       "      <td>NaN</td>\n",
       "      <td>NaN</td>\n",
       "      <td>NaN</td>\n",
       "      <td>NaN</td>\n",
       "    </tr>\n",
       "  </tbody>\n",
       "</table>\n",
       "<p>5 rows × 74 columns</p>\n",
       "</div>"
      ],
      "text/plain": [
       "  all_awardings  allow_live_comments       author author_flair_css_class  \\\n",
       "0            []                False     Lanovart                   None   \n",
       "1            []                False  jackjoy1992                   None   \n",
       "2            []                False  jackjoy1992                   None   \n",
       "3            []                False  jackjoy1992                   None   \n",
       "4            []                False  jackjoy1992                   None   \n",
       "\n",
       "  author_flair_richtext author_flair_text author_flair_type author_fullname  \\\n",
       "0                    []              None              text     t2_5dxdcxr1   \n",
       "1                    []              None              text       t2_hxiw11   \n",
       "2                    []              None              text       t2_hxiw11   \n",
       "3                    []              None              text       t2_hxiw11   \n",
       "4                    []              None              text       t2_hxiw11   \n",
       "\n",
       "   author_patreon_flair  author_premium  ... removed_by_category  media  \\\n",
       "0                 False           False  ...                 NaN    NaN   \n",
       "1                 False           False  ...                 NaN    NaN   \n",
       "2                 False           False  ...                 NaN    NaN   \n",
       "3                 False           False  ...                 NaN    NaN   \n",
       "4                 False           False  ...                 NaN    NaN   \n",
       "\n",
       "   media_embed  secure_media secure_media_embed crosspost_parent  \\\n",
       "0          NaN           NaN                NaN              NaN   \n",
       "1          NaN           NaN                NaN              NaN   \n",
       "2          NaN           NaN                NaN              NaN   \n",
       "3          NaN           NaN                NaN              NaN   \n",
       "4          NaN           NaN                NaN              NaN   \n",
       "\n",
       "  crosspost_parent_list media_metadata  steward_reports  author_cakeday  \n",
       "0                   NaN            NaN              NaN             NaN  \n",
       "1                   NaN            NaN              NaN             NaN  \n",
       "2                   NaN            NaN              NaN             NaN  \n",
       "3                   NaN            NaN              NaN             NaN  \n",
       "4                   NaN            NaN              NaN             NaN  \n",
       "\n",
       "[5 rows x 74 columns]"
      ]
     },
     "execution_count": 12,
     "metadata": {},
     "output_type": "execute_result"
    }
   ],
   "source": [
    "# Look at dataframe of posts\n",
    "df_beatles.head()"
   ]
  },
  {
   "cell_type": "code",
   "execution_count": 13,
   "metadata": {
    "scrolled": true
   },
   "outputs": [
    {
     "data": {
      "text/html": [
       "<div>\n",
       "<style scoped>\n",
       "    .dataframe tbody tr th:only-of-type {\n",
       "        vertical-align: middle;\n",
       "    }\n",
       "\n",
       "    .dataframe tbody tr th {\n",
       "        vertical-align: top;\n",
       "    }\n",
       "\n",
       "    .dataframe thead th {\n",
       "        text-align: right;\n",
       "    }\n",
       "</style>\n",
       "<table border=\"1\" class=\"dataframe\">\n",
       "  <thead>\n",
       "    <tr style=\"text-align: right;\">\n",
       "      <th></th>\n",
       "      <th>subreddit</th>\n",
       "      <th>selftext</th>\n",
       "      <th>title</th>\n",
       "      <th>created_utc</th>\n",
       "    </tr>\n",
       "  </thead>\n",
       "  <tbody>\n",
       "    <tr>\n",
       "      <th>0</th>\n",
       "      <td>beatles</td>\n",
       "      <td></td>\n",
       "      <td>Fan art. Magnet from gypsum</td>\n",
       "      <td>1580154959</td>\n",
       "    </tr>\n",
       "    <tr>\n",
       "      <th>1</th>\n",
       "      <td>beatles</td>\n",
       "      <td></td>\n",
       "      <td>EMI Studios, 1963.</td>\n",
       "      <td>1580154755</td>\n",
       "    </tr>\n",
       "    <tr>\n",
       "      <th>2</th>\n",
       "      <td>beatles</td>\n",
       "      <td></td>\n",
       "      <td>Klein, Lennon and Ono, 1969.</td>\n",
       "      <td>1580154655</td>\n",
       "    </tr>\n",
       "    <tr>\n",
       "      <th>3</th>\n",
       "      <td>beatles</td>\n",
       "      <td></td>\n",
       "      <td>Hyde Park, May 1967</td>\n",
       "      <td>1580154607</td>\n",
       "    </tr>\n",
       "    <tr>\n",
       "      <th>4</th>\n",
       "      <td>beatles</td>\n",
       "      <td></td>\n",
       "      <td>Hyde Park, May 1967</td>\n",
       "      <td>1580154599</td>\n",
       "    </tr>\n",
       "  </tbody>\n",
       "</table>\n",
       "</div>"
      ],
      "text/plain": [
       "  subreddit selftext                         title  created_utc\n",
       "0   beatles            Fan art. Magnet from gypsum   1580154959\n",
       "1   beatles                     EMI Studios, 1963.   1580154755\n",
       "2   beatles           Klein, Lennon and Ono, 1969.   1580154655\n",
       "3   beatles                    Hyde Park, May 1967   1580154607\n",
       "4   beatles                    Hyde Park, May 1967   1580154599"
      ]
     },
     "execution_count": 13,
     "metadata": {},
     "output_type": "execute_result"
    }
   ],
   "source": [
    "# Look at columns: subreddit, selftext (description), title\n",
    "df_beatles[['subreddit', 'selftext', 'title', 'created_utc']].head()"
   ]
  },
  {
   "cell_type": "markdown",
   "metadata": {},
   "source": [
    "### Queen: 500 submissions"
   ]
  },
  {
   "cell_type": "code",
   "execution_count": 14,
   "metadata": {},
   "outputs": [],
   "source": [
    "# Set up url parameters for the first pull from the Queen subreddit (first 500 posts)\n",
    "params_queen = {\n",
    "    'subreddit': 'queen', \n",
    "    'size': 500\n",
    "}"
   ]
  },
  {
   "cell_type": "code",
   "execution_count": 15,
   "metadata": {},
   "outputs": [],
   "source": [
    "# Get a list of posts\n",
    "posts_queen = get_posts(params_queen)"
   ]
  },
  {
   "cell_type": "code",
   "execution_count": 16,
   "metadata": {},
   "outputs": [],
   "source": [
    "# Create a dataframe from the posts\n",
    "df_queen = create_new_df(posts_queen)"
   ]
  },
  {
   "cell_type": "code",
   "execution_count": 17,
   "metadata": {},
   "outputs": [
    {
     "data": {
      "text/plain": [
       "(500, 71)"
      ]
     },
     "execution_count": 17,
     "metadata": {},
     "output_type": "execute_result"
    }
   ],
   "source": [
    "# Look at the shape (rows, columns)\n",
    "df_queen.shape"
   ]
  },
  {
   "cell_type": "code",
   "execution_count": 18,
   "metadata": {
    "scrolled": true
   },
   "outputs": [
    {
     "data": {
      "text/html": [
       "<div>\n",
       "<style scoped>\n",
       "    .dataframe tbody tr th:only-of-type {\n",
       "        vertical-align: middle;\n",
       "    }\n",
       "\n",
       "    .dataframe tbody tr th {\n",
       "        vertical-align: top;\n",
       "    }\n",
       "\n",
       "    .dataframe thead th {\n",
       "        text-align: right;\n",
       "    }\n",
       "</style>\n",
       "<table border=\"1\" class=\"dataframe\">\n",
       "  <thead>\n",
       "    <tr style=\"text-align: right;\">\n",
       "      <th></th>\n",
       "      <th>all_awardings</th>\n",
       "      <th>allow_live_comments</th>\n",
       "      <th>author</th>\n",
       "      <th>author_flair_css_class</th>\n",
       "      <th>author_flair_richtext</th>\n",
       "      <th>author_flair_text</th>\n",
       "      <th>author_flair_type</th>\n",
       "      <th>author_fullname</th>\n",
       "      <th>author_patreon_flair</th>\n",
       "      <th>author_premium</th>\n",
       "      <th>...</th>\n",
       "      <th>crosspost_parent_list</th>\n",
       "      <th>media</th>\n",
       "      <th>media_embed</th>\n",
       "      <th>secure_media</th>\n",
       "      <th>secure_media_embed</th>\n",
       "      <th>removed_by_category</th>\n",
       "      <th>author_flair_background_color</th>\n",
       "      <th>author_flair_text_color</th>\n",
       "      <th>author_flair_template_id</th>\n",
       "      <th>steward_reports</th>\n",
       "    </tr>\n",
       "  </thead>\n",
       "  <tbody>\n",
       "    <tr>\n",
       "      <th>0</th>\n",
       "      <td>[]</td>\n",
       "      <td>False</td>\n",
       "      <td>Chevalenz</td>\n",
       "      <td>None</td>\n",
       "      <td>[]</td>\n",
       "      <td>None</td>\n",
       "      <td>text</td>\n",
       "      <td>t2_3xkkann2</td>\n",
       "      <td>False</td>\n",
       "      <td>False</td>\n",
       "      <td>...</td>\n",
       "      <td>NaN</td>\n",
       "      <td>NaN</td>\n",
       "      <td>NaN</td>\n",
       "      <td>NaN</td>\n",
       "      <td>NaN</td>\n",
       "      <td>NaN</td>\n",
       "      <td>NaN</td>\n",
       "      <td>NaN</td>\n",
       "      <td>NaN</td>\n",
       "      <td>NaN</td>\n",
       "    </tr>\n",
       "    <tr>\n",
       "      <th>1</th>\n",
       "      <td>[]</td>\n",
       "      <td>False</td>\n",
       "      <td>Brooktrout12</td>\n",
       "      <td>None</td>\n",
       "      <td>[]</td>\n",
       "      <td>None</td>\n",
       "      <td>text</td>\n",
       "      <td>t2_tdkqfco</td>\n",
       "      <td>False</td>\n",
       "      <td>False</td>\n",
       "      <td>...</td>\n",
       "      <td>NaN</td>\n",
       "      <td>NaN</td>\n",
       "      <td>NaN</td>\n",
       "      <td>NaN</td>\n",
       "      <td>NaN</td>\n",
       "      <td>NaN</td>\n",
       "      <td>NaN</td>\n",
       "      <td>NaN</td>\n",
       "      <td>NaN</td>\n",
       "      <td>NaN</td>\n",
       "    </tr>\n",
       "    <tr>\n",
       "      <th>2</th>\n",
       "      <td>[]</td>\n",
       "      <td>False</td>\n",
       "      <td>Palafranco</td>\n",
       "      <td>None</td>\n",
       "      <td>[]</td>\n",
       "      <td>None</td>\n",
       "      <td>text</td>\n",
       "      <td>t2_45sac6gi</td>\n",
       "      <td>False</td>\n",
       "      <td>False</td>\n",
       "      <td>...</td>\n",
       "      <td>NaN</td>\n",
       "      <td>NaN</td>\n",
       "      <td>NaN</td>\n",
       "      <td>NaN</td>\n",
       "      <td>NaN</td>\n",
       "      <td>NaN</td>\n",
       "      <td>NaN</td>\n",
       "      <td>NaN</td>\n",
       "      <td>NaN</td>\n",
       "      <td>NaN</td>\n",
       "    </tr>\n",
       "    <tr>\n",
       "      <th>3</th>\n",
       "      <td>[]</td>\n",
       "      <td>False</td>\n",
       "      <td>itsyeboiweeaboo</td>\n",
       "      <td>None</td>\n",
       "      <td>[]</td>\n",
       "      <td>None</td>\n",
       "      <td>text</td>\n",
       "      <td>t2_5cuaqbpf</td>\n",
       "      <td>False</td>\n",
       "      <td>False</td>\n",
       "      <td>...</td>\n",
       "      <td>NaN</td>\n",
       "      <td>NaN</td>\n",
       "      <td>NaN</td>\n",
       "      <td>NaN</td>\n",
       "      <td>NaN</td>\n",
       "      <td>NaN</td>\n",
       "      <td>NaN</td>\n",
       "      <td>NaN</td>\n",
       "      <td>NaN</td>\n",
       "      <td>NaN</td>\n",
       "    </tr>\n",
       "    <tr>\n",
       "      <th>4</th>\n",
       "      <td>[]</td>\n",
       "      <td>False</td>\n",
       "      <td>Taylor200212</td>\n",
       "      <td>None</td>\n",
       "      <td>[]</td>\n",
       "      <td>None</td>\n",
       "      <td>text</td>\n",
       "      <td>t2_3s18h91g</td>\n",
       "      <td>False</td>\n",
       "      <td>False</td>\n",
       "      <td>...</td>\n",
       "      <td>NaN</td>\n",
       "      <td>NaN</td>\n",
       "      <td>NaN</td>\n",
       "      <td>NaN</td>\n",
       "      <td>NaN</td>\n",
       "      <td>NaN</td>\n",
       "      <td>NaN</td>\n",
       "      <td>NaN</td>\n",
       "      <td>NaN</td>\n",
       "      <td>NaN</td>\n",
       "    </tr>\n",
       "  </tbody>\n",
       "</table>\n",
       "<p>5 rows × 71 columns</p>\n",
       "</div>"
      ],
      "text/plain": [
       "  all_awardings  allow_live_comments           author author_flair_css_class  \\\n",
       "0            []                False        Chevalenz                   None   \n",
       "1            []                False     Brooktrout12                   None   \n",
       "2            []                False       Palafranco                   None   \n",
       "3            []                False  itsyeboiweeaboo                   None   \n",
       "4            []                False     Taylor200212                   None   \n",
       "\n",
       "  author_flair_richtext author_flair_text author_flair_type author_fullname  \\\n",
       "0                    []              None              text     t2_3xkkann2   \n",
       "1                    []              None              text      t2_tdkqfco   \n",
       "2                    []              None              text     t2_45sac6gi   \n",
       "3                    []              None              text     t2_5cuaqbpf   \n",
       "4                    []              None              text     t2_3s18h91g   \n",
       "\n",
       "  author_patreon_flair author_premium  ... crosspost_parent_list  media  \\\n",
       "0                False          False  ...                   NaN    NaN   \n",
       "1                False          False  ...                   NaN    NaN   \n",
       "2                False          False  ...                   NaN    NaN   \n",
       "3                False          False  ...                   NaN    NaN   \n",
       "4                False          False  ...                   NaN    NaN   \n",
       "\n",
       "   media_embed  secure_media secure_media_embed removed_by_category  \\\n",
       "0          NaN           NaN                NaN                 NaN   \n",
       "1          NaN           NaN                NaN                 NaN   \n",
       "2          NaN           NaN                NaN                 NaN   \n",
       "3          NaN           NaN                NaN                 NaN   \n",
       "4          NaN           NaN                NaN                 NaN   \n",
       "\n",
       "  author_flair_background_color author_flair_text_color  \\\n",
       "0                           NaN                     NaN   \n",
       "1                           NaN                     NaN   \n",
       "2                           NaN                     NaN   \n",
       "3                           NaN                     NaN   \n",
       "4                           NaN                     NaN   \n",
       "\n",
       "   author_flair_template_id  steward_reports  \n",
       "0                       NaN              NaN  \n",
       "1                       NaN              NaN  \n",
       "2                       NaN              NaN  \n",
       "3                       NaN              NaN  \n",
       "4                       NaN              NaN  \n",
       "\n",
       "[5 rows x 71 columns]"
      ]
     },
     "execution_count": 18,
     "metadata": {},
     "output_type": "execute_result"
    }
   ],
   "source": [
    "# Look at the dataframe of posts\n",
    "df_queen.head()"
   ]
  },
  {
   "cell_type": "code",
   "execution_count": 19,
   "metadata": {
    "scrolled": true
   },
   "outputs": [
    {
     "data": {
      "text/html": [
       "<div>\n",
       "<style scoped>\n",
       "    .dataframe tbody tr th:only-of-type {\n",
       "        vertical-align: middle;\n",
       "    }\n",
       "\n",
       "    .dataframe tbody tr th {\n",
       "        vertical-align: top;\n",
       "    }\n",
       "\n",
       "    .dataframe thead th {\n",
       "        text-align: right;\n",
       "    }\n",
       "</style>\n",
       "<table border=\"1\" class=\"dataframe\">\n",
       "  <thead>\n",
       "    <tr style=\"text-align: right;\">\n",
       "      <th></th>\n",
       "      <th>subreddit</th>\n",
       "      <th>selftext</th>\n",
       "      <th>title</th>\n",
       "      <th>created_utc</th>\n",
       "    </tr>\n",
       "  </thead>\n",
       "  <tbody>\n",
       "    <tr>\n",
       "      <th>0</th>\n",
       "      <td>queen</td>\n",
       "      <td>With 15 votes, 'Hang On In There' is out! Reme...</td>\n",
       "      <td>The Miracle - Queen Survivor (Round 6)</td>\n",
       "      <td>1580155230</td>\n",
       "    </tr>\n",
       "    <tr>\n",
       "      <th>1</th>\n",
       "      <td>queen</td>\n",
       "      <td></td>\n",
       "      <td>Freddie Mercury Canvas Artwork in New Orleans</td>\n",
       "      <td>1580153714</td>\n",
       "    </tr>\n",
       "    <tr>\n",
       "      <th>2</th>\n",
       "      <td>queen</td>\n",
       "      <td></td>\n",
       "      <td>Rare pic of young Freddie (in the middle) with...</td>\n",
       "      <td>1580146789</td>\n",
       "    </tr>\n",
       "    <tr>\n",
       "      <th>3</th>\n",
       "      <td>queen</td>\n",
       "      <td>Okay so I recently finished being in the We Wi...</td>\n",
       "      <td>We Will Rock You</td>\n",
       "      <td>1580146178</td>\n",
       "    </tr>\n",
       "    <tr>\n",
       "      <th>4</th>\n",
       "      <td>queen</td>\n",
       "      <td>If we are being completely honest, chances are...</td>\n",
       "      <td>Remaining members of Queen</td>\n",
       "      <td>1580143852</td>\n",
       "    </tr>\n",
       "  </tbody>\n",
       "</table>\n",
       "</div>"
      ],
      "text/plain": [
       "  subreddit                                           selftext  \\\n",
       "0     queen  With 15 votes, 'Hang On In There' is out! Reme...   \n",
       "1     queen                                                      \n",
       "2     queen                                                      \n",
       "3     queen  Okay so I recently finished being in the We Wi...   \n",
       "4     queen  If we are being completely honest, chances are...   \n",
       "\n",
       "                                               title  created_utc  \n",
       "0             The Miracle - Queen Survivor (Round 6)   1580155230  \n",
       "1      Freddie Mercury Canvas Artwork in New Orleans   1580153714  \n",
       "2  Rare pic of young Freddie (in the middle) with...   1580146789  \n",
       "3                                   We Will Rock You   1580146178  \n",
       "4                         Remaining members of Queen   1580143852  "
      ]
     },
     "execution_count": 19,
     "metadata": {},
     "output_type": "execute_result"
    }
   ],
   "source": [
    "# Look at columns: subreddit, selftext (description), title\n",
    "df_queen[['subreddit', 'selftext', 'title', 'created_utc']].head()"
   ]
  },
  {
   "cell_type": "markdown",
   "metadata": {},
   "source": [
    "### Collect 19,500 more posts per subreddit"
   ]
  },
  {
   "cell_type": "code",
   "execution_count": 20,
   "metadata": {},
   "outputs": [
    {
     "data": {
      "text/plain": [
       "39.0"
      ]
     },
     "execution_count": 20,
     "metadata": {},
     "output_type": "execute_result"
    }
   ],
   "source": [
    "# How many requests per group do we need to make to get remaining 19,500 posts?\n",
    "19500/500"
   ]
  },
  {
   "cell_type": "code",
   "execution_count": 21,
   "metadata": {},
   "outputs": [
    {
     "name": "stdout",
     "output_type": "stream",
     "text": [
      "(6000, 81)\n",
      "(11000, 81)\n",
      "(16000, 87)\n"
     ]
    },
    {
     "data": {
      "text/plain": [
       "(20000, 87)"
      ]
     },
     "execution_count": 21,
     "metadata": {},
     "output_type": "execute_result"
    }
   ],
   "source": [
    "# Update the Beatles dataframe with the 19,500 succeeding posts\n",
    "for i in range(39):\n",
    "    df_beatles = update_df(df_beatles, 'beatles')\n",
    "    if i in [10, 20, 30]:\n",
    "        print(df_beatles.shape)\n",
    "\n",
    "df_beatles.shape"
   ]
  },
  {
   "cell_type": "code",
   "execution_count": 22,
   "metadata": {},
   "outputs": [
    {
     "name": "stdout",
     "output_type": "stream",
     "text": [
      "(6000, 78)\n",
      "(11000, 78)\n",
      "(16000, 82)\n"
     ]
    },
    {
     "data": {
      "text/plain": [
       "(20000, 87)"
      ]
     },
     "execution_count": 22,
     "metadata": {},
     "output_type": "execute_result"
    }
   ],
   "source": [
    "# Update the Queen dataframe with the 19,500 succeeding posts\n",
    "for i in range(39):\n",
    "    df_queen = update_df(df_queen, 'queen')\n",
    "    if i in [10, 20, 30]:\n",
    "        print(df_queen.shape)\n",
    "\n",
    "df_beatles.shape"
   ]
  },
  {
   "cell_type": "markdown",
   "metadata": {},
   "source": [
    "### Export 20,000 Beatles subreddit posts"
   ]
  },
  {
   "cell_type": "code",
   "execution_count": 48,
   "metadata": {},
   "outputs": [],
   "source": [
    "# Export Beatles submissions dataframe to a csv\n",
    "df_beatles.to_csv('./data/beatles_subs.csv', index=False)"
   ]
  },
  {
   "cell_type": "markdown",
   "metadata": {},
   "source": [
    "### Export 20,000 Queen subreddit posts"
   ]
  },
  {
   "cell_type": "code",
   "execution_count": 49,
   "metadata": {},
   "outputs": [],
   "source": [
    "# Export Queen submissions dataframe to a csv\n",
    "df_queen.to_csv('./data/queen_subs.csv', index=False)"
   ]
  },
  {
   "cell_type": "markdown",
   "metadata": {},
   "source": [
    "## Collect 40,000 comments per subreddit"
   ]
  },
  {
   "cell_type": "code",
   "execution_count": 25,
   "metadata": {},
   "outputs": [],
   "source": [
    "baseurl_comments = 'https://api.pushshift.io/reddit/search/comment'"
   ]
  },
  {
   "cell_type": "markdown",
   "metadata": {},
   "source": [
    "### Beatles: 500 comments"
   ]
  },
  {
   "cell_type": "code",
   "execution_count": 26,
   "metadata": {},
   "outputs": [],
   "source": [
    "# Set up url parameters for the first pull from the Beatles subreddit (first 500 posts)\n",
    "params_beatles_com = {\n",
    "    'subreddit': 'beatles', \n",
    "    'size': 500\n",
    "}"
   ]
  },
  {
   "cell_type": "code",
   "execution_count": 27,
   "metadata": {
    "scrolled": true
   },
   "outputs": [],
   "source": [
    "# Get a list of comments\n",
    "comments_beatles = get_posts(params_beatles_com, baseurl = baseurl_comments)"
   ]
  },
  {
   "cell_type": "code",
   "execution_count": 28,
   "metadata": {},
   "outputs": [],
   "source": [
    "# Create a dataframe from the comments\n",
    "df_beatles_comments = create_new_df(comments_beatles)"
   ]
  },
  {
   "cell_type": "code",
   "execution_count": 29,
   "metadata": {
    "scrolled": false
   },
   "outputs": [
    {
     "data": {
      "text/plain": [
       "(500, 34)"
      ]
     },
     "execution_count": 29,
     "metadata": {},
     "output_type": "execute_result"
    }
   ],
   "source": [
    "# Look at the shape (rows, columns)\n",
    "df_beatles_comments.shape"
   ]
  },
  {
   "cell_type": "code",
   "execution_count": 30,
   "metadata": {
    "scrolled": false
   },
   "outputs": [
    {
     "data": {
      "text/html": [
       "<div>\n",
       "<style scoped>\n",
       "    .dataframe tbody tr th:only-of-type {\n",
       "        vertical-align: middle;\n",
       "    }\n",
       "\n",
       "    .dataframe tbody tr th {\n",
       "        vertical-align: top;\n",
       "    }\n",
       "\n",
       "    .dataframe thead th {\n",
       "        text-align: right;\n",
       "    }\n",
       "</style>\n",
       "<table border=\"1\" class=\"dataframe\">\n",
       "  <thead>\n",
       "    <tr style=\"text-align: right;\">\n",
       "      <th></th>\n",
       "      <th>all_awardings</th>\n",
       "      <th>associated_award</th>\n",
       "      <th>author</th>\n",
       "      <th>author_flair_background_color</th>\n",
       "      <th>author_flair_css_class</th>\n",
       "      <th>author_flair_richtext</th>\n",
       "      <th>author_flair_template_id</th>\n",
       "      <th>author_flair_text</th>\n",
       "      <th>author_flair_text_color</th>\n",
       "      <th>author_flair_type</th>\n",
       "      <th>...</th>\n",
       "      <th>permalink</th>\n",
       "      <th>retrieved_on</th>\n",
       "      <th>score</th>\n",
       "      <th>send_replies</th>\n",
       "      <th>stickied</th>\n",
       "      <th>subreddit</th>\n",
       "      <th>subreddit_id</th>\n",
       "      <th>total_awards_received</th>\n",
       "      <th>author_cakeday</th>\n",
       "      <th>edited</th>\n",
       "    </tr>\n",
       "  </thead>\n",
       "  <tbody>\n",
       "    <tr>\n",
       "      <th>0</th>\n",
       "      <td>[]</td>\n",
       "      <td>None</td>\n",
       "      <td>356BC</td>\n",
       "      <td>None</td>\n",
       "      <td>None</td>\n",
       "      <td>[]</td>\n",
       "      <td>None</td>\n",
       "      <td>None</td>\n",
       "      <td>None</td>\n",
       "      <td>text</td>\n",
       "      <td>...</td>\n",
       "      <td>/r/beatles/comments/euqx9g/concert_abby_road_1...</td>\n",
       "      <td>1580156504</td>\n",
       "      <td>1</td>\n",
       "      <td>True</td>\n",
       "      <td>False</td>\n",
       "      <td>beatles</td>\n",
       "      <td>t5_2qt7l</td>\n",
       "      <td>0</td>\n",
       "      <td>NaN</td>\n",
       "      <td>NaN</td>\n",
       "    </tr>\n",
       "    <tr>\n",
       "      <th>1</th>\n",
       "      <td>[]</td>\n",
       "      <td>None</td>\n",
       "      <td>EveningsAndWeekends</td>\n",
       "      <td>None</td>\n",
       "      <td>None</td>\n",
       "      <td>[]</td>\n",
       "      <td>None</td>\n",
       "      <td>None</td>\n",
       "      <td>None</td>\n",
       "      <td>text</td>\n",
       "      <td>...</td>\n",
       "      <td>/r/beatles/comments/euqx9g/concert_abby_road_1...</td>\n",
       "      <td>1580156293</td>\n",
       "      <td>1</td>\n",
       "      <td>True</td>\n",
       "      <td>False</td>\n",
       "      <td>beatles</td>\n",
       "      <td>t5_2qt7l</td>\n",
       "      <td>0</td>\n",
       "      <td>NaN</td>\n",
       "      <td>NaN</td>\n",
       "    </tr>\n",
       "    <tr>\n",
       "      <th>2</th>\n",
       "      <td>[]</td>\n",
       "      <td>None</td>\n",
       "      <td>EveningsAndWeekends</td>\n",
       "      <td>None</td>\n",
       "      <td>None</td>\n",
       "      <td>[]</td>\n",
       "      <td>None</td>\n",
       "      <td>None</td>\n",
       "      <td>None</td>\n",
       "      <td>text</td>\n",
       "      <td>...</td>\n",
       "      <td>/r/beatles/comments/euqx9g/concert_abby_road_1...</td>\n",
       "      <td>1580156255</td>\n",
       "      <td>1</td>\n",
       "      <td>True</td>\n",
       "      <td>False</td>\n",
       "      <td>beatles</td>\n",
       "      <td>t5_2qt7l</td>\n",
       "      <td>0</td>\n",
       "      <td>NaN</td>\n",
       "      <td>NaN</td>\n",
       "    </tr>\n",
       "    <tr>\n",
       "      <th>3</th>\n",
       "      <td>[]</td>\n",
       "      <td>None</td>\n",
       "      <td>Bowiequeen</td>\n",
       "      <td>None</td>\n",
       "      <td>None</td>\n",
       "      <td>[]</td>\n",
       "      <td>None</td>\n",
       "      <td>None</td>\n",
       "      <td>None</td>\n",
       "      <td>text</td>\n",
       "      <td>...</td>\n",
       "      <td>/r/beatles/comments/eugkn7/did_my_first_cross_...</td>\n",
       "      <td>1580156133</td>\n",
       "      <td>1</td>\n",
       "      <td>True</td>\n",
       "      <td>False</td>\n",
       "      <td>beatles</td>\n",
       "      <td>t5_2qt7l</td>\n",
       "      <td>0</td>\n",
       "      <td>NaN</td>\n",
       "      <td>NaN</td>\n",
       "    </tr>\n",
       "    <tr>\n",
       "      <th>4</th>\n",
       "      <td>[]</td>\n",
       "      <td>None</td>\n",
       "      <td>Scrutchpipe</td>\n",
       "      <td>None</td>\n",
       "      <td>None</td>\n",
       "      <td>[]</td>\n",
       "      <td>None</td>\n",
       "      <td>None</td>\n",
       "      <td>None</td>\n",
       "      <td>text</td>\n",
       "      <td>...</td>\n",
       "      <td>/r/beatles/comments/eulc65/the_sikh_man_in_hey...</td>\n",
       "      <td>1580156000</td>\n",
       "      <td>1</td>\n",
       "      <td>True</td>\n",
       "      <td>False</td>\n",
       "      <td>beatles</td>\n",
       "      <td>t5_2qt7l</td>\n",
       "      <td>0</td>\n",
       "      <td>NaN</td>\n",
       "      <td>NaN</td>\n",
       "    </tr>\n",
       "  </tbody>\n",
       "</table>\n",
       "<p>5 rows × 34 columns</p>\n",
       "</div>"
      ],
      "text/plain": [
       "  all_awardings associated_award               author  \\\n",
       "0            []             None                356BC   \n",
       "1            []             None  EveningsAndWeekends   \n",
       "2            []             None  EveningsAndWeekends   \n",
       "3            []             None           Bowiequeen   \n",
       "4            []             None          Scrutchpipe   \n",
       "\n",
       "  author_flair_background_color author_flair_css_class author_flair_richtext  \\\n",
       "0                          None                   None                    []   \n",
       "1                          None                   None                    []   \n",
       "2                          None                   None                    []   \n",
       "3                          None                   None                    []   \n",
       "4                          None                   None                    []   \n",
       "\n",
       "  author_flair_template_id author_flair_text author_flair_text_color  \\\n",
       "0                     None              None                    None   \n",
       "1                     None              None                    None   \n",
       "2                     None              None                    None   \n",
       "3                     None              None                    None   \n",
       "4                     None              None                    None   \n",
       "\n",
       "  author_flair_type  ...                                          permalink  \\\n",
       "0              text  ...  /r/beatles/comments/euqx9g/concert_abby_road_1...   \n",
       "1              text  ...  /r/beatles/comments/euqx9g/concert_abby_road_1...   \n",
       "2              text  ...  /r/beatles/comments/euqx9g/concert_abby_road_1...   \n",
       "3              text  ...  /r/beatles/comments/eugkn7/did_my_first_cross_...   \n",
       "4              text  ...  /r/beatles/comments/eulc65/the_sikh_man_in_hey...   \n",
       "\n",
       "  retrieved_on score send_replies stickied subreddit  subreddit_id  \\\n",
       "0   1580156504     1         True    False   beatles      t5_2qt7l   \n",
       "1   1580156293     1         True    False   beatles      t5_2qt7l   \n",
       "2   1580156255     1         True    False   beatles      t5_2qt7l   \n",
       "3   1580156133     1         True    False   beatles      t5_2qt7l   \n",
       "4   1580156000     1         True    False   beatles      t5_2qt7l   \n",
       "\n",
       "  total_awards_received author_cakeday  edited  \n",
       "0                     0            NaN     NaN  \n",
       "1                     0            NaN     NaN  \n",
       "2                     0            NaN     NaN  \n",
       "3                     0            NaN     NaN  \n",
       "4                     0            NaN     NaN  \n",
       "\n",
       "[5 rows x 34 columns]"
      ]
     },
     "execution_count": 30,
     "metadata": {},
     "output_type": "execute_result"
    }
   ],
   "source": [
    "# Look at dataframe of posts\n",
    "df_beatles_comments.head()"
   ]
  },
  {
   "cell_type": "code",
   "execution_count": 31,
   "metadata": {
    "scrolled": false
   },
   "outputs": [
    {
     "data": {
      "text/html": [
       "<div>\n",
       "<style scoped>\n",
       "    .dataframe tbody tr th:only-of-type {\n",
       "        vertical-align: middle;\n",
       "    }\n",
       "\n",
       "    .dataframe tbody tr th {\n",
       "        vertical-align: top;\n",
       "    }\n",
       "\n",
       "    .dataframe thead th {\n",
       "        text-align: right;\n",
       "    }\n",
       "</style>\n",
       "<table border=\"1\" class=\"dataframe\">\n",
       "  <thead>\n",
       "    <tr style=\"text-align: right;\">\n",
       "      <th></th>\n",
       "      <th>subreddit</th>\n",
       "      <th>body</th>\n",
       "      <th>author_flair_text</th>\n",
       "      <th>created_utc</th>\n",
       "    </tr>\n",
       "  </thead>\n",
       "  <tbody>\n",
       "    <tr>\n",
       "      <th>0</th>\n",
       "      <td>beatles</td>\n",
       "      <td>Sorry, I wasn't trying to sound like a dick. I...</td>\n",
       "      <td>None</td>\n",
       "      <td>1580156460</td>\n",
       "    </tr>\n",
       "    <tr>\n",
       "      <th>1</th>\n",
       "      <td>beatles</td>\n",
       "      <td>Oh man to be one of those standing there, watc...</td>\n",
       "      <td>None</td>\n",
       "      <td>1580156243</td>\n",
       "    </tr>\n",
       "    <tr>\n",
       "      <th>2</th>\n",
       "      <td>beatles</td>\n",
       "      <td>Ded from those sick beats</td>\n",
       "      <td>None</td>\n",
       "      <td>1580156204</td>\n",
       "    </tr>\n",
       "    <tr>\n",
       "      <th>3</th>\n",
       "      <td>beatles</td>\n",
       "      <td>Living is easy with eyes closed</td>\n",
       "      <td>None</td>\n",
       "      <td>1580156077</td>\n",
       "    </tr>\n",
       "    <tr>\n",
       "      <th>4</th>\n",
       "      <td>beatles</td>\n",
       "      <td>It would be good to do a ‘where are they now’ ...</td>\n",
       "      <td>None</td>\n",
       "      <td>1580155942</td>\n",
       "    </tr>\n",
       "  </tbody>\n",
       "</table>\n",
       "</div>"
      ],
      "text/plain": [
       "  subreddit                                               body  \\\n",
       "0   beatles  Sorry, I wasn't trying to sound like a dick. I...   \n",
       "1   beatles  Oh man to be one of those standing there, watc...   \n",
       "2   beatles                          Ded from those sick beats   \n",
       "3   beatles                    Living is easy with eyes closed   \n",
       "4   beatles  It would be good to do a ‘where are they now’ ...   \n",
       "\n",
       "  author_flair_text  created_utc  \n",
       "0              None   1580156460  \n",
       "1              None   1580156243  \n",
       "2              None   1580156204  \n",
       "3              None   1580156077  \n",
       "4              None   1580155942  "
      ]
     },
     "execution_count": 31,
     "metadata": {},
     "output_type": "execute_result"
    }
   ],
   "source": [
    "# Look at columns: subreddit, body, author_flair_text\n",
    "df_beatles_comments[['subreddit', 'body', 'author_flair_text', 'created_utc']].head()"
   ]
  },
  {
   "cell_type": "markdown",
   "metadata": {},
   "source": [
    "### Queen: 500 comments"
   ]
  },
  {
   "cell_type": "code",
   "execution_count": 32,
   "metadata": {},
   "outputs": [],
   "source": [
    "# Set up url parameters for the first pull from the Beatles subreddit (first 500 posts)\n",
    "params_queen_com = {\n",
    "    'subreddit': 'queen', \n",
    "    'size': 500\n",
    "}"
   ]
  },
  {
   "cell_type": "code",
   "execution_count": 33,
   "metadata": {
    "scrolled": true
   },
   "outputs": [],
   "source": [
    "# Get a list of comments\n",
    "comments_queen = get_posts(params_queen_com, baseurl = baseurl_comments)"
   ]
  },
  {
   "cell_type": "code",
   "execution_count": 34,
   "metadata": {},
   "outputs": [],
   "source": [
    "# Create a dataframe from the comments\n",
    "df_queen_comments = create_new_df(comments_queen)"
   ]
  },
  {
   "cell_type": "code",
   "execution_count": 35,
   "metadata": {
    "scrolled": false
   },
   "outputs": [
    {
     "data": {
      "text/plain": [
       "(500, 35)"
      ]
     },
     "execution_count": 35,
     "metadata": {},
     "output_type": "execute_result"
    }
   ],
   "source": [
    "# Look at the shape (rows, columns)\n",
    "df_queen_comments.shape"
   ]
  },
  {
   "cell_type": "code",
   "execution_count": 36,
   "metadata": {
    "scrolled": true
   },
   "outputs": [
    {
     "data": {
      "text/html": [
       "<div>\n",
       "<style scoped>\n",
       "    .dataframe tbody tr th:only-of-type {\n",
       "        vertical-align: middle;\n",
       "    }\n",
       "\n",
       "    .dataframe tbody tr th {\n",
       "        vertical-align: top;\n",
       "    }\n",
       "\n",
       "    .dataframe thead th {\n",
       "        text-align: right;\n",
       "    }\n",
       "</style>\n",
       "<table border=\"1\" class=\"dataframe\">\n",
       "  <thead>\n",
       "    <tr style=\"text-align: right;\">\n",
       "      <th></th>\n",
       "      <th>all_awardings</th>\n",
       "      <th>associated_award</th>\n",
       "      <th>author</th>\n",
       "      <th>author_flair_background_color</th>\n",
       "      <th>author_flair_css_class</th>\n",
       "      <th>author_flair_richtext</th>\n",
       "      <th>author_flair_template_id</th>\n",
       "      <th>author_flair_text</th>\n",
       "      <th>author_flair_text_color</th>\n",
       "      <th>author_flair_type</th>\n",
       "      <th>...</th>\n",
       "      <th>retrieved_on</th>\n",
       "      <th>score</th>\n",
       "      <th>send_replies</th>\n",
       "      <th>stickied</th>\n",
       "      <th>subreddit</th>\n",
       "      <th>subreddit_id</th>\n",
       "      <th>total_awards_received</th>\n",
       "      <th>author_cakeday</th>\n",
       "      <th>distinguished</th>\n",
       "      <th>edited</th>\n",
       "    </tr>\n",
       "  </thead>\n",
       "  <tbody>\n",
       "    <tr>\n",
       "      <th>0</th>\n",
       "      <td>[]</td>\n",
       "      <td>None</td>\n",
       "      <td>Chevalenz</td>\n",
       "      <td>None</td>\n",
       "      <td>None</td>\n",
       "      <td>[]</td>\n",
       "      <td>None</td>\n",
       "      <td>None</td>\n",
       "      <td>None</td>\n",
       "      <td>text</td>\n",
       "      <td>...</td>\n",
       "      <td>1580155989</td>\n",
       "      <td>1</td>\n",
       "      <td>True</td>\n",
       "      <td>False</td>\n",
       "      <td>queen</td>\n",
       "      <td>t5_2s4ze</td>\n",
       "      <td>0</td>\n",
       "      <td>NaN</td>\n",
       "      <td>NaN</td>\n",
       "      <td>NaN</td>\n",
       "    </tr>\n",
       "    <tr>\n",
       "      <th>1</th>\n",
       "      <td>[]</td>\n",
       "      <td>None</td>\n",
       "      <td>EFF198783</td>\n",
       "      <td>None</td>\n",
       "      <td>None</td>\n",
       "      <td>[]</td>\n",
       "      <td>None</td>\n",
       "      <td>None</td>\n",
       "      <td>None</td>\n",
       "      <td>text</td>\n",
       "      <td>...</td>\n",
       "      <td>1580155709</td>\n",
       "      <td>1</td>\n",
       "      <td>True</td>\n",
       "      <td>False</td>\n",
       "      <td>queen</td>\n",
       "      <td>t5_2s4ze</td>\n",
       "      <td>0</td>\n",
       "      <td>NaN</td>\n",
       "      <td>NaN</td>\n",
       "      <td>NaN</td>\n",
       "    </tr>\n",
       "    <tr>\n",
       "      <th>2</th>\n",
       "      <td>[]</td>\n",
       "      <td>None</td>\n",
       "      <td>Dilanep37</td>\n",
       "      <td>None</td>\n",
       "      <td>None</td>\n",
       "      <td>[]</td>\n",
       "      <td>None</td>\n",
       "      <td>None</td>\n",
       "      <td>None</td>\n",
       "      <td>text</td>\n",
       "      <td>...</td>\n",
       "      <td>1580154022</td>\n",
       "      <td>1</td>\n",
       "      <td>True</td>\n",
       "      <td>False</td>\n",
       "      <td>queen</td>\n",
       "      <td>t5_2s4ze</td>\n",
       "      <td>0</td>\n",
       "      <td>NaN</td>\n",
       "      <td>NaN</td>\n",
       "      <td>NaN</td>\n",
       "    </tr>\n",
       "    <tr>\n",
       "      <th>3</th>\n",
       "      <td>[]</td>\n",
       "      <td>None</td>\n",
       "      <td>Dilanep37</td>\n",
       "      <td>None</td>\n",
       "      <td>None</td>\n",
       "      <td>[]</td>\n",
       "      <td>None</td>\n",
       "      <td>None</td>\n",
       "      <td>None</td>\n",
       "      <td>text</td>\n",
       "      <td>...</td>\n",
       "      <td>1580153638</td>\n",
       "      <td>1</td>\n",
       "      <td>True</td>\n",
       "      <td>False</td>\n",
       "      <td>queen</td>\n",
       "      <td>t5_2s4ze</td>\n",
       "      <td>0</td>\n",
       "      <td>NaN</td>\n",
       "      <td>NaN</td>\n",
       "      <td>NaN</td>\n",
       "    </tr>\n",
       "    <tr>\n",
       "      <th>4</th>\n",
       "      <td>[]</td>\n",
       "      <td>None</td>\n",
       "      <td>Jakeybaby125</td>\n",
       "      <td>None</td>\n",
       "      <td>None</td>\n",
       "      <td>[]</td>\n",
       "      <td>None</td>\n",
       "      <td>None</td>\n",
       "      <td>None</td>\n",
       "      <td>text</td>\n",
       "      <td>...</td>\n",
       "      <td>1580153376</td>\n",
       "      <td>1</td>\n",
       "      <td>True</td>\n",
       "      <td>False</td>\n",
       "      <td>queen</td>\n",
       "      <td>t5_2s4ze</td>\n",
       "      <td>0</td>\n",
       "      <td>NaN</td>\n",
       "      <td>NaN</td>\n",
       "      <td>NaN</td>\n",
       "    </tr>\n",
       "  </tbody>\n",
       "</table>\n",
       "<p>5 rows × 35 columns</p>\n",
       "</div>"
      ],
      "text/plain": [
       "  all_awardings associated_award        author author_flair_background_color  \\\n",
       "0            []             None     Chevalenz                          None   \n",
       "1            []             None     EFF198783                          None   \n",
       "2            []             None     Dilanep37                          None   \n",
       "3            []             None     Dilanep37                          None   \n",
       "4            []             None  Jakeybaby125                          None   \n",
       "\n",
       "  author_flair_css_class author_flair_richtext author_flair_template_id  \\\n",
       "0                   None                    []                     None   \n",
       "1                   None                    []                     None   \n",
       "2                   None                    []                     None   \n",
       "3                   None                    []                     None   \n",
       "4                   None                    []                     None   \n",
       "\n",
       "  author_flair_text author_flair_text_color author_flair_type  ...  \\\n",
       "0              None                    None              text  ...   \n",
       "1              None                    None              text  ...   \n",
       "2              None                    None              text  ...   \n",
       "3              None                    None              text  ...   \n",
       "4              None                    None              text  ...   \n",
       "\n",
       "  retrieved_on  score  send_replies stickied subreddit subreddit_id  \\\n",
       "0   1580155989      1          True    False     queen     t5_2s4ze   \n",
       "1   1580155709      1          True    False     queen     t5_2s4ze   \n",
       "2   1580154022      1          True    False     queen     t5_2s4ze   \n",
       "3   1580153638      1          True    False     queen     t5_2s4ze   \n",
       "4   1580153376      1          True    False     queen     t5_2s4ze   \n",
       "\n",
       "   total_awards_received author_cakeday distinguished  edited  \n",
       "0                      0            NaN           NaN     NaN  \n",
       "1                      0            NaN           NaN     NaN  \n",
       "2                      0            NaN           NaN     NaN  \n",
       "3                      0            NaN           NaN     NaN  \n",
       "4                      0            NaN           NaN     NaN  \n",
       "\n",
       "[5 rows x 35 columns]"
      ]
     },
     "execution_count": 36,
     "metadata": {},
     "output_type": "execute_result"
    }
   ],
   "source": [
    "# Look at dataframe of posts\n",
    "df_queen_comments.head()"
   ]
  },
  {
   "cell_type": "code",
   "execution_count": 37,
   "metadata": {
    "scrolled": true
   },
   "outputs": [
    {
     "data": {
      "text/html": [
       "<div>\n",
       "<style scoped>\n",
       "    .dataframe tbody tr th:only-of-type {\n",
       "        vertical-align: middle;\n",
       "    }\n",
       "\n",
       "    .dataframe tbody tr th {\n",
       "        vertical-align: top;\n",
       "    }\n",
       "\n",
       "    .dataframe thead th {\n",
       "        text-align: right;\n",
       "    }\n",
       "</style>\n",
       "<table border=\"1\" class=\"dataframe\">\n",
       "  <thead>\n",
       "    <tr style=\"text-align: right;\">\n",
       "      <th></th>\n",
       "      <th>subreddit</th>\n",
       "      <th>body</th>\n",
       "      <th>author_flair_text</th>\n",
       "      <th>created_utc</th>\n",
       "    </tr>\n",
       "  </thead>\n",
       "  <tbody>\n",
       "    <tr>\n",
       "      <th>0</th>\n",
       "      <td>queen</td>\n",
       "      <td>Gotta be honest: 'Hang On In There' and 'Khash...</td>\n",
       "      <td>None</td>\n",
       "      <td>1580155931</td>\n",
       "    </tr>\n",
       "    <tr>\n",
       "      <th>1</th>\n",
       "      <td>queen</td>\n",
       "      <td>Freddie should be on 1st place!!!</td>\n",
       "      <td>None</td>\n",
       "      <td>1580155699</td>\n",
       "    </tr>\n",
       "    <tr>\n",
       "      <th>2</th>\n",
       "      <td>queen</td>\n",
       "      <td>I can get why you don't like hot space, as it ...</td>\n",
       "      <td>None</td>\n",
       "      <td>1580154020</td>\n",
       "    </tr>\n",
       "    <tr>\n",
       "      <th>3</th>\n",
       "      <td>queen</td>\n",
       "      <td>nah, I like a lot of other songs on the album....</td>\n",
       "      <td>None</td>\n",
       "      <td>1580153636</td>\n",
       "    </tr>\n",
       "    <tr>\n",
       "      <th>4</th>\n",
       "      <td>queen</td>\n",
       "      <td>That's you opinion but I honestly think it's q...</td>\n",
       "      <td>None</td>\n",
       "      <td>1580153373</td>\n",
       "    </tr>\n",
       "  </tbody>\n",
       "</table>\n",
       "</div>"
      ],
      "text/plain": [
       "  subreddit                                               body  \\\n",
       "0     queen  Gotta be honest: 'Hang On In There' and 'Khash...   \n",
       "1     queen                  Freddie should be on 1st place!!!   \n",
       "2     queen  I can get why you don't like hot space, as it ...   \n",
       "3     queen  nah, I like a lot of other songs on the album....   \n",
       "4     queen  That's you opinion but I honestly think it's q...   \n",
       "\n",
       "  author_flair_text  created_utc  \n",
       "0              None   1580155931  \n",
       "1              None   1580155699  \n",
       "2              None   1580154020  \n",
       "3              None   1580153636  \n",
       "4              None   1580153373  "
      ]
     },
     "execution_count": 37,
     "metadata": {},
     "output_type": "execute_result"
    }
   ],
   "source": [
    "# Look at columns: subreddit, body, author_flair_text\n",
    "df_queen_comments[['subreddit', 'body', 'author_flair_text', 'created_utc']].head()"
   ]
  },
  {
   "cell_type": "markdown",
   "metadata": {},
   "source": [
    "### Collect 19,500 more comments per subreddit"
   ]
  },
  {
   "cell_type": "code",
   "execution_count": 38,
   "metadata": {},
   "outputs": [
    {
     "name": "stdout",
     "output_type": "stream",
     "text": [
      "(6000, 87)\n",
      "(11000, 87)\n",
      "(16000, 93)\n"
     ]
    },
    {
     "data": {
      "text/plain": [
       "(20000, 93)"
      ]
     },
     "execution_count": 38,
     "metadata": {},
     "output_type": "execute_result"
    }
   ],
   "source": [
    "# Update the Beatles dataframe with the 19,500 succeeding comments\n",
    "for i in range(39):\n",
    "    df_beatles_comments = update_df(df_beatles_comments, 'beatles')\n",
    "    if i in [10, 20, 30]:\n",
    "        print(df_beatles_comments.shape)\n",
    "        \n",
    "df_beatles_comments.shape"
   ]
  },
  {
   "cell_type": "code",
   "execution_count": 39,
   "metadata": {
    "scrolled": true
   },
   "outputs": [
    {
     "name": "stdout",
     "output_type": "stream",
     "text": [
      "(6000, 85)\n",
      "(11000, 85)\n",
      "(16000, 87)\n"
     ]
    },
    {
     "data": {
      "text/plain": [
       "(20000, 95)"
      ]
     },
     "execution_count": 39,
     "metadata": {},
     "output_type": "execute_result"
    }
   ],
   "source": [
    "# Update the Queen dataframe with the 19,500 succeeding comments\n",
    "for i in range(39):\n",
    "    df_queen_comments = update_df(df_queen_comments, 'queen')\n",
    "    if i in [10, 20, 30]:\n",
    "            print(df_queen_comments.shape)\n",
    "            \n",
    "df_queen_comments.shape"
   ]
  },
  {
   "cell_type": "markdown",
   "metadata": {},
   "source": [
    "### Export 20,000 Beatles subreddit comments"
   ]
  },
  {
   "cell_type": "code",
   "execution_count": 46,
   "metadata": {},
   "outputs": [],
   "source": [
    "# Export Beatles comments dataframe to a csv\n",
    "df_beatles_comments.to_csv('./data/beatles_coms.csv', index=False)"
   ]
  },
  {
   "cell_type": "markdown",
   "metadata": {},
   "source": [
    "### Export 20,000 Queen subreddit comments"
   ]
  },
  {
   "cell_type": "code",
   "execution_count": 47,
   "metadata": {},
   "outputs": [],
   "source": [
    "# Export Queen comments dataframe to a csv\n",
    "df_queen_comments.to_csv('./data/queen_coms.csv', index=False)"
   ]
  },
  {
   "cell_type": "code",
   "execution_count": null,
   "metadata": {},
   "outputs": [],
   "source": []
  }
 ],
 "metadata": {
  "kernelspec": {
   "display_name": "Python 3",
   "language": "python",
   "name": "python3"
  },
  "language_info": {
   "codemirror_mode": {
    "name": "ipython",
    "version": 3
   },
   "file_extension": ".py",
   "mimetype": "text/x-python",
   "name": "python",
   "nbconvert_exporter": "python",
   "pygments_lexer": "ipython3",
   "version": "3.7.5"
  }
 },
 "nbformat": 4,
 "nbformat_minor": 2
}
